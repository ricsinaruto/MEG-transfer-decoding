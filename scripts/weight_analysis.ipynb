{
 "cells": [
  {
   "cell_type": "code",
   "execution_count": 1,
   "id": "69f639dd",
   "metadata": {},
   "outputs": [],
   "source": [
    "import os\n",
    "import numpy as np\n",
    "import mne\n",
    "import osl\n",
    "import yaml\n",
    "import torch\n",
    "from sklearn.manifold import TSNE\n",
    "from scipy.io import loadmat, savemat\n",
    "import pandas as pd\n",
    "import seaborn as sns\n",
    "import pickle\n",
    "from cichy_data import CichyData\n",
    "import wavenets_classifier\n",
    "import matplotlib.pyplot as plt\n",
    "from sklearn.discriminant_analysis import LinearDiscriminantAnalysis\n",
    "from sklearn.decomposition import PCA\n",
    "\n",
    "plt.rcParams['figure.figsize'] = [17, 12]"
   ]
  },
  {
   "cell_type": "code",
   "execution_count": 13,
   "id": "e1eff7ee",
   "metadata": {},
   "outputs": [],
   "source": [
    "model = torch.load('cichy_data/all_wavenetlinear_semb10/model.pt', map_location=torch.device('cpu'))\n",
    "parameters = [param.detach().numpy().flatten() for param in model.parameters()]"
   ]
  },
  {
   "cell_type": "code",
   "execution_count": 16,
   "id": "499432a3",
   "metadata": {},
   "outputs": [],
   "source": [
    "# exclude subject embeddings, should look at those separately\n",
    "params = np.concatenate([p for i, p in enumerate(parameters) if i==16])"
   ]
  },
  {
   "cell_type": "code",
   "execution_count": 12,
   "id": "f246a71c",
   "metadata": {},
   "outputs": [
    {
     "data": {
      "text/plain": [
       "(-0.6, 0.6)"
      ]
     },
     "execution_count": 12,
     "metadata": {},
     "output_type": "execute_result"
    },
    {
     "data": {
      "image/png": "[encoded data removed]",
      "text/plain": [
       "<Figure size 1224x864 with 1 Axes>"
      ]
     },
     "metadata": {
      "needs_background": "light"
     },
     "output_type": "display_data"
    }
   ],
   "source": [
    "# nonlinear\n",
    "bins = plt.hist(params, bins=1000)\n",
    "plt.ylim(0, 200)\n",
    "plt.xlim(-0.6, 0.6)"
   ]
  },
  {
   "cell_type": "code",
   "execution_count": 17,
   "id": "20b60e14",
   "metadata": {},
   "outputs": [
    {
     "data": {
      "text/plain": [
       "(0.0, 200.0)"
      ]
     },
     "execution_count": 17,
     "metadata": {},
     "output_type": "execute_result"
    },
    {
     "data": {
      "image/png": "[encoded data removed]",
      "text/plain": [
       "<Figure size 1224x864 with 1 Axes>"
      ]
     },
     "metadata": {
      "needs_background": "light"
     },
     "output_type": "display_data"
    }
   ],
   "source": [
    "# linear\n",
    "bins = plt.hist(params, bins=1000)\n",
    "plt.ylim(0, 200)\n",
    "#plt.xlim(-0.6, 0.6)"
   ]
  },
  {
   "cell_type": "code",
   "execution_count": 19,
   "id": "2fee2e2b-9fcb-4ab9-9315-651c9e5a1abc",
   "metadata": {},
   "outputs": [],
   "source": [
    "import random\n",
    "from scipy.io import loadmat, savemat\n",
    "import matplotlib.pyplot as plt"
   ]
  },
  {
   "cell_type": "code",
   "execution_count": 27,
   "id": "75b84ffb-ac40-42dd-85a5-9bde1d2dc29f",
   "metadata": {},
   "outputs": [
    {
     "data": {
      "text/plain": [
       "0.29830028054497904"
      ]
     },
     "execution_count": 27,
     "metadata": {},
     "output_type": "execute_result"
    }
   ],
   "source": [
    "random.random()"
   ]
  },
  {
   "cell_type": "code",
   "execution_count": 32,
   "id": "e1678b28-0325-41c0-b882-ce43ddba0e12",
   "metadata": {},
   "outputs": [],
   "source": [
    "path = 'cichy_data/cond117/trial'\n",
    "path2 = 'cichy_data/cond0118'\n",
    "\n",
    "cont = []\n",
    "epoched = []\n",
    "for i in range(30):\n",
    "    cont.append(np.load(path + str(i) + '.npy').T)\n",
    "\n",
    "for f in os.listdir(path2):\n",
    "    trial = loadmat(os.path.join(path2, f))\n",
    "    epoched.append(trial['F'])\n",
    "\n",
    "cont = np.array(cont)\n",
    "epoched = np.array(epoched)"
   ]
  },
  {
   "cell_type": "code",
   "execution_count": 57,
   "id": "031ea5f8-978b-41c2-922e-fa253638fdb8",
   "metadata": {},
   "outputs": [
    {
     "data": {
      "application/vnd.jupyter.widget-view+json": {
       "model_id": "bd2430b7df454e3b9ea5bcd62a139ed1",
       "version_major": 2,
       "version_minor": 0
      },
      "text/plain": [
       "Canvas(toolbar=Toolbar(toolitems=[('Home', 'Reset original view', 'home', 'home'), ('Back', 'Back to previous …"
      ]
     },
     "metadata": {},
     "output_type": "display_data"
    },
    {
     "data": {
      "text/plain": [
       "[<matplotlib.lines.Line2D at 0x7fd070aa5e20>]"
      ]
     },
     "execution_count": 57,
     "metadata": {},
     "output_type": "execute_result"
    }
   ],
   "source": [
    "%matplotlib widget\n",
    "plt.plot(epoched[0,0,:])\n",
    "plt.plot(cont[24,0,:])"
   ]
  },
  {
   "cell_type": "code",
   "execution_count": 28,
   "id": "d88c27ce-8392-4eae-ae3e-294482c600e0",
   "metadata": {},
   "outputs": [],
   "source": [
    "epoched = np.mean(epoched, axis=(0,1))\n",
    "cont = np.mean(cont, axis=(0,1))"
   ]
  },
  {
   "cell_type": "code",
   "execution_count": 29,
   "id": "5f91d8ce-c68b-4975-8bb0-e230b5311ea0",
   "metadata": {},
   "outputs": [
    {
     "data": {
      "text/plain": [
       "7.24268164660725e-18"
      ]
     },
     "execution_count": 29,
     "metadata": {},
     "output_type": "execute_result"
    }
   ],
   "source": [
    "np.linalg.norm(cont-epoched)"
   ]
  },
  {
   "cell_type": "code",
   "execution_count": 31,
   "id": "b391b9f5-31eb-4a68-8102-69884e10a492",
   "metadata": {},
   "outputs": [
    {
     "data": {
      "application/vnd.jupyter.widget-view+json": {
       "model_id": "ebaec2bed79445fc8e57a453267e24a0",
       "version_major": 2,
       "version_minor": 0
      },
      "text/plain": [
       "Canvas(toolbar=Toolbar(toolitems=[('Home', 'Reset original view', 'home', 'home'), ('Back', 'Back to previous …"
      ]
     },
     "metadata": {},
     "output_type": "display_data"
    },
    {
     "data": {
      "text/plain": [
       "[<matplotlib.lines.Line2D at 0x7fd0c0fa2520>]"
      ]
     },
     "execution_count": 31,
     "metadata": {},
     "output_type": "execute_result"
    }
   ],
   "source": [
    "%matplotlib widget\n",
    "plt.plot(epoched)\n",
    "plt.plot(cont+1e-14)"
   ]
  },
  {
   "cell_type": "code",
   "execution_count": 23,
   "id": "7aa03a31-3535-4768-b94a-80aa91b1f2b9",
   "metadata": {},
   "outputs": [
    {
     "data": {
      "application/vnd.jupyter.widget-view+json": {
       "model_id": "c23076699672414db010719837e58e6b",
       "version_major": 2,
       "version_minor": 0
      },
      "text/plain": [
       "Canvas(toolbar=Toolbar(toolitems=[('Home', 'Reset original view', 'home', 'home'), ('Back', 'Back to previous …"
      ]
     },
     "metadata": {},
     "output_type": "display_data"
    }
   ],
   "source": [
    "%matplotlib widget\n",
    "plt.plot(epoched.T)\n",
    "a=0"
   ]
  },
  {
   "cell_type": "code",
   "execution_count": 24,
   "id": "f9e81d71-719b-48ff-b8d0-199e1dbef284",
   "metadata": {},
   "outputs": [
    {
     "data": {
      "application/vnd.jupyter.widget-view+json": {
       "model_id": "1d157689e22e4dcda086e6b84ca6b26a",
       "version_major": 2,
       "version_minor": 0
      },
      "text/plain": [
       "Canvas(toolbar=Toolbar(toolitems=[('Home', 'Reset original view', 'home', 'home'), ('Back', 'Back to previous …"
      ]
     },
     "metadata": {},
     "output_type": "display_data"
    }
   ],
   "source": [
    "%matplotlib widget\n",
    "plt.plot(cont.T)\n",
    "a=0"
   ]
  },
  {
   "cell_type": "code",
   "execution_count": 2,
   "id": "cd64454d-ce4b-4198-a2f2-e03024fe19b0",
   "metadata": {},
   "outputs": [],
   "source": [
    "mat = np.random.random((4,4))"
   ]
  },
  {
   "cell_type": "code",
   "execution_count": 5,
   "id": "fa62c802-c9be-46f4-9091-d0f900b10654",
   "metadata": {},
   "outputs": [],
   "source": [
    "arr = np.triu(mat).reshape(-1)"
   ]
  },
  {
   "cell_type": "code",
   "execution_count": 6,
   "id": "36e44785-251e-41ba-a0af-837fe31313f7",
   "metadata": {},
   "outputs": [
    {
     "data": {
      "text/plain": [
       "array([0.18646651, 0.16935914, 0.42110396, 0.87089396, 0.98524091,\n",
       "       0.5066439 , 0.38295525, 0.30939625, 0.4500072 , 0.91038434])"
      ]
     },
     "execution_count": 6,
     "metadata": {},
     "output_type": "execute_result"
    }
   ],
   "source": [
    "arr[arr!=0]"
   ]
  }
 ],
 "metadata": {
  "kernelspec": {
   "display_name": "Python 3 (ipykernel)",
   "language": "python",
   "name": "python3"
  },
  "language_info": {
   "codemirror_mode": {
    "name": "ipython",
    "version": 3
   },
   "file_extension": ".py",
   "mimetype": "text/x-python",
   "name": "python",
   "nbconvert_exporter": "python",
   "pygments_lexer": "ipython3",
   "version": "3.8.5"
  }
 },
 "nbformat": 4,
 "nbformat_minor": 5
}
