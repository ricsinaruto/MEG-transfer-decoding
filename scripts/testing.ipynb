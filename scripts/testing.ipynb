{
 "cells": [
  {
   "cell_type": "code",
   "execution_count": 1,
   "id": "7d3ba589-dba3-4bd1-bd9f-0cabb10a1fa1",
   "metadata": {},
   "outputs": [],
   "source": [
    "import os\n",
    "import torch\n",
    "import numpy as np\n",
    "import matplotlib.pyplot as plt"
   ]
  },
  {
   "cell_type": "code",
   "execution_count": 134,
   "id": "559c449f-e9ff-48d0-a9c6-eeaebfd8c17a",
   "metadata": {},
   "outputs": [
    {
     "data": {
      "text/plain": [
       "tensor([2, 0])"
      ]
     },
     "execution_count": 134,
     "metadata": {},
     "output_type": "execute_result"
    }
   ],
   "source": [
    "weights = torch.tensor([0.1, 0.2, 0.6, 0.1], dtype=torch.float) # create a tensor of weights\n",
    "torch.multinomial(weights, 2)"
   ]
  },
  {
   "cell_type": "code",
   "execution_count": 74,
   "id": "596d2e1a-8cbd-4140-a38f-e341b7c78dd4",
   "metadata": {},
   "outputs": [
    {
     "data": {
      "text/plain": [
       "torch.Size([2])"
      ]
     },
     "execution_count": 74,
     "metadata": {},
     "output_type": "execute_result"
    }
   ],
   "source": [
    "chn_ids.shape"
   ]
  },
  {
   "cell_type": "code",
   "execution_count": 8,
   "id": "12cdc43c-af86-43c2-9fd5-85428f41c685",
   "metadata": {},
   "outputs": [],
   "source": [
    "cond = torch.rand(2, 4, 3)\n",
    "cond_ind = torch.randint(low=0, high=4, size=(2, 1, 3))\n",
    "cond_ind = (cond_ind > 0).float()"
   ]
  },
  {
   "cell_type": "code",
   "execution_count": 15,
   "id": "16d7c61b-0d42-4fd1-9055-b5ef53091995",
   "metadata": {},
   "outputs": [
    {
     "data": {
      "text/plain": [
       "tensor([[[1., 1., 1.]],\n",
       "\n",
       "        [[1., 0., 1.]]])"
      ]
     },
     "execution_count": 15,
     "metadata": {},
     "output_type": "execute_result"
    }
   ],
   "source": [
    "cond_ind"
   ]
  },
  {
   "cell_type": "code",
   "execution_count": 13,
   "id": "bd1f093d-bbf6-44a9-8061-61b3c685beec",
   "metadata": {},
   "outputs": [
    {
     "data": {
      "text/plain": [
       "tensor([[[0.7144, 0.2697, 0.8196],\n",
       "         [0.2590, 0.1846, 0.1688],\n",
       "         [0.6476, 0.5651, 0.9869],\n",
       "         [0.4280, 0.5500, 0.9660]],\n",
       "\n",
       "        [[0.5265, 0.4155, 0.6843],\n",
       "         [0.7053, 0.8829, 0.6416],\n",
       "         [0.9878, 0.3706, 0.4291],\n",
       "         [0.3935, 0.9955, 0.1402]]])"
      ]
     },
     "execution_count": 13,
     "metadata": {},
     "output_type": "execute_result"
    }
   ],
   "source": [
    "cond"
   ]
  },
  {
   "cell_type": "code",
   "execution_count": 14,
   "id": "3c827ecc-3dd7-4127-81a6-e1a3888f9b87",
   "metadata": {},
   "outputs": [
    {
     "data": {
      "text/plain": [
       "tensor([[[0.7144, 0.2697, 0.8196],\n",
       "         [0.2590, 0.1846, 0.1688],\n",
       "         [0.6476, 0.5651, 0.9869],\n",
       "         [0.4280, 0.5500, 0.9660]],\n",
       "\n",
       "        [[0.5265, 0.0000, 0.6843],\n",
       "         [0.7053, 0.0000, 0.6416],\n",
       "         [0.9878, 0.0000, 0.4291],\n",
       "         [0.3935, 0.0000, 0.1402]]])"
      ]
     },
     "execution_count": 14,
     "metadata": {},
     "output_type": "execute_result"
    }
   ],
   "source": [
    "cond*cond_ind"
   ]
  },
  {
   "cell_type": "code",
   "execution_count": null,
   "id": "d22ee93d-2eca-4738-8e77-f54038cb6109",
   "metadata": {},
   "outputs": [],
   "source": [
    "targets = np.random.rand(3, 4, 2)\n",
    "chind = np.random.randint(low=0, high=4, size=(3))"
   ]
  },
  {
   "cell_type": "code",
   "execution_count": null,
   "id": "e77407e0-e7d0-46ef-9f3a-8a9bdfda0f05",
   "metadata": {},
   "outputs": [],
   "source": [
    "targets"
   ]
  },
  {
   "cell_type": "code",
   "execution_count": null,
   "id": "5b1129be-5c80-43ca-b878-82fe23f8c057",
   "metadata": {},
   "outputs": [],
   "source": [
    "chind"
   ]
  },
  {
   "cell_type": "code",
   "execution_count": null,
   "id": "c2f75e62-0e1c-4e2f-a46c-00cacacd9f15",
   "metadata": {},
   "outputs": [],
   "source": [
    "targets[[0,1,2], chind, :].shape"
   ]
  },
  {
   "cell_type": "code",
   "execution_count": null,
   "id": "47be40ab-0cf0-4a69-a968-2825f3d1570a",
   "metadata": {},
   "outputs": [],
   "source": []
  },
  {
   "cell_type": "code",
   "execution_count": null,
   "id": "56ae8a64-a692-4570-8bb7-d8c7a1979fcb",
   "metadata": {},
   "outputs": [],
   "source": [
    "bins = np.linspace(-1, 1, 255 + 1)\n",
    "digitized = np.digitize([1, 0.1, 0.2, -0.5], bins) - 1"
   ]
  },
  {
   "cell_type": "code",
   "execution_count": null,
   "id": "86256ba7-17f2-4d43-9fc7-5c2169b19cd5",
   "metadata": {},
   "outputs": [],
   "source": [
    "signal = np.array([1, 0.1, 0.2, -0.5, -1])\n",
    "digitized = ((signal + 1) / 2 * 255+0.5).astype(np.int32)\n",
    "recon = 2 * ((digitized).astype(np.float32) / 255) - 1"
   ]
  },
  {
   "cell_type": "code",
   "execution_count": null,
   "id": "4be931ba-75ed-4cfd-b55d-c0e1dfaafe1d",
   "metadata": {},
   "outputs": [],
   "source": [
    "recon"
   ]
  },
  {
   "cell_type": "code",
   "execution_count": null,
   "id": "147cd740-0ee8-4812-8dfa-c04e6657ed29",
   "metadata": {},
   "outputs": [],
   "source": [
    "username = input(\"Enter username:\")"
   ]
  },
  {
   "cell_type": "markdown",
   "id": "d823efdb-7f0f-484d-a99f-0ef21c2fcc17",
   "metadata": {},
   "source": [
    "## Checking quantized data"
   ]
  },
  {
   "cell_type": "code",
   "execution_count": 55,
   "id": "a04b25bf-7056-47ff-ab6a-32733635935d",
   "metadata": {},
   "outputs": [],
   "source": [
    "data = loadmat(os.path.join('cichy_data', 'subj1_quantized', 'ch0.mat'))['x_train_t'][0]\n",
    "target = loadmat(os.path.join('cichy_data', 'subj1_quantized', 'ch306.mat'))['x_test_t'][0]\n",
    "cond = loadmat(os.path.join('cichy_data', 'subj1_quantized', 'ch612.mat'))['x_test_t'][0]\n",
    "subid = loadmat(os.path.join('cichy_data', 'subj1_quantized', 'ch613.mat'))"
   ]
  },
  {
   "cell_type": "code",
   "execution_count": 32,
   "id": "94e0a994-995a-4d62-9885-43deb7c074b8",
   "metadata": {},
   "outputs": [
    {
     "data": {
      "application/vnd.jupyter.widget-view+json": {
       "model_id": "52c950a15c67477cb2299248fcb09604",
       "version_major": 2,
       "version_minor": 0
      },
      "text/plain": [
       "Canvas(toolbar=Toolbar(toolitems=[('Home', 'Reset original view', 'home', 'home'), ('Back', 'Back to previous …"
      ]
     },
     "metadata": {},
     "output_type": "display_data"
    },
    {
     "data": {
      "text/plain": [
       "[<matplotlib.lines.Line2D at 0x7fa1a9abf2b0>]"
      ]
     },
     "execution_count": 32,
     "metadata": {},
     "output_type": "execute_result"
    }
   ],
   "source": [
    "%matplotlib widget\n",
    "plt.plot(cond[:10000])"
   ]
  },
  {
   "cell_type": "code",
   "execution_count": 43,
   "id": "0f1e2aa9-0602-4c3b-840b-cb1826620de5",
   "metadata": {},
   "outputs": [],
   "source": [
    "target = 2 * ((target).astype(np.float32) / 255) - 1"
   ]
  },
  {
   "cell_type": "code",
   "execution_count": 51,
   "id": "9889ab7c-fbdf-4151-a355-ea5c027a75e6",
   "metadata": {},
   "outputs": [
    {
     "data": {
      "application/vnd.jupyter.widget-view+json": {
       "model_id": "6576bb663ee64b3e9641a2cdca9395ce",
       "version_major": 2,
       "version_minor": 0
      },
      "text/plain": [
       "Canvas(toolbar=Toolbar(toolitems=[('Home', 'Reset original view', 'home', 'home'), ('Back', 'Back to previous …"
      ]
     },
     "metadata": {},
     "output_type": "display_data"
    },
    {
     "data": {
      "text/plain": [
       "[<matplotlib.lines.Line2D at 0x7fa18a03f130>]"
      ]
     },
     "execution_count": 51,
     "metadata": {},
     "output_type": "execute_result"
    }
   ],
   "source": [
    "%matplotlib widget\n",
    "plt.plot(data[50000:52000])"
   ]
  },
  {
   "cell_type": "code",
   "execution_count": 66,
   "id": "68850dd4-5add-40ea-b754-42d6e7bbd9c0",
   "metadata": {},
   "outputs": [
    {
     "data": {
      "application/vnd.jupyter.widget-view+json": {
       "model_id": "e7c18350322e40b7812db7f112207495",
       "version_major": 2,
       "version_minor": 0
      },
      "text/plain": [
       "Canvas(toolbar=Toolbar(toolitems=[('Home', 'Reset original view', 'home', 'home'), ('Back', 'Back to previous …"
      ]
     },
     "metadata": {},
     "output_type": "display_data"
    }
   ],
   "source": [
    "%matplotlib widget\n",
    "plt.hist(data, bins=100)\n",
    "plt.show()"
   ]
  },
  {
   "cell_type": "markdown",
   "id": "c7ba11fd-2d00-49ac-a01f-93097448d4e7",
   "metadata": {},
   "source": [
    "## Checking outputs from generative decoder"
   ]
  },
  {
   "cell_type": "code",
   "execution_count": 49,
   "id": "6e546dbc-a85c-4e6e-ad76-fd9b90774bbd",
   "metadata": {},
   "outputs": [],
   "source": [
    "outputs = torch.Tensor(np.load(os.path.join('cichy_data', 'subj1_quantized', 'outputs.npy')))\n",
    "targets = torch.Tensor(np.load(os.path.join('cichy_data', 'subj1_quantized', 'targets.npy')))\n",
    "targets = targets.long()\n",
    "\n",
    "targets = targets.reshape(8, -1)\n",
    "outputs = outputs.reshape(8, -1, outputs.shape[1])"
   ]
  },
  {
   "cell_type": "code",
   "execution_count": 21,
   "id": "24afea64-a912-4794-a2fc-70ca48b8c61c",
   "metadata": {},
   "outputs": [],
   "source": [
    "loss = torch.nn.CrossEntropyLoss(reduction='none')"
   ]
  },
  {
   "cell_type": "code",
   "execution_count": 50,
   "id": "1b43ace4-33ae-411c-bd7f-792cc217c3c4",
   "metadata": {},
   "outputs": [],
   "source": [
    "out_inds = torch.argmax(outputs,dim=-1)"
   ]
  },
  {
   "cell_type": "code",
   "execution_count": 26,
   "id": "31f549c9-c647-440d-bee0-b39cc453bd2a",
   "metadata": {},
   "outputs": [
    {
     "data": {
      "text/plain": [
       "tensor([ 37, 218,  92, 133,  92, 151,  92,  92,  92, 101,  92,  34,  79,  86,\n",
       "         35, 244, 241, 242, 242,  92,  65,  25,  92,  34, 133, 229, 151,  86,\n",
       "         94,  94,  65,  93,  95, 232, 133,  92, 172,  79,  92, 241, 229, 254,\n",
       "         92,  86, 133, 218, 228,  34, 137,  92,  92, 181,  35,  92, 253,  65,\n",
       "         92, 151,  92,  80, 247,  28, 108, 227, 214,  71,  35,  90, 163,  92,\n",
       "         62, 218, 113, 185,  83, 242, 181,  30, 133,  92, 209, 209,  37,  92,\n",
       "        166,  75, 242, 146,  92, 131,  92, 133,  86, 133,   0,  34,  92, 214,\n",
       "        193, 151, 240, 230,  93, 209,  65,  92, 218, 218,  82,  65,  92, 209,\n",
       "         92, 133,  92, 255,  92, 214, 138,  94, 230,  92,  79, 214,  86, 181,\n",
       "        242, 149,  35,  92,  35,  92,   3,  37, 122, 214,  20,  79, 101,  87,\n",
       "         81,  69,  92, 138, 199, 193,  92, 218, 198,  92,  92,  92,  92,  35,\n",
       "         79,  92,  92,  35,  70,  92, 225,  92, 159, 193,  28, 201,  92,  82,\n",
       "         92,  82, 163,  86,  86, 242,  82,   0, 241, 235, 169, 209, 209,  92,\n",
       "        226, 123, 229, 209, 116,  82,  13, 218,  50, 236,  86,  61,  62, 113,\n",
       "         69, 131, 164,  32, 117,  17, 157,  64, 112, 156, 160,  65, 241, 110,\n",
       "        242, 187, 161,  34,  35,  45,  35, 212,   3, 214, 222,  28,  58, 122,\n",
       "         37,  10, 209,  20,  37,   0, 193,  42,  92,  37,  47,  38,  92,  30,\n",
       "         86,  25,  24,  92,  92,  25,  71,  50,  92,  71,  71,  35, 229, 155,\n",
       "         92,  65, 229, 242])"
      ]
     },
     "execution_count": 26,
     "metadata": {},
     "output_type": "execute_result"
    }
   ],
   "source": [
    "out_inds[5]"
   ]
  },
  {
   "cell_type": "code",
   "execution_count": 27,
   "id": "85afddc3-ced8-4679-990e-1c369246ed2d",
   "metadata": {},
   "outputs": [
    {
     "data": {
      "text/plain": [
       "tensor([226., 233., 234., 218., 216., 208., 203., 218., 220., 216., 225., 228.,\n",
       "        201., 188., 219., 223., 190., 201., 226., 214., 227., 228., 236., 236.,\n",
       "        240., 237., 239., 238., 221., 225., 237., 224., 199., 181., 213., 216.,\n",
       "        208., 233., 235., 233., 222., 234., 231., 230., 223., 215., 205., 234.,\n",
       "        220., 223., 190., 194., 161., 219., 220., 214., 213., 222., 222., 224.,\n",
       "        229., 193., 194., 217., 203., 207.,  92., 165.,  53., 216., 207., 211.,\n",
       "        200., 211., 224.,  85., 103.,  36.,  42.,  37.,  59., 140., 174.,  74.,\n",
       "         51.,  33.,  27., 139.,  46.,  41.,  67., 195.,  49.,  31.,  28.,  32.,\n",
       "         24.,  27.,  24.,  22.,  33., 138.,  37.,  30.,  31.,  37.,  57.,  43.,\n",
       "         62., 102., 209., 222., 204., 195., 187., 223., 186., 200., 147., 213.,\n",
       "        213., 186., 223., 183., 231., 209., 221., 232., 224., 217., 221., 197.,\n",
       "        204.,  78., 203.,  40.,  34.,  48., 118.,  37.,  43.,  37.,  37.,  43.,\n",
       "        189.,  78.,  87.,  59.,  59., 127., 202.,  57., 211., 203., 216., 216.,\n",
       "        205., 202., 215., 162., 206., 212., 218., 170., 198., 169.,  84.,  98.,\n",
       "        204., 178.,  53.,  44.,  36.,  43.,  58.,  32.,  40.,  27.,  36.,  27.,\n",
       "         27.,  51.,  89., 208., 206.,  73., 210., 211., 224., 211., 220., 221.,\n",
       "        227., 230., 216., 225., 224., 146., 148., 144., 186., 165., 136., 221.,\n",
       "        229., 225., 231., 231., 232., 226., 231., 220., 217., 188., 123.,  36.,\n",
       "         88.,  66., 189., 190., 212., 213., 220., 226., 213., 221., 182.,  63.,\n",
       "         46.,  40.,  40.,  36.,  33.,  31., 195., 177., 191., 183.,  60.,  63.,\n",
       "        100., 208.,  75., 191.,  51.,  62.,  41.,  60.,  50.,  58.,  46.,  69.,\n",
       "         48.,  54.,  41.,  41.])"
      ]
     },
     "execution_count": 27,
     "metadata": {},
     "output_type": "execute_result"
    }
   ],
   "source": [
    "targets[5]"
   ]
  },
  {
   "cell_type": "code",
   "execution_count": 57,
   "id": "459bc2d5-8143-4a43-bf75-420285f44ed2",
   "metadata": {},
   "outputs": [
    {
     "data": {
      "text/plain": [
       "[<matplotlib.lines.Line2D at 0x7fcae0ba4790>,\n",
       " <matplotlib.lines.Line2D at 0x7fcae0ba4af0>]"
      ]
     },
     "execution_count": 57,
     "metadata": {},
     "output_type": "execute_result"
    },
    {
     "data": {
      "image/png": "[encoded data removed]",
      "text/plain": [
       "<Figure size 432x288 with 1 Axes>"
      ]
     },
     "metadata": {
      "needs_background": "light"
     },
     "output_type": "display_data"
    }
   ],
   "source": [
    "plt.plot(out_inds[2], 'r', targets[2], 'b')"
   ]
  },
  {
   "cell_type": "code",
   "execution_count": 42,
   "id": "2974c24e-b28d-4496-be35-e2bda0646035",
   "metadata": {},
   "outputs": [
    {
     "name": "stdout",
     "output_type": "stream",
     "text": [
      "18.60439109802246\n",
      "17.260879516601562\n",
      "22.203916549682617\n",
      "16.86305046081543\n",
      "16.920394897460938\n",
      "13.795106887817383\n",
      "18.364038467407227\n",
      "22.447723388671875\n"
     ]
    }
   ],
   "source": [
    "for i in range(8):\n",
    "    loss_val = torch.mean(loss(outputs[i], targets[i].long()))\n",
    "    print(loss_val.item())"
   ]
  },
  {
   "cell_type": "code",
   "execution_count": 45,
   "id": "fef95afc-8889-43be-841c-8677e3e916e8",
   "metadata": {},
   "outputs": [
    {
     "data": {
      "text/plain": [
       "tensor(18.3074)"
      ]
     },
     "execution_count": 45,
     "metadata": {},
     "output_type": "execute_result"
    }
   ],
   "source": [
    "torch.mean(loss(outputs.reshape(-1, outputs.shape[2]), targets.reshape(-1)))"
   ]
  },
  {
   "cell_type": "code",
   "execution_count": 41,
   "id": "52de6a1e-2147-4af1-b518-5ba95968dd23",
   "metadata": {},
   "outputs": [
    {
     "data": {
      "text/plain": [
       "torch.Size([8, 256])"
      ]
     },
     "execution_count": 41,
     "metadata": {},
     "output_type": "execute_result"
    }
   ],
   "source": [
    "targets.shape"
   ]
  }
 ],
 "metadata": {
  "kernelspec": {
   "display_name": "Python 3 (ipykernel)",
   "language": "python",
   "name": "python3"
  },
  "language_info": {
   "codemirror_mode": {
    "name": "ipython",
    "version": 3
   },
   "file_extension": ".py",
   "mimetype": "text/x-python",
   "name": "python",
   "nbconvert_exporter": "python",
   "pygments_lexer": "ipython3",
   "version": "3.8.5"
  }
 },
 "nbformat": 4,
 "nbformat_minor": 5
}
