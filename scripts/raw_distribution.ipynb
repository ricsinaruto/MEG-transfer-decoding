{
 "cells": [
  {
   "cell_type": "code",
   "execution_count": 1,
   "id": "999b6d4d-f1c4-4264-9ffa-a5645615386c",
   "metadata": {},
   "outputs": [],
   "source": [
    "import os\n",
    "import numpy as np\n",
    "import mne\n",
    "import osl\n",
    "import scipy\n",
    "import yaml\n",
    "import pandas as pd\n",
    "from sklearn.preprocessing import MinMaxScaler, MaxAbsScaler, RobustScaler, StandardScaler\n",
    "from sklearn.decomposition import PCA\n",
    "from sklearn.cluster import MiniBatchKMeans\n",
    "import seaborn as sns\n",
    "import numpy as np\n",
    "import pickle\n",
    "import matplotlib.pyplot as plt"
   ]
  },
  {
   "cell_type": "code",
   "execution_count": 2,
   "id": "3b1a62aa-31a3-4341-a75d-f2a97224187e",
   "metadata": {},
   "outputs": [],
   "source": [
    "clip_num = 50"
   ]
  },
  {
   "cell_type": "code",
   "execution_count": 3,
   "id": "a7cbdb8f-408a-4f25-b951-ba4e0795443b",
   "metadata": {},
   "outputs": [],
   "source": [
    "def encode(x, pca, robust, maxabs, robust2, mu=255):\n",
    "    x = robust.fit_transform(x.T)\n",
    "    x = pca.fit_transform(x)\n",
    "    print(np.mean(x, axis=0))\n",
    "    print(np.std(x, axis=0))\n",
    "    \n",
    "    x = clip(x.T).T\n",
    "    x = robust2.fit_transform(x)\n",
    "    x = maxabs.fit_transform(x).T\n",
    "    print('-------------------')\n",
    "    print(np.mean(x, axis=1))\n",
    "    print(np.std(x, axis=1))\n",
    "    \n",
    "    \n",
    "    \n",
    "    x = x.reshape(-1)\n",
    "    x = np.sign(x)*np.log(1+mu*np.abs(x))/np.log(1+mu)\n",
    "    \n",
    "    bins = np.linspace(-1, 1, mu + 1)\n",
    "    x = np.digitize(x, bins) - 1\n",
    "\n",
    "    return x"
   ]
  },
  {
   "cell_type": "code",
   "execution_count": 4,
   "id": "5a3a7c07-fe48-45cd-8a05-fee41a310680",
   "metadata": {},
   "outputs": [],
   "source": [
    "def decode(x, pca, robust, maxabs, robust2, mu=255, shape=(306, 2857000)):\n",
    "    x = x / (mu + 1) * 2 - 1\n",
    "    x = np.sign(x)*((mu+1)**np.abs(x)-1) / mu\n",
    "    \n",
    "    x = x.reshape(shape)\n",
    "    x = maxabs.inverse_transform(x.T)\n",
    "    x = robust2.inverse_transform(x)\n",
    "    x = pca.inverse_transform(x)\n",
    "    x = robust.inverse_transform(x)\n",
    "    \n",
    "    return x.T"
   ]
  },
  {
   "cell_type": "code",
   "execution_count": 5,
   "id": "ce20cfb2-5754-47bf-9614-3c242f02c5b8",
   "metadata": {},
   "outputs": [],
   "source": [
    "def clip(x):\n",
    "    shape = x.shape\n",
    "    \n",
    "    sorted_ = np.sort(x)\n",
    "    clip_vals = sorted_[:, -clip_num]\n",
    "    \n",
    "    for i in range(shape[0]):\n",
    "        x[i, :] = np.clip(x[i, :], -clip_vals[i], clip_vals[i])\n",
    "\n",
    "    return x"
   ]
  },
  {
   "cell_type": "code",
   "execution_count": 6,
   "id": "041cb062-07af-4572-87f6-8815ab8cf762",
   "metadata": {},
   "outputs": [],
   "source": [
    "outdir = os.path.join('rich_data', 'subj2', 'sess4', 'oslpy_deb')"
   ]
  },
  {
   "cell_type": "code",
   "execution_count": 7,
   "id": "538086ab-71d1-4a7f-a17d-1fc1cc227978",
   "metadata": {},
   "outputs": [
    {
     "name": "stdout",
     "output_type": "stream",
     "text": [
      "Opening raw data file rich_data/subj2/sess4/oslpy_deb/task_part1_4_tsss_preproc_raw.fif...\n",
      "    Range : 58000 ... 1401999 =     58.000 ...  1401.999 secs\n",
      "Ready.\n",
      "Opening raw data file /Users/ricsi/Documents/GitHub/MEG-transfer-decoding/scripts/rich_data/subj2/sess4/oslpy_deb/task_part1_4_tsss_preproc_raw-1.fif...\n",
      "    Range : 1402000 ... 2745999 =   1402.000 ...  2745.999 secs\n",
      "Ready.\n",
      "Opening raw data file /Users/ricsi/Documents/GitHub/MEG-transfer-decoding/scripts/rich_data/subj2/sess4/oslpy_deb/task_part1_4_tsss_preproc_raw-2.fif...\n",
      "    Range : 2746000 ... 2914999 =   2746.000 ...  2914.999 secs\n",
      "Ready.\n",
      "Reading 0 ... 2856999  =      0.000 ...  2856.999 secs...\n"
     ]
    }
   ],
   "source": [
    "path = os.path.join(outdir, 'task_part1_4_tsss_preproc_raw.fif')\n",
    "raw = mne.io.read_raw_fif(path, preload=True)"
   ]
  },
  {
   "cell_type": "code",
   "execution_count": 8,
   "id": "e754f142-b87a-41f1-8a31-545ada325d9f",
   "metadata": {},
   "outputs": [],
   "source": [
    "raw_data = raw.get_data(picks='meg')"
   ]
  },
  {
   "cell_type": "code",
   "execution_count": 9,
   "id": "2382c683-a473-4ca0-afb5-433eb58a05d1",
   "metadata": {},
   "outputs": [],
   "source": [
    "data = clip(raw_data)"
   ]
  },
  {
   "cell_type": "code",
   "execution_count": 10,
   "id": "ebba4dbf-02dc-427d-8484-741bba109b6d",
   "metadata": {},
   "outputs": [],
   "source": [
    "pca = PCA(306)\n",
    "robust_scaler = RobustScaler()\n",
    "robust_scaler2 = RobustScaler()\n",
    "maxabs = MaxAbsScaler()"
   ]
  },
  {
   "cell_type": "code",
   "execution_count": 35,
   "id": "d7fa5282-a627-447b-b899-9205fc04bfeb",
   "metadata": {},
   "outputs": [
    {
     "data": {
      "application/vnd.jupyter.widget-view+json": {
       "model_id": "f6ed9ffa27d84f398c5fa444f89afbcc",
       "version_major": 2,
       "version_minor": 0
      },
      "text/plain": [
       "Canvas(toolbar=Toolbar(toolitems=[('Home', 'Reset original view', 'home', 'home'), ('Back', 'Back to previous …"
      ]
     },
     "metadata": {},
     "output_type": "display_data"
    }
   ],
   "source": [
    "%matplotlib widget\n",
    "plt.hist(pca_data.reshape(-1), bins=256)\n",
    "#plt.xlim(-1, 1)\n",
    "plt.show()"
   ]
  },
  {
   "cell_type": "code",
   "execution_count": 102,
   "id": "373b1e4e-829a-4294-87c8-e25973f0142a",
   "metadata": {},
   "outputs": [
    {
     "data": {
      "image/png": "[encoded data removed]",
      "text/plain": [
       "<Figure size 432x288 with 1 Axes>"
      ]
     },
     "metadata": {
      "needs_background": "light"
     },
     "output_type": "display_data"
    }
   ],
   "source": [
    "plt.hist(raw_data[100], bins=256)\n",
    "#plt.xlim(-1, 1)\n",
    "plt.show()"
   ]
  },
  {
   "cell_type": "code",
   "execution_count": 11,
   "id": "dbcc7d41-0653-4560-bdc2-d42e1326cdc2",
   "metadata": {},
   "outputs": [
    {
     "name": "stdout",
     "output_type": "stream",
     "text": [
      "[ 7.64013750e-18  2.19454991e-17 -2.71384051e-17 -6.84428985e-18\n",
      " -1.59169531e-17  2.46513812e-17 -4.77508594e-19  5.65051836e-18\n",
      " -4.57612402e-18  7.48096797e-18  1.76280256e-17 -3.50172969e-18\n",
      "  8.51556992e-18 -3.38235254e-18 -1.40069188e-17 -8.99307852e-18\n",
      "  8.99307852e-18 -4.92430737e-18 -8.15743848e-19 -4.25778496e-18\n",
      " -3.35648749e-17 -3.66089922e-18  4.83477451e-18  4.94917761e-18\n",
      " -9.47058711e-18  4.48161712e-18  1.11717115e-17 -1.15397910e-18\n",
      " -1.43700242e-17 -4.91435928e-18  6.82936770e-18 -7.85899561e-19\n",
      "  1.60363303e-17 -1.91799285e-17 -2.67106370e-18 -1.22560539e-17\n",
      " -7.70480012e-18 -6.28719649e-18 -1.01321355e-17 -9.29152139e-18\n",
      "  1.10622824e-17 -1.59269012e-17 -8.35640039e-19 -9.63224367e-18\n",
      "  1.19128446e-17 -4.77508594e-18  9.72923760e-18  7.45112368e-18\n",
      " -4.67560498e-18  3.16349443e-18  1.57478355e-17  9.85607582e-18\n",
      "  1.45242197e-18  1.97967105e-17 -1.11020748e-17  5.41176406e-18\n",
      "  1.07041510e-17  5.72015503e-18  3.81509470e-18 -6.95371890e-18\n",
      " -7.01340747e-18 -1.64442022e-17 -5.01384024e-18  1.45142716e-17\n",
      " -1.05549295e-17  8.37380956e-18 -5.06358071e-18 -4.52140950e-18\n",
      "  1.62800586e-17 -1.06668456e-17 -9.60115587e-18 -3.82006875e-18\n",
      " -2.59147893e-18  1.78891631e-17 -1.07980361e-17  2.27357510e-17\n",
      " -7.47257426e-18 -1.08963513e-17  1.69568400e-17  1.09739931e-17\n",
      " -1.06225455e-17  2.69552979e-17  4.10296772e-18 -3.98732111e-18\n",
      "  5.50114149e-18  3.90361721e-18 -6.85532601e-18 -8.64240814e-18\n",
      "  1.13551295e-17 -6.72273655e-18  1.16812016e-17  6.05683589e-18\n",
      "  1.06044369e-17 -7.74171689e-18  4.14338186e-18 -7.04760405e-19\n",
      "  1.87195182e-18 -1.13660102e-17  1.41449486e-19 -2.15749326e-18\n",
      "  7.14630781e-18 -2.09416741e-17  1.89893603e-17 -2.02554109e-17\n",
      "  3.16085197e-18  8.38608924e-18 -3.30666929e-17  1.11250798e-17\n",
      " -6.36507142e-18  1.12268923e-17  1.67283447e-18 -2.94370369e-18\n",
      " -6.75615593e-18 -1.60517187e-17 -7.73604336e-18  1.08686054e-17\n",
      " -1.55563347e-18 -4.29714989e-18 -1.00873302e-17  1.35985805e-18\n",
      " -1.21315473e-17  2.53136873e-17  8.80892217e-19 -1.12298845e-18\n",
      " -1.25802219e-17 -1.48897442e-17  7.47859753e-18 -5.50347307e-18\n",
      "  1.10548214e-18  1.84586041e-17 -7.26216815e-18  5.26145456e-18\n",
      "  9.28761598e-18  6.02500976e-18 -9.53169407e-18  6.86710052e-19\n",
      "  8.37489763e-18 -1.45483128e-18 -2.72196997e-18 -1.24217324e-17\n",
      "  2.02453463e-18 -9.22749995e-18  2.19628500e-18  9.36924089e-18\n",
      " -1.09440322e-17  8.10458922e-19 -1.43012231e-17 -1.80744464e-18\n",
      "  5.80172164e-18 -1.01961763e-17 -2.02508255e-17 -7.66884514e-18\n",
      "  1.01462804e-18 -9.75768294e-18  9.56501630e-18  1.18529812e-17\n",
      "  2.66947045e-18  7.45112368e-18 -7.38995844e-18  1.66529568e-18\n",
      " -1.52128145e-17  5.58855649e-18 -5.98300237e-18 -5.47436712e-19\n",
      "  1.98048224e-18  3.29009950e-18 -1.52816740e-17  1.30450817e-17\n",
      " -5.04203298e-18  6.64964136e-18  7.55287794e-19 -1.04071848e-17\n",
      "  1.88374187e-17 -2.45927029e-17 -2.09142391e-17  7.99850211e-18\n",
      " -9.52423299e-18  2.88553065e-18 -1.09505218e-17  1.64813133e-17\n",
      " -1.98593718e-18 -8.74095647e-18  5.97002322e-18 -1.41702511e-17\n",
      " -6.19727503e-18 -1.13599287e-17 -1.12893691e-17  9.47200549e-18\n",
      "  4.28385985e-18  1.02665902e-17  2.53768295e-17 -1.38246665e-17\n",
      "  1.70558061e-17 -1.60932209e-17 -4.66865394e-18 -1.54419704e-17\n",
      " -4.29794651e-18  8.13701768e-18 -4.05874533e-18  1.52799447e-17\n",
      " -2.45859802e-18 -1.80162345e-17 -7.74461194e-18  1.11050039e-17\n",
      "  2.02846140e-17  3.38425667e-18  2.67837904e-18  8.91009352e-18\n",
      " -3.13930424e-18 -7.80336788e-18 -3.10646678e-17  1.26429464e-18\n",
      "  6.59480540e-18  9.28806287e-18 -2.88794481e-18 -1.25807854e-17\n",
      " -5.00414473e-18 -1.86049160e-17  2.62068203e-18 -1.02279248e-17\n",
      "  7.62257290e-18  5.12171490e-19  3.17815427e-18  3.95825402e-18\n",
      " -2.10344712e-17 -1.09599453e-17  2.02621045e-18 -9.17540846e-18\n",
      " -4.04170533e-18 -2.21753157e-19 -4.27597132e-18 -9.76343418e-18\n",
      "  1.25283830e-17  5.07625871e-18 -2.13961000e-17  8.87960805e-18\n",
      " -1.10396661e-18 -1.03386945e-17 -1.35736811e-17  3.13711352e-18\n",
      " -1.42229110e-18 -2.80114671e-18  5.82379398e-18 -8.01462404e-18\n",
      " -1.26354416e-17 -2.96981745e-18 -1.37864480e-17  1.05341979e-18\n",
      " -2.09414118e-17 -1.53726082e-17  7.29068635e-18  1.89968991e-17\n",
      "  3.21409954e-18  4.24554414e-18 -1.07207247e-18 -1.49959965e-17\n",
      "  5.07262653e-18 -2.67847328e-17 -1.71314563e-17  1.32373306e-17\n",
      "  3.12879268e-18 -5.21806765e-18  1.49469409e-18  1.03336136e-17\n",
      " -1.18094388e-17  5.15072856e-18 -5.50729104e-18 -2.44184947e-19\n",
      "  8.32117889e-18  9.16862743e-18  2.84791441e-18 -2.03367808e-17\n",
      " -4.55421563e-18  1.08409859e-17  2.21282468e-18  9.21080969e-18\n",
      " -1.02898186e-17  9.39573352e-18  4.53469953e-18 -2.25405487e-18\n",
      " -1.22307756e-17 -1.63736280e-18  1.65907035e-17  1.36601926e-17\n",
      "  2.91479447e-18  1.46719499e-17 -8.45850438e-18  1.36463598e-17\n",
      " -3.12034068e-18  1.12745829e-17  2.41684273e-17  4.67496501e-18\n",
      "  5.32752584e-19 -9.77989128e-18  5.66086963e-18 -4.87300522e-18\n",
      "  9.20248399e-18  1.60897721e-17 -2.97009626e-17 -8.67398169e-20\n",
      "  1.56512168e-17  3.50662845e-18 -1.33830255e-17  1.01242664e-17\n",
      " -2.13323870e-18 -1.90046516e-18]\n",
      "[4.56307266e+00 4.04639137e+00 3.51326253e+00 3.27180018e+00\n",
      " 3.16453831e+00 3.04214774e+00 2.98744199e+00 2.97122109e+00\n",
      " 2.87839746e+00 2.80262168e+00 2.78037753e+00 2.69517168e+00\n",
      " 2.64868970e+00 2.54140982e+00 2.27772640e+00 2.06874114e+00\n",
      " 2.01132491e+00 1.95035476e+00 1.90633524e+00 1.82900806e+00\n",
      " 1.74127103e+00 1.71839952e+00 1.70037565e+00 1.67327137e+00\n",
      " 1.56245050e+00 1.54757569e+00 1.49163858e+00 1.46708511e+00\n",
      " 1.41656237e+00 1.37920556e+00 1.37292448e+00 1.33667539e+00\n",
      " 1.30536842e+00 1.28455239e+00 1.24220396e+00 1.23312685e+00\n",
      " 1.19651943e+00 1.17303755e+00 1.15103791e+00 1.13547478e+00\n",
      " 1.11833719e+00 1.09792402e+00 1.08626705e+00 1.08188579e+00\n",
      " 1.05444725e+00 1.03003787e+00 1.00509415e+00 9.80530570e-01\n",
      " 9.68226904e-01 9.41567387e-01 9.37466196e-01 9.20244765e-01\n",
      " 9.16603187e-01 8.98068207e-01 8.79244737e-01 8.68825682e-01\n",
      " 8.43994608e-01 8.16118003e-01 8.02948861e-01 7.86623599e-01\n",
      " 7.52293370e-01 7.41668616e-01 6.92843543e-01 6.65621304e-01\n",
      " 5.37204033e-01 5.21069794e-01 4.40886894e-01 3.40980560e-01\n",
      " 1.67643203e-01 1.57750087e-01 1.19627275e-01 9.59031013e-02\n",
      " 9.54386354e-02 9.31502802e-02 9.13363162e-02 8.72411796e-02\n",
      " 8.53014161e-02 8.29899141e-02 7.84947508e-02 7.01757689e-02\n",
      " 6.84575261e-02 6.57620630e-02 6.41809473e-02 5.74366656e-02\n",
      " 5.62536565e-02 5.55128814e-02 5.36563853e-02 5.04334019e-02\n",
      " 4.75681865e-02 4.59032893e-02 4.27284536e-02 4.20909288e-02\n",
      " 4.05407836e-02 3.79292183e-02 3.74385411e-02 3.64627343e-02\n",
      " 3.55983484e-02 3.46407531e-02 3.38259659e-02 3.32706584e-02\n",
      " 3.21229375e-02 3.11262817e-02 3.06605886e-02 3.01925738e-02\n",
      " 3.00352728e-02 2.91039581e-02 2.81947034e-02 2.77345163e-02\n",
      " 2.74154216e-02 2.68323370e-02 2.61793811e-02 2.60287916e-02\n",
      " 2.57225773e-02 2.51723806e-02 2.42530524e-02 2.39999748e-02\n",
      " 2.34586180e-02 2.30036754e-02 2.27719540e-02 2.24147986e-02\n",
      " 2.20498986e-02 2.14898882e-02 2.11256749e-02 2.06971000e-02\n",
      " 2.03774352e-02 2.02812616e-02 1.99772746e-02 1.97603763e-02\n",
      " 1.94260695e-02 1.91962638e-02 1.90279883e-02 1.84228199e-02\n",
      " 1.81778184e-02 1.79670381e-02 1.77455329e-02 1.73293771e-02\n",
      " 1.73232121e-02 1.69323251e-02 1.67969807e-02 1.65602735e-02\n",
      " 1.62616188e-02 1.60483541e-02 1.57645292e-02 1.55136807e-02\n",
      " 1.54968060e-02 1.52444701e-02 1.50136310e-02 1.48464091e-02\n",
      " 1.47750882e-02 1.45747220e-02 1.44214779e-02 1.41924982e-02\n",
      " 1.40621340e-02 1.37789352e-02 1.37016988e-02 1.36150153e-02\n",
      " 1.33096644e-02 1.31382814e-02 1.30449884e-02 1.29403864e-02\n",
      " 1.28176782e-02 1.25572699e-02 1.25053730e-02 1.24407719e-02\n",
      " 1.21876858e-02 1.21336502e-02 1.20205129e-02 1.19015999e-02\n",
      " 1.18641321e-02 1.17772783e-02 1.15209813e-02 1.12506693e-02\n",
      " 1.11454114e-02 1.09902669e-02 1.09625712e-02 1.09086201e-02\n",
      " 1.06664464e-02 1.05050660e-02 1.04217107e-02 1.03149063e-02\n",
      " 1.00850258e-02 1.00175944e-02 9.87394970e-03 9.77787377e-03\n",
      " 9.64927817e-03 9.61624156e-03 9.51376222e-03 9.41056460e-03\n",
      " 9.29757833e-03 9.22596141e-03 9.15768460e-03 8.94456566e-03\n",
      " 8.91732536e-03 8.86393547e-03 8.72994758e-03 8.67820764e-03\n",
      " 8.49763060e-03 8.41891029e-03 8.23174638e-03 8.19133965e-03\n",
      " 8.09968710e-03 7.97997158e-03 7.91901572e-03 7.83871538e-03\n",
      " 7.78067245e-03 7.74055848e-03 7.64389055e-03 7.59756479e-03\n",
      " 7.58368238e-03 7.44695906e-03 7.31554653e-03 7.27958793e-03\n",
      " 7.16501221e-03 7.15397910e-03 6.99798136e-03 6.96676146e-03\n",
      " 6.84910511e-03 6.82180231e-03 6.68410855e-03 6.60349428e-03\n",
      " 6.58748459e-03 6.51865032e-03 6.36802545e-03 6.31130127e-03\n",
      " 6.20048612e-03 6.16143808e-03 6.12160109e-03 6.04711538e-03\n",
      " 5.98357811e-03 5.85737143e-03 5.77469040e-03 5.71250378e-03\n",
      " 5.64458345e-03 5.60069351e-03 5.57069291e-03 5.51502761e-03\n",
      " 5.42165906e-03 5.27732476e-03 5.24590677e-03 5.18397764e-03\n",
      " 5.09781123e-03 5.02050823e-03 4.98656318e-03 4.95498816e-03\n",
      " 4.93385400e-03 4.85021200e-03 4.81458345e-03 4.76946352e-03\n",
      " 4.73294938e-03 4.63505790e-03 4.57780206e-03 4.41375273e-03\n",
      " 4.37939133e-03 4.36744550e-03 4.22377113e-03 4.20402777e-03\n",
      " 4.09705430e-03 4.05977851e-03 3.98169791e-03 3.97204827e-03\n",
      " 3.90860776e-03 3.81721401e-03 3.80852040e-03 3.74839425e-03\n",
      " 3.69679126e-03 3.66184091e-03 3.59617318e-03 3.55824835e-03\n",
      " 3.49836283e-03 3.45755409e-03 3.42812598e-03 3.37538584e-03\n",
      " 3.33184338e-03 3.23926702e-03 3.17778556e-03 3.10323926e-03\n",
      " 3.07358956e-03 3.01712922e-03 2.99512927e-03 2.95604937e-03\n",
      " 2.84637511e-03 2.75400324e-03 2.70014839e-03 2.65274554e-03\n",
      " 2.59993127e-03 2.50830002e-03 2.48856536e-03 2.45334692e-03\n",
      " 2.44015553e-03 2.32873388e-03 2.21872544e-03 2.17795674e-03\n",
      " 2.10463780e-03 2.07906013e-03 2.02595118e-03 1.99686382e-03\n",
      " 1.81534155e-03 1.69559406e-03 1.67704165e-03 1.52634575e-03\n",
      " 1.47512289e-03 1.30142576e-03 1.21021127e-03 8.63003422e-04\n",
      " 6.59027959e-04 4.54305516e-04]\n",
      "-------------------\n",
      "[-3.25464905e-05  9.29758853e-06 -3.13757579e-05 -1.21949770e-05\n",
      " -3.77461022e-05 -4.57396519e-05  6.24847460e-06 -8.51569604e-07\n",
      " -3.13555989e-05 -6.26234333e-05  2.10807429e-07 -3.47106981e-05\n",
      " -1.63705416e-05 -6.39475813e-06 -1.35145002e-06 -3.49564211e-06\n",
      " -4.09245884e-06  1.20628806e-05  4.99978904e-05  2.03917913e-04\n",
      " -2.13652370e-04 -1.14884369e-05  1.45766202e-05 -1.36692556e-05\n",
      " -1.69748029e-05  7.37042111e-07  6.74983237e-06 -2.13691375e-06\n",
      " -7.91830474e-06  1.06070462e-05  1.01258904e-05  2.27482247e-06\n",
      " -3.11618278e-06 -5.68838110e-06  1.44705466e-06 -1.32255478e-06\n",
      " -7.02606871e-06 -5.53978874e-06  1.49983004e-05  3.16756867e-06\n",
      "  3.26175634e-05 -4.76232618e-06  1.38515776e-05  1.37013534e-05\n",
      " -7.02195033e-06 -7.58481894e-06 -1.15008159e-06  1.50686720e-05\n",
      " -1.17561596e-05  8.61331845e-06 -4.39290467e-06 -3.42336427e-05\n",
      " -2.11529777e-05 -1.95321233e-06 -8.53175593e-07 -2.54947022e-05\n",
      "  3.65881198e-07  8.37553409e-06  9.62604915e-06  1.03450136e-05\n",
      " -6.80652698e-06  3.12356213e-05  1.99226614e-05  1.02092943e-06\n",
      " -1.14351481e-06 -3.68999138e-07 -1.98993140e-05 -3.06629506e-05\n",
      "  3.00058913e-05  2.09682541e-05  1.62426098e-05 -4.29636571e-05\n",
      "  6.10347850e-06  1.77531860e-05 -4.50886035e-05  8.25294407e-06\n",
      " -3.93349458e-05 -4.17126450e-06  6.65312697e-06  1.89830514e-05\n",
      " -8.43718195e-05 -2.15795400e-05 -3.06935984e-06  5.35567790e-06\n",
      " -9.52459962e-06  2.18971325e-05 -3.96836119e-05  1.87182126e-05\n",
      "  3.36025574e-05  1.70634425e-06  2.50079041e-05  7.30726980e-06\n",
      " -1.35974399e-06  1.17671369e-05 -5.54016599e-05  3.55548921e-05\n",
      " -5.83663251e-05  2.81949866e-05  7.86132065e-06 -2.83263761e-05\n",
      " -6.90663201e-06 -1.08332375e-05 -3.08993148e-05  2.35390413e-05\n",
      "  2.18669617e-05  3.33966437e-06 -1.42310563e-05 -1.29954822e-05\n",
      "  3.76040825e-05  1.67712597e-05 -2.77719085e-05  6.96382240e-06\n",
      "  2.46766097e-06  2.76385149e-05  6.22659065e-06 -4.33231820e-05\n",
      "  1.26788867e-05 -2.96237987e-05 -2.99352516e-05 -7.34633356e-06\n",
      "  4.73384368e-05 -2.62276353e-08 -1.46099622e-05  1.45630954e-05\n",
      "  4.19825986e-05  2.28589543e-05 -1.45460929e-05 -3.51671530e-05\n",
      " -3.94713081e-05  1.02340778e-05 -8.79777932e-06  2.85369996e-05\n",
      "  1.34697539e-06 -1.01305810e-05 -3.10681264e-05  7.31881386e-06\n",
      "  8.90946840e-07 -9.65742445e-06  1.44750261e-05  1.51227579e-05\n",
      " -4.36084948e-06  2.73470214e-05  2.62760602e-05 -6.15975395e-06\n",
      "  1.73722939e-05 -2.42629978e-06 -3.33630353e-05 -4.26779985e-06\n",
      " -8.82109690e-06 -1.45808825e-05 -6.32718236e-05 -1.45611182e-05\n",
      "  9.07142661e-06  1.27820166e-05  1.31426856e-05 -6.61182821e-06\n",
      "  6.84501737e-06 -2.16320661e-05 -1.69669502e-05 -1.53785364e-05\n",
      " -1.74593321e-05  4.66525711e-05  5.10366947e-05 -5.55523776e-05\n",
      " -1.17801392e-05 -2.91445935e-05  1.78554558e-06 -3.68997695e-05\n",
      " -8.38705539e-06 -2.46165451e-05  2.63043738e-05 -1.75665513e-05\n",
      " -1.83316933e-05 -9.78168684e-06 -1.81942700e-06  1.44057891e-05\n",
      " -6.37241817e-06  3.38508963e-05  2.25443180e-05 -6.82406756e-07\n",
      "  1.13751098e-05 -5.07661243e-06 -1.24848785e-05 -2.23144139e-05\n",
      " -2.72783639e-05  5.97641275e-06 -1.81109484e-05 -2.54076494e-05\n",
      "  2.88750537e-05  1.18467192e-06  1.64797221e-06 -1.20316041e-05\n",
      " -1.71760194e-05 -5.39183255e-05  2.21123771e-05 -2.27357305e-05\n",
      " -1.33432876e-05 -2.13338936e-07 -7.52428156e-06  1.02636359e-05\n",
      "  2.06363171e-05  1.06827547e-05  3.29594849e-06 -6.60784008e-06\n",
      " -1.34617108e-05 -2.55628107e-05 -2.47965920e-05 -3.97726667e-07\n",
      "  1.89074570e-06 -8.82306158e-07  2.93267473e-05  9.21458933e-06\n",
      "  4.38145036e-06 -3.50889414e-06 -1.00693393e-05 -1.15473355e-05\n",
      "  3.31289234e-06  5.88527089e-06 -5.05346123e-05  6.93447912e-06\n",
      " -1.56861486e-05 -1.64437293e-05  4.15619768e-06  4.58584744e-05\n",
      "  1.90166095e-05 -1.02425418e-06  2.54317694e-06  2.98176743e-05\n",
      "  3.61218930e-05 -3.67358394e-06 -2.13895659e-05  3.13427378e-05\n",
      " -2.85618931e-05 -2.32889706e-05 -1.76440558e-05 -2.40231714e-06\n",
      " -3.07917355e-05 -3.69023825e-06  1.14417194e-05 -2.93824241e-06\n",
      "  1.46942901e-06  8.22971632e-06  8.91040163e-06 -9.51353777e-06\n",
      " -1.63744448e-05  1.21501508e-05  2.26632869e-07  2.34314560e-05\n",
      " -3.08672629e-05 -1.42825978e-05  3.86466984e-06  2.76070804e-05\n",
      "  1.92690319e-05 -5.61400307e-06 -1.53652472e-05 -2.42559792e-05\n",
      " -2.84359236e-06  1.49888218e-05  1.97025406e-05 -1.27736463e-05\n",
      " -2.86806579e-05 -1.56802636e-05 -6.40865137e-06 -8.58600644e-06\n",
      "  1.20556042e-05 -1.40327129e-05  1.27643533e-05  6.23965133e-06\n",
      " -5.27346696e-06 -1.19667058e-05  1.81397050e-05 -2.09887105e-05\n",
      "  6.16237976e-06  3.37531561e-06  9.30810243e-06 -2.03990232e-05\n",
      " -3.57456716e-06  8.48623906e-06  2.79146698e-06 -7.99891824e-06\n",
      " -1.47768789e-05 -5.82540783e-06  8.26097876e-07  1.70290139e-05\n",
      " -6.42255116e-06  5.11778041e-06  1.88644796e-06  5.08092862e-06\n",
      "  1.84077880e-05 -3.23176164e-05  1.48653375e-06 -4.65196174e-06\n",
      " -1.12924965e-05  4.07688014e-06 -1.09846724e-05 -1.66442455e-05\n",
      "  3.15277077e-06 -1.60732183e-05 -1.54460199e-05 -1.03867726e-05\n",
      "  2.14929056e-06 -1.90486148e-06  1.45756389e-05  6.17429434e-06\n",
      " -1.14956741e-05  5.29856717e-06]\n",
      "[0.06630203 0.09201395 0.0760665  0.08111638 0.07145703 0.08468249\n",
      " 0.08826114 0.10116462 0.08822631 0.07235797 0.08937944 0.0733246\n",
      " 0.0822014  0.08164676 0.04783379 0.0669229  0.04276588 0.06364465\n",
      " 0.04650024 0.0353523  0.06149162 0.05051313 0.04950304 0.04891749\n",
      " 0.04802652 0.05014792 0.05035651 0.05572214 0.04582377 0.04337128\n",
      " 0.04958293 0.04496684 0.0433215  0.04698523 0.05860863 0.04490338\n",
      " 0.05425868 0.04992686 0.05503289 0.05765954 0.06101766 0.0595106\n",
      " 0.04982714 0.06099603 0.06500415 0.06502247 0.05318327 0.06863412\n",
      " 0.0656916  0.06180937 0.05354867 0.06371093 0.06249366 0.06001765\n",
      " 0.0547591  0.05676396 0.06696842 0.05488368 0.06239152 0.06438463\n",
      " 0.0472258  0.05959868 0.05990177 0.0528963  0.07085704 0.07602239\n",
      " 0.06031805 0.03856693 0.00657557 0.03543258 0.03853397 0.0332684\n",
      " 0.03203013 0.04021325 0.04007714 0.03051522 0.03286743 0.02803864\n",
      " 0.03108157 0.02519069 0.04113913 0.02701079 0.0204274  0.02219725\n",
      " 0.01956393 0.01375261 0.01787005 0.0151744  0.00880768 0.01348177\n",
      " 0.01005363 0.01133531 0.01200697 0.01199174 0.01277169 0.01137685\n",
      " 0.01473777 0.01225655 0.01197421 0.01059882 0.01454147 0.01278456\n",
      " 0.01310752 0.01112174 0.01110166 0.01299199 0.0138381  0.01109603\n",
      " 0.01180386 0.01151532 0.01310485 0.01114563 0.01207335 0.01092486\n",
      " 0.01206559 0.01402925 0.01105033 0.01309036 0.01224241 0.01022713\n",
      " 0.01227822 0.01295213 0.0130831  0.01125674 0.01200298 0.01249722\n",
      " 0.01078773 0.01348515 0.0127738  0.01212431 0.01254609 0.01166644\n",
      " 0.01322196 0.01300936 0.01171497 0.01105606 0.01190865 0.01286506\n",
      " 0.01109677 0.01270032 0.01224884 0.01216854 0.01222977 0.01300213\n",
      " 0.01158911 0.01195453 0.01318542 0.01371533 0.01265204 0.01245084\n",
      " 0.01353014 0.01290363 0.01236644 0.01233008 0.01245964 0.01208784\n",
      " 0.01215174 0.01357181 0.01221675 0.01202945 0.01330413 0.01246424\n",
      " 0.01249884 0.01330234 0.01327187 0.01285271 0.01288972 0.01365288\n",
      " 0.01255024 0.01319645 0.0109804  0.01248575 0.01382037 0.0116349\n",
      " 0.01248923 0.01246695 0.01266376 0.0116026  0.01279796 0.01244259\n",
      " 0.01210017 0.01270639 0.01379083 0.01240394 0.0138749  0.01388034\n",
      " 0.01402858 0.01396366 0.01188206 0.01231636 0.01308229 0.01291609\n",
      " 0.01234617 0.01321575 0.01259957 0.01315282 0.01343599 0.01226432\n",
      " 0.01311086 0.01296783 0.01247662 0.0122704  0.01282186 0.01302109\n",
      " 0.0138618  0.01334468 0.01274867 0.01217868 0.01209735 0.0123276\n",
      " 0.01302788 0.01283805 0.01218779 0.01263418 0.01338136 0.0133719\n",
      " 0.01270759 0.01224266 0.01366661 0.011775   0.01219989 0.01369033\n",
      " 0.01183392 0.01167303 0.01123571 0.01232171 0.01199147 0.01166439\n",
      " 0.01239051 0.01260916 0.01279468 0.01260617 0.01320217 0.0136655\n",
      " 0.01335554 0.01277268 0.0128158  0.01285296 0.01254172 0.01273878\n",
      " 0.0126553  0.0123337  0.01308927 0.01263574 0.01172672 0.01248405\n",
      " 0.01232682 0.01253601 0.01352494 0.01202697 0.01190045 0.01139211\n",
      " 0.0124069  0.01185937 0.01267004 0.01200985 0.01214719 0.01210814\n",
      " 0.01231848 0.01205554 0.01327719 0.01147293 0.01219212 0.01269141\n",
      " 0.01230053 0.01248033 0.01235491 0.01274869 0.01213234 0.01160452\n",
      " 0.01211865 0.01183074 0.01167625 0.01130651 0.01108145 0.01207102\n",
      " 0.01281119 0.01096689 0.01176579 0.01168055 0.01120349 0.01246515\n",
      " 0.01346237 0.01251942 0.01197758 0.01127983 0.01142398 0.01191811\n",
      " 0.01121952 0.0117294  0.01147499 0.0124749  0.01173993 0.01117981\n",
      " 0.0118537  0.01134407 0.01130515 0.01292572 0.01223343 0.01146023\n",
      " 0.01112785 0.0113729  0.01083206 0.01209682 0.01302489 0.01320752]\n"
     ]
    }
   ],
   "source": [
    "encoded = encode(raw_data, pca, robust_scaler, maxabs, robust_scaler2)"
   ]
  },
  {
   "cell_type": "code",
   "execution_count": 12,
   "id": "63ffaf7d-b5ef-4428-b64b-795b4cb9fd2b",
   "metadata": {},
   "outputs": [
    {
     "data": {
      "application/vnd.jupyter.widget-view+json": {
       "model_id": "9de5a92271db4e17813ff74d2e698f33",
       "version_major": 2,
       "version_minor": 0
      },
      "text/plain": [
       "Canvas(toolbar=Toolbar(toolitems=[('Home', 'Reset original view', 'home', 'home'), ('Back', 'Back to previous …"
      ]
     },
     "metadata": {},
     "output_type": "display_data"
    },
    {
     "data": {
      "text/plain": [
       "[<matplotlib.lines.Line2D at 0x7f78e977fa30>]"
      ]
     },
     "execution_count": 12,
     "metadata": {},
     "output_type": "execute_result"
    }
   ],
   "source": [
    "%matplotlib widget\n",
    "plt.plot(encoded[50000:55000])"
   ]
  },
  {
   "cell_type": "code",
   "execution_count": 45,
   "id": "2361d49a-98fa-4a2d-9a0f-2f56e854418e",
   "metadata": {},
   "outputs": [],
   "source": [
    "encoded = encoded.reshape((306, 2857000))"
   ]
  },
  {
   "cell_type": "code",
   "execution_count": 46,
   "id": "bc77d14f-dfa1-47a9-9089-edb7624d46ba",
   "metadata": {},
   "outputs": [
    {
     "data": {
      "application/vnd.jupyter.widget-view+json": {
       "model_id": "e803a83efe374bde8cee0e4f6a1c6a26",
       "version_major": 2,
       "version_minor": 0
      },
      "text/plain": [
       "Canvas(toolbar=Toolbar(toolitems=[('Home', 'Reset original view', 'home', 'home'), ('Back', 'Back to previous …"
      ]
     },
     "metadata": {},
     "output_type": "display_data"
    }
   ],
   "source": [
    "%matplotlib widget\n",
    "plt.hist(encoded[1], bins=256)\n",
    "plt.show()"
   ]
  },
  {
   "cell_type": "code",
   "execution_count": 47,
   "id": "6a1419fe-e788-4521-9d72-fb010ae4ebc3",
   "metadata": {},
   "outputs": [
    {
     "data": {
      "application/vnd.jupyter.widget-view+json": {
       "model_id": "f4cfca22136f40a595548c47b688eda3",
       "version_major": 2,
       "version_minor": 0
      },
      "text/plain": [
       "Canvas(toolbar=Toolbar(toolitems=[('Home', 'Reset original view', 'home', 'home'), ('Back', 'Back to previous …"
      ]
     },
     "metadata": {},
     "output_type": "display_data"
    }
   ],
   "source": [
    "%matplotlib widget\n",
    "plt.hist(encoded[-1], bins=256)\n",
    "plt.show()"
   ]
  },
  {
   "cell_type": "code",
   "execution_count": 53,
   "id": "32cae01a-c9db-4c06-8322-65dfd68a7f85",
   "metadata": {},
   "outputs": [],
   "source": [
    "decoded = decode(encoded.reshape(-1), pca, robust_scaler, maxabs, robust_scaler2)"
   ]
  },
  {
   "cell_type": "code",
   "execution_count": 118,
   "id": "5a7ef4fd-acd4-48a1-9652-34ede35f560e",
   "metadata": {},
   "outputs": [
    {
     "data": {
      "image/png": "[encoded data removed]",
      "text/plain": [
       "<Figure size 432x288 with 1 Axes>"
      ]
     },
     "metadata": {
      "needs_background": "light"
     },
     "output_type": "display_data"
    }
   ],
   "source": [
    "plt.hist(decoded, bins=256)\n",
    "plt.show()"
   ]
  },
  {
   "cell_type": "code",
   "execution_count": 54,
   "id": "e77d86a6-40a7-479d-8d3e-2336bbef794d",
   "metadata": {},
   "outputs": [],
   "source": [
    "errors = []\n",
    "for i in range(306):\n",
    "    data_mean = np.mean(np.abs(raw_data[i]))\n",
    "    diff = np.mean(np.abs(raw_data[i] - decoded[i]))\n",
    "    \n",
    "    errors.append(diff/data_mean)"
   ]
  },
  {
   "cell_type": "code",
   "execution_count": 55,
   "id": "7fe99740-14ef-439f-86cc-0d55185ded97",
   "metadata": {},
   "outputs": [
    {
     "data": {
      "application/vnd.jupyter.widget-view+json": {
       "model_id": "777efe1e9b9a483d8b6b5443ceaabe3e",
       "version_major": 2,
       "version_minor": 0
      },
      "text/plain": [
       "Canvas(toolbar=Toolbar(toolitems=[('Home', 'Reset original view', 'home', 'home'), ('Back', 'Back to previous …"
      ]
     },
     "metadata": {},
     "output_type": "display_data"
    }
   ],
   "source": [
    "%matplotlib widget\n",
    "plt.hist(errors, bins=306)\n",
    "plt.show()"
   ]
  },
  {
   "cell_type": "code",
   "execution_count": 60,
   "id": "ac299177-09cb-4948-824d-5a90f738a0a2",
   "metadata": {},
   "outputs": [
    {
     "data": {
      "text/plain": [
       "2.2653147623638926e-13"
      ]
     },
     "execution_count": 60,
     "metadata": {},
     "output_type": "execute_result"
    }
   ],
   "source": [
    "np.mean(np.abs(data - decoded))"
   ]
  },
  {
   "cell_type": "code",
   "execution_count": 61,
   "id": "c1004403-6867-4dd0-a5b0-38842bfbf851",
   "metadata": {},
   "outputs": [
    {
     "data": {
      "text/plain": [
       "2.6966176323667345e-12"
      ]
     },
     "execution_count": 61,
     "metadata": {},
     "output_type": "execute_result"
    }
   ],
   "source": [
    "np.mean(np.abs(data))"
   ]
  },
  {
   "cell_type": "code",
   "execution_count": 64,
   "id": "937d8eb0-3de1-4d14-9133-658c0d99e10b",
   "metadata": {},
   "outputs": [],
   "source": [
    "diff = data - decoded"
   ]
  },
  {
   "cell_type": "code",
   "execution_count": 63,
   "id": "e356b68f-3db8-4d5f-8f52-458e8165b1c2",
   "metadata": {},
   "outputs": [
    {
     "data": {
      "application/vnd.jupyter.widget-view+json": {
       "model_id": "f2f85832bd98425badafa270e3dc9af2",
       "version_major": 2,
       "version_minor": 0
      },
      "text/plain": [
       "Canvas(toolbar=Toolbar(toolitems=[('Home', 'Reset original view', 'home', 'home'), ('Back', 'Back to previous …"
      ]
     },
     "metadata": {},
     "output_type": "display_data"
    },
    {
     "data": {
      "text/plain": [
       "[<matplotlib.lines.Line2D at 0x7f78e634a100>,\n",
       " <matplotlib.lines.Line2D at 0x7f6cdcb699d0>]"
      ]
     },
     "execution_count": 63,
     "metadata": {},
     "output_type": "execute_result"
    }
   ],
   "source": [
    "%matplotlib widget\n",
    "plt.plot(data[10, 50000:52000], 'r', decoded[10, 50000:52000], 'b', linewidth=0.2)"
   ]
  },
  {
   "cell_type": "code",
   "execution_count": 70,
   "id": "67b3aaba-dfba-4c8e-9b8b-e4f07d2ba766",
   "metadata": {},
   "outputs": [
    {
     "data": {
      "application/vnd.jupyter.widget-view+json": {
       "model_id": "625fa0aae36a4481872ce8babf5c94e9",
       "version_major": 2,
       "version_minor": 0
      },
      "text/plain": [
       "Canvas(toolbar=Toolbar(toolitems=[('Home', 'Reset original view', 'home', 'home'), ('Back', 'Back to previous …"
      ]
     },
     "metadata": {},
     "output_type": "display_data"
    },
    {
     "data": {
      "text/plain": [
       "(-2e-12, 2e-12)"
      ]
     },
     "execution_count": 70,
     "metadata": {},
     "output_type": "execute_result"
    }
   ],
   "source": [
    "%matplotlib widget\n",
    "plt.hist(diff.reshape(-1), bins=10000)\n",
    "plt.xlim((-2e-12, 2e-12))"
   ]
  }
 ],
 "metadata": {
  "kernelspec": {
   "display_name": "Python 3 (ipykernel)",
   "language": "python",
   "name": "python3"
  },
  "language_info": {
   "codemirror_mode": {
    "name": "ipython",
    "version": 3
   },
   "file_extension": ".py",
   "mimetype": "text/x-python",
   "name": "python",
   "nbconvert_exporter": "python",
   "pygments_lexer": "ipython3",
   "version": "3.8.5"
  }
 },
 "nbformat": 4,
 "nbformat_minor": 5
}
