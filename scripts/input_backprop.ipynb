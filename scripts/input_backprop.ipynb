{
 "cells": [
  {
   "cell_type": "code",
   "execution_count": 1,
   "id": "60d86a7d",
   "metadata": {},
   "outputs": [],
   "source": [
    "import os\n",
    "import numpy as np\n",
    "import matplotlib.pyplot as plt\n",
    "import mne\n",
    "from scipy import signal\n",
    "import pickle\n",
    "from scipy.fft import fft, fftfreq, ifft\n",
    "from scipy.io import loadmat\n",
    "from sklearn.preprocessing import StandardScaler\n",
    "\n",
    "#plt.rcParams['figure.figsize'] = [9, 8]"
   ]
  },
  {
   "cell_type": "code",
   "execution_count": 20,
   "id": "8305732f",
   "metadata": {},
   "outputs": [],
   "source": [
    "channels = ['0_281.mat', '0_32.mat', '0_333.mat', '0_365.mat', '0_48.mat',\n",
    "            '1_15.mat', '1_126.mat', '1_242.mat', '1_337.mat', '1_452.mat',\n",
    "            '2_100.mat', '2_380.mat', '2_592.mat', '2_80.mat', '2_17.mat',\n",
    "            '3_155.mat', '3_329.mat', '3_577.mat', '3_568.mat', '3_532.mat',\n",
    "            '4_27.mat', '4_475.mat', '4_17.mat', '4_527.mat', '4_62.mat',\n",
    "            '5_491.mat', '5_606.mat', '5_533.mat', '5_58.mat', '5_590.mat']\n",
    "\n",
    "inputs = []\n",
    "for c in channels:\n",
    "    path = os.path.join('..', 'results', 'cichy_epoched', 'all_noshuffle_wavenetclass_semb10_drop0.4',\n",
    "                        'kernel_analysis', c)\n",
    "    inputs.append(loadmat(path)['X'])\n",
    "    \n",
    "inputs = np.array(inputs).reshape(6, 5, 306, -1)"
   ]
  },
  {
   "cell_type": "code",
   "execution_count": 3,
   "id": "9cf6d225-08cd-4a45-b6ac-c9f6da8d7478",
   "metadata": {},
   "outputs": [],
   "source": [
    "inds = np.abs(np.mean(inputs, axis=1)) > 1.5e-12\n",
    "high_power = inputs[inds, :]"
   ]
  },
  {
   "cell_type": "code",
   "execution_count": 133,
   "id": "c646e20f-80bc-424e-8f63-f39f4f5300c1",
   "metadata": {},
   "outputs": [
    {
     "data": {
      "text/plain": [
       "(9, 256)"
      ]
     },
     "execution_count": 133,
     "metadata": {},
     "output_type": "execute_result"
    },
    {
     "name": "stdout",
     "output_type": "stream",
     "text": [
      "Initializing animation...\n"
     ]
    }
   ],
   "source": [
    "high_power.shape"
   ]
  },
  {
   "cell_type": "code",
   "execution_count": 21,
   "id": "cf2d03fb-5b3a-420c-9ef9-0623cbfa711d",
   "metadata": {},
   "outputs": [
    {
     "data": {
      "application/vnd.jupyter.widget-view+json": {
       "model_id": "9b085bebdfc245af9b2f66bd45b665ac",
       "version_major": 2,
       "version_minor": 0
      },
      "text/plain": [
       "Canvas(toolbar=Toolbar(toolitems=[('Home', 'Reset original view', 'home', 'home'), ('Back', 'Back to previous …"
      ]
     },
     "metadata": {},
     "output_type": "display_data"
    },
    {
     "name": "stderr",
     "output_type": "stream",
     "text": [
      "/Users/ricsi/miniconda3/envs/main/lib/python3.8/site-packages/scipy/signal/spectral.py:1964: UserWarning: nperseg = 2000 is greater than input length  = 256, using nperseg = 256\n",
      "  warnings.warn('nperseg = {0:d} is greater than input length '\n",
      "/Users/ricsi/miniconda3/envs/main/lib/python3.8/site-packages/scipy/signal/spectral.py:1964: UserWarning: nperseg = 2000 is greater than input length  = 256, using nperseg = 256\n",
      "  warnings.warn('nperseg = {0:d} is greater than input length '\n",
      "/Users/ricsi/miniconda3/envs/main/lib/python3.8/site-packages/scipy/signal/spectral.py:1964: UserWarning: nperseg = 2000 is greater than input length  = 256, using nperseg = 256\n",
      "  warnings.warn('nperseg = {0:d} is greater than input length '\n",
      "/Users/ricsi/miniconda3/envs/main/lib/python3.8/site-packages/scipy/signal/spectral.py:1964: UserWarning: nperseg = 2000 is greater than input length  = 256, using nperseg = 256\n",
      "  warnings.warn('nperseg = {0:d} is greater than input length '\n",
      "/Users/ricsi/miniconda3/envs/main/lib/python3.8/site-packages/scipy/signal/spectral.py:1964: UserWarning: nperseg = 2000 is greater than input length  = 256, using nperseg = 256\n",
      "  warnings.warn('nperseg = {0:d} is greater than input length '\n",
      "/Users/ricsi/miniconda3/envs/main/lib/python3.8/site-packages/scipy/signal/spectral.py:1964: UserWarning: nperseg = 2000 is greater than input length  = 256, using nperseg = 256\n",
      "  warnings.warn('nperseg = {0:d} is greater than input length '\n",
      "/Users/ricsi/miniconda3/envs/main/lib/python3.8/site-packages/scipy/signal/spectral.py:1964: UserWarning: nperseg = 2000 is greater than input length  = 256, using nperseg = 256\n",
      "  warnings.warn('nperseg = {0:d} is greater than input length '\n",
      "/Users/ricsi/miniconda3/envs/main/lib/python3.8/site-packages/scipy/signal/spectral.py:1964: UserWarning: nperseg = 2000 is greater than input length  = 256, using nperseg = 256\n",
      "  warnings.warn('nperseg = {0:d} is greater than input length '\n",
      "/Users/ricsi/miniconda3/envs/main/lib/python3.8/site-packages/scipy/signal/spectral.py:1964: UserWarning: nperseg = 2000 is greater than input length  = 256, using nperseg = 256\n",
      "  warnings.warn('nperseg = {0:d} is greater than input length '\n",
      "/Users/ricsi/miniconda3/envs/main/lib/python3.8/site-packages/scipy/signal/spectral.py:1964: UserWarning: nperseg = 2000 is greater than input length  = 256, using nperseg = 256\n",
      "  warnings.warn('nperseg = {0:d} is greater than input length '\n",
      "/Users/ricsi/miniconda3/envs/main/lib/python3.8/site-packages/scipy/signal/spectral.py:1964: UserWarning: nperseg = 2000 is greater than input length  = 256, using nperseg = 256\n",
      "  warnings.warn('nperseg = {0:d} is greater than input length '\n",
      "/Users/ricsi/miniconda3/envs/main/lib/python3.8/site-packages/scipy/signal/spectral.py:1964: UserWarning: nperseg = 2000 is greater than input length  = 256, using nperseg = 256\n",
      "  warnings.warn('nperseg = {0:d} is greater than input length '\n",
      "/Users/ricsi/miniconda3/envs/main/lib/python3.8/site-packages/scipy/signal/spectral.py:1964: UserWarning: nperseg = 2000 is greater than input length  = 256, using nperseg = 256\n",
      "  warnings.warn('nperseg = {0:d} is greater than input length '\n",
      "/Users/ricsi/miniconda3/envs/main/lib/python3.8/site-packages/scipy/signal/spectral.py:1964: UserWarning: nperseg = 2000 is greater than input length  = 256, using nperseg = 256\n",
      "  warnings.warn('nperseg = {0:d} is greater than input length '\n",
      "/Users/ricsi/miniconda3/envs/main/lib/python3.8/site-packages/scipy/signal/spectral.py:1964: UserWarning: nperseg = 2000 is greater than input length  = 256, using nperseg = 256\n",
      "  warnings.warn('nperseg = {0:d} is greater than input length '\n",
      "/Users/ricsi/miniconda3/envs/main/lib/python3.8/site-packages/scipy/signal/spectral.py:1964: UserWarning: nperseg = 2000 is greater than input length  = 256, using nperseg = 256\n",
      "  warnings.warn('nperseg = {0:d} is greater than input length '\n",
      "/Users/ricsi/miniconda3/envs/main/lib/python3.8/site-packages/scipy/signal/spectral.py:1964: UserWarning: nperseg = 2000 is greater than input length  = 256, using nperseg = 256\n",
      "  warnings.warn('nperseg = {0:d} is greater than input length '\n",
      "/Users/ricsi/miniconda3/envs/main/lib/python3.8/site-packages/scipy/signal/spectral.py:1964: UserWarning: nperseg = 2000 is greater than input length  = 256, using nperseg = 256\n",
      "  warnings.warn('nperseg = {0:d} is greater than input length '\n",
      "/Users/ricsi/miniconda3/envs/main/lib/python3.8/site-packages/scipy/signal/spectral.py:1964: UserWarning: nperseg = 2000 is greater than input length  = 256, using nperseg = 256\n",
      "  warnings.warn('nperseg = {0:d} is greater than input length '\n",
      "/Users/ricsi/miniconda3/envs/main/lib/python3.8/site-packages/scipy/signal/spectral.py:1964: UserWarning: nperseg = 2000 is greater than input length  = 256, using nperseg = 256\n",
      "  warnings.warn('nperseg = {0:d} is greater than input length '\n",
      "/Users/ricsi/miniconda3/envs/main/lib/python3.8/site-packages/scipy/signal/spectral.py:1964: UserWarning: nperseg = 2000 is greater than input length  = 256, using nperseg = 256\n",
      "  warnings.warn('nperseg = {0:d} is greater than input length '\n",
      "/Users/ricsi/miniconda3/envs/main/lib/python3.8/site-packages/scipy/signal/spectral.py:1964: UserWarning: nperseg = 2000 is greater than input length  = 256, using nperseg = 256\n",
      "  warnings.warn('nperseg = {0:d} is greater than input length '\n",
      "/Users/ricsi/miniconda3/envs/main/lib/python3.8/site-packages/scipy/signal/spectral.py:1964: UserWarning: nperseg = 2000 is greater than input length  = 256, using nperseg = 256\n",
      "  warnings.warn('nperseg = {0:d} is greater than input length '\n",
      "/Users/ricsi/miniconda3/envs/main/lib/python3.8/site-packages/scipy/signal/spectral.py:1964: UserWarning: nperseg = 2000 is greater than input length  = 256, using nperseg = 256\n",
      "  warnings.warn('nperseg = {0:d} is greater than input length '\n",
      "/Users/ricsi/miniconda3/envs/main/lib/python3.8/site-packages/scipy/signal/spectral.py:1964: UserWarning: nperseg = 2000 is greater than input length  = 256, using nperseg = 256\n",
      "  warnings.warn('nperseg = {0:d} is greater than input length '\n",
      "/Users/ricsi/miniconda3/envs/main/lib/python3.8/site-packages/scipy/signal/spectral.py:1964: UserWarning: nperseg = 2000 is greater than input length  = 256, using nperseg = 256\n",
      "  warnings.warn('nperseg = {0:d} is greater than input length '\n",
      "/Users/ricsi/miniconda3/envs/main/lib/python3.8/site-packages/scipy/signal/spectral.py:1964: UserWarning: nperseg = 2000 is greater than input length  = 256, using nperseg = 256\n",
      "  warnings.warn('nperseg = {0:d} is greater than input length '\n",
      "/Users/ricsi/miniconda3/envs/main/lib/python3.8/site-packages/scipy/signal/spectral.py:1964: UserWarning: nperseg = 2000 is greater than input length  = 256, using nperseg = 256\n",
      "  warnings.warn('nperseg = {0:d} is greater than input length '\n",
      "/Users/ricsi/miniconda3/envs/main/lib/python3.8/site-packages/scipy/signal/spectral.py:1964: UserWarning: nperseg = 2000 is greater than input length  = 256, using nperseg = 256\n",
      "  warnings.warn('nperseg = {0:d} is greater than input length '\n",
      "/Users/ricsi/miniconda3/envs/main/lib/python3.8/site-packages/scipy/signal/spectral.py:1964: UserWarning: nperseg = 2000 is greater than input length  = 256, using nperseg = 256\n",
      "  warnings.warn('nperseg = {0:d} is greater than input length '\n"
     ]
    }
   ],
   "source": [
    "%matplotlib widget\n",
    "fig, axs = plt.subplots(6, 5)\n",
    "for i in range(inputs.shape[0]):\n",
    "    for j in range(inputs.shape[1]):\n",
    "        inds = np.abs(np.mean(inputs[i, j], axis=1)) > 1.5e-12\n",
    "        high_power = inputs[i, j, inds, :]\n",
    "        f, pxx = signal.welch(high_power[0], fs=250, nperseg=8*250)\n",
    "    \n",
    "        axs[i, j].plot(f[2:], pxx[2:])"
   ]
  },
  {
   "cell_type": "code",
   "execution_count": 23,
   "id": "5197199d",
   "metadata": {},
   "outputs": [
    {
     "data": {
      "application/vnd.jupyter.widget-view+json": {
       "model_id": "1aa6c5047da74baba4328c708c47a94a",
       "version_major": 2,
       "version_minor": 0
      },
      "text/plain": [
       "Canvas(toolbar=Toolbar(toolitems=[('Home', 'Reset original view', 'home', 'home'), ('Back', 'Back to previous …"
      ]
     },
     "metadata": {},
     "output_type": "display_data"
    }
   ],
   "source": [
    "%matplotlib widget\n",
    "fig, axs = plt.subplots(6, 5)\n",
    "for i in range(inputs.shape[0]):\n",
    "    for j in range(inputs.shape[1]):\n",
    "        axs[i,j].plot(inputs[i,j].T)"
   ]
  },
  {
   "cell_type": "code",
   "execution_count": 16,
   "id": "995a4396",
   "metadata": {},
   "outputs": [
    {
     "name": "stdout",
     "output_type": "stream",
     "text": [
      "Opening raw data file cichy_data/subj0/MEG2_subj01_sess01_tsss_mc-3.fif...\n",
      "    Range : 4930000 ... 5162999 =   4930.000 ...  5162.999 secs\n",
      "Ready.\n",
      "Reading 0 ... 232999  =      0.000 ...   232.999 secs...\n"
     ]
    },
    {
     "name": "stderr",
     "output_type": "stream",
     "text": [
      "/var/folders/nv/wjmf18wd5_j38vg9v0cthl5h0000gn/T/ipykernel_5950/2585180896.py:3: RuntimeWarning: This filename (cichy_data/subj0/MEG2_subj01_sess01_tsss_mc-3.fif) does not conform to MNE naming conventions. All raw files should end with raw.fif, raw_sss.fif, raw_tsss.fif, _meg.fif, _eeg.fif, _ieeg.fif, raw.fif.gz, raw_sss.fif.gz, raw_tsss.fif.gz, _meg.fif.gz, _eeg.fif.gz or _ieeg.fif.gz\n",
      "  raw = mne.io.read_raw_fif(dataset_path, preload=True)\n"
     ]
    }
   ],
   "source": [
    "# Load data\n",
    "dataset_path = os.path.join('cichy_data', 'subj0', 'MEG2_subj01_sess01_tsss_mc-3.fif')\n",
    "raw = mne.io.read_raw_fif(dataset_path, preload=True)\n",
    "chn_type = 'mag'\n",
    "raw = raw.pick(chn_type)"
   ]
  },
  {
   "cell_type": "code",
   "execution_count": 64,
   "id": "eb457705",
   "metadata": {},
   "outputs": [
    {
     "name": "stdout",
     "output_type": "stream",
     "text": [
      "Initializing animation...\n"
     ]
    }
   ],
   "source": [
    "path = os.path.join('..', 'results', 'cichy_epoched', 'indiv_noshuffle_wavenetclasslinear', 'trial9.npy')\n",
    "inputs = np.load(open(path, 'rb'))[::4,:].T"
   ]
  },
  {
   "cell_type": "code",
   "execution_count": 6,
   "id": "b4115068",
   "metadata": {},
   "outputs": [],
   "source": [
    "raw.info.update({'sfreq':250})\n",
    "evoked = mne.EvokedArray(inputs[2::3,:], raw.info, tmin=-0.1)"
   ]
  },
  {
   "cell_type": "code",
   "execution_count": 139,
   "id": "79fc660f",
   "metadata": {},
   "outputs": [
    {
     "data": {
      "application/vnd.jupyter.widget-view+json": {
       "model_id": "87f7309ebb274a26ae432806a9cde284",
       "version_major": 2,
       "version_minor": 0
      },
      "text/plain": [
       "Canvas(toolbar=Toolbar(toolitems=[('Home', 'Reset original view', 'home', 'home'), ('Back', 'Back to previous …"
      ]
     },
     "metadata": {},
     "output_type": "display_data"
    }
   ],
   "source": [
    "%matplotlib widget\n",
    "times = np.arange(-0.1, 0.9, 0.004)\n",
    "fig, anim = evoked.animate_topomap(\n",
    "    times=times, ch_type='mag', frame_rate=20, time_unit='ms', blit=False)"
   ]
  },
  {
   "cell_type": "code",
   "execution_count": 24,
   "id": "6429d389",
   "metadata": {},
   "outputs": [
    {
     "data": {
      "application/vnd.jupyter.widget-view+json": {
       "model_id": "f9201b2bc821497a80efd94da73f160d",
       "version_major": 2,
       "version_minor": 0
      },
      "text/plain": [
       "Canvas(toolbar=Toolbar(toolitems=[('Home', 'Reset original view', 'home', 'home'), ('Back', 'Back to previous …"
      ]
     },
     "metadata": {},
     "output_type": "display_data"
    }
   ],
   "source": [
    "%matplotlib widget\n",
    "fig, axs = plt.subplots(6, 5)\n",
    "for i in range(inputs.shape[0]):\n",
    "    for j in range(inputs.shape[1]):\n",
    "        mne.viz.plot_topomap(np.mean(inputs[i,j], axis=1)[::3], raw.info, ch_type='mag', show=True, axes=axs[i,j])"
   ]
  },
  {
   "cell_type": "code",
   "execution_count": 21,
   "id": "d5837e33",
   "metadata": {},
   "outputs": [
    {
     "data": {
      "application/vnd.jupyter.widget-view+json": {
       "model_id": "3cc95ead8b214647a62b686bd62cff81",
       "version_major": 2,
       "version_minor": 0
      },
      "text/plain": [
       "Canvas(toolbar=Toolbar(toolitems=[('Home', 'Reset original view', 'home', 'home'), ('Back', 'Back to previous …"
      ]
     },
     "metadata": {},
     "output_type": "display_data"
    },
    {
     "data": {
      "text/plain": [
       "[<matplotlib.lines.Line2D at 0x7facb08776a0>]"
      ]
     },
     "execution_count": 21,
     "metadata": {},
     "output_type": "execute_result"
    }
   ],
   "source": [
    "%matplotlib widget\n",
    "plt.plot(np.mean(inputs, axis=0))"
   ]
  }
 ],
 "metadata": {
  "kernelspec": {
   "display_name": "Python 3 (ipykernel)",
   "language": "python",
   "name": "python3"
  },
  "language_info": {
   "codemirror_mode": {
    "name": "ipython",
    "version": 3
   },
   "file_extension": ".py",
   "mimetype": "text/x-python",
   "name": "python",
   "nbconvert_exporter": "python",
   "pygments_lexer": "ipython3",
   "version": "3.8.5"
  }
 },
 "nbformat": 4,
 "nbformat_minor": 5
}
