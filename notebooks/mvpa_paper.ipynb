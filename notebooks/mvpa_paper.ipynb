{
 "cells": [
  {
   "cell_type": "code",
   "execution_count": 163,
   "metadata": {},
   "outputs": [],
   "source": [
    "import os\n",
    "import numpy as np\n",
    "import matplotlib.pyplot as plt\n",
    "import mne\n",
    "import pickle\n",
    "import seaborn as sns\n",
    "import pandas as pd\n",
    "from scipy import stats\n",
    "import matplotlib.ticker as ticker\n",
    "from statannotations.Annotator import Annotator\n",
    "\n",
    "plt.rcParams.update({'font.size': 12})"
   ]
  },
  {
   "cell_type": "markdown",
   "metadata": {},
   "source": [
    "# Sliding window"
   ]
  },
  {
   "cell_type": "code",
   "execution_count": 136,
   "metadata": {},
   "outputs": [],
   "source": [
    "def load_df(path):\n",
    "    # Load sliding window data\n",
    "    sliding_df = pd.read_csv(path, sep=\"\\t\", header=0)\n",
    "    sliding_df = sliding_df.stack().reset_index()\n",
    "    sliding_df = sliding_df.rename(columns={'level_0': 'subject', 'level_1': 'Time (ms)', 0: 'Validation accuracy'})\n",
    "\n",
    "    model_type = []\n",
    "    for i in range(len(sliding_df)):\n",
    "        if 'pca' in sliding_df['Time (ms)'][i]:\n",
    "            model_type.append('LDA-PCA')\n",
    "            sliding_df['Time (ms)'][i] = sliding_df['Time (ms)'][i].replace(' (pca-wavelet)', '')\n",
    "        else:\n",
    "            model_type.append('LDA-NN')\n",
    "    sliding_df['model type'] = model_type\n",
    "\n",
    "    # convert Time (ms) to int\n",
    "    sliding_df['Time (ms)'] = sliding_df['Time (ms)'].astype(int)\n",
    "\n",
    "    return sliding_df"
   ]
  },
  {
   "cell_type": "code",
   "execution_count": 153,
   "metadata": {},
   "outputs": [],
   "source": [
    "def plot_df(ax, sliding_df, df, chance):\n",
    "    p_values = []\n",
    "    p_conv = []\n",
    "    p_pca = []\n",
    "    for t in range(45, 940, 10):\n",
    "        test1 = sliding_df['Validation accuracy'][(sliding_df['Time (ms)'] == t) & (sliding_df['model type'] == 'LDA-PCA')]\n",
    "        test2 = sliding_df['Validation accuracy'][(sliding_df['Time (ms)'] == t) & (sliding_df['model type'] == 'LDA-NN')]\n",
    "        \n",
    "        p_values.append(stats.wilcoxon(test1, test2)[1] * 90)\n",
    "\n",
    "        test1 = sliding_df['Validation accuracy'][(sliding_df['Time (ms)'] == t) & (sliding_df['model type'] == 'LDA-NN')]\n",
    "        test2 = df['Validation accuracy'][df['model']=='LDA-NN']\n",
    "        \n",
    "        p_conv.append(stats.wilcoxon(test1, test2)[1] * 90)\n",
    "\n",
    "        test1 = sliding_df['Validation accuracy'][(sliding_df['Time (ms)'] == t) & (sliding_df['model type'] == 'LDA-PCA')]\n",
    "        test2 = df['Validation accuracy'][df['model']=='LDA-PCA']\n",
    "        \n",
    "        p_pca.append(stats.wilcoxon(test1, test2)[1] * 90)\n",
    "\n",
    "    \n",
    "    dots = np.array(range(45, 940, 10))[np.array(p_values)<0.05]\n",
    "    ax.plot(dots, [0.5]*len(dots), 'ro', markersize=2, label='LDA-NN SW > LDA-PCA SW (p<0.05)')\n",
    "\n",
    "    # lines for full-epoch accuracy\n",
    "    dots = np.array(range(45, 940, 10))[np.array(p_conv)<0.05]\n",
    "    avg = np.average(df['Validation accuracy'][df['model']=='LDA-NN'])\n",
    "    ax.plot(dots, [avg]*len(dots), 'bo', markersize=2, label='LDA-NN FE > LDA-NN SW (p<0.05)')\n",
    "\n",
    "    dots = np.array(range(45, 940, 10))[np.array(p_pca)<0.05]\n",
    "    avg = np.average(df['Validation accuracy'][df['model']=='LDA-PCA'])\n",
    "    ax.plot(dots, [avg]*len(dots), 'o', color='orange', markersize=2, label='LDA-PCA FE > LDA-PCA SW (p<0.05)')\n",
    "\n",
    "    # Plot sliding window data, with legend inside the plot and sparse x ticks\n",
    "    sliding_plot = sns.lineplot(data=sliding_df,\n",
    "                                x=\"Time (ms)\",\n",
    "                                y=\"Validation accuracy\",\n",
    "                                hue='model type',\n",
    "                                legend='full',\n",
    "                                n_boot=100,\n",
    "                                ax=ax)\n",
    "\n",
    "    ax.set_xlim(0, None)\n",
    "\n",
    "    if chance>0.01:\n",
    "        ax.set_ylabel('')\n",
    "\n",
    "    ax.axhline(chance, ls='--', color='black', label='chance level')\n",
    "\n",
    "    #ax.legend(loc='upper right', bbox_to_anchor=(1, 1))"
   ]
  },
  {
   "cell_type": "code",
   "execution_count": 137,
   "metadata": {},
   "outputs": [
    {
     "name": "stderr",
     "output_type": "stream",
     "text": [
      "/var/folders/nv/wjmf18wd5_j38vg9v0cthl5h0000gn/T/ipykernel_5281/3657271187.py:11: SettingWithCopyWarning: \n",
      "A value is trying to be set on a copy of a slice from a DataFrame\n",
      "\n",
      "See the caveats in the documentation: https://pandas.pydata.org/pandas-docs/stable/user_guide/indexing.html#returning-a-view-versus-a-copy\n",
      "  sliding_df['Time (ms)'][i] = sliding_df['Time (ms)'][i].replace(' (pca-wavelet)', '')\n"
     ]
    }
   ],
   "source": [
    "cichy118_df = load_df('cichy118_sliding.txt')\n",
    "cichy92_df = load_df('cichy118_sliding.txt')"
   ]
  },
  {
   "cell_type": "code",
   "execution_count": 150,
   "metadata": {},
   "outputs": [
    {
     "data": {
      "text/plain": [
       "([<matplotlib.lines.Line2D at 0x7fb03b7c64f0>,\n",
       "  <matplotlib.lines.Line2D at 0x7fb03b7c61f0>,\n",
       "  <matplotlib.lines.Line2D at 0x7fb03b7c6700>,\n",
       "  <matplotlib.lines.Line2D at 0x7fb03b7e31f0>,\n",
       "  <matplotlib.lines.Line2D at 0x7fb03b7e47c0>,\n",
       "  <matplotlib.lines.Line2D at 0x7fb08d29ebb0>],\n",
       " ['LDA-NN SW > LDA-PCA SW (p<0.05)',\n",
       "  'LDA-NN FE > LDA-NN SW (p<0.05)',\n",
       "  'LDA-PCA FE > LDA-PCA SW (p<0.05)',\n",
       "  'LDA-NN',\n",
       "  'LDA-PCA',\n",
       "  'chance level'])"
      ]
     },
     "execution_count": 150,
     "metadata": {},
     "output_type": "execute_result"
    }
   ],
   "source": [
    "axes[0].get_legend_handles_labels()"
   ]
  },
  {
   "cell_type": "code",
   "execution_count": 165,
   "metadata": {},
   "outputs": [
    {
     "data": {
      "application/vnd.jupyter.widget-view+json": {
       "model_id": "b550708f58d04c76ad7a915df748b2db",
       "version_major": 2,
       "version_minor": 0
      },
      "text/plain": [
       "Canvas(toolbar=Toolbar(toolitems=[('Home', 'Reset original view', 'home', 'home'), ('Back', 'Back to previous …"
      ]
     },
     "metadata": {},
     "output_type": "display_data"
    },
    {
     "name": "stderr",
     "output_type": "stream",
     "text": [
      "/Users/ricsi/miniconda3/envs/main/lib/python3.8/site-packages/scipy/stats/morestats.py:3141: UserWarning: Exact p-value calculation does not work if there are ties. Switching to normal approximation.\n",
      "  warnings.warn(\"Exact p-value calculation does not work if there are \"\n",
      "/Users/ricsi/miniconda3/envs/main/lib/python3.8/site-packages/scipy/stats/morestats.py:3141: UserWarning: Exact p-value calculation does not work if there are ties. Switching to normal approximation.\n",
      "  warnings.warn(\"Exact p-value calculation does not work if there are \"\n"
     ]
    },
    {
     "data": {
      "text/plain": [
       "<matplotlib.legend.Legend at 0x7fb05c8f05e0>"
      ]
     },
     "execution_count": 165,
     "metadata": {},
     "output_type": "execute_result"
    }
   ],
   "source": [
    "%matplotlib widget\n",
    "fig, axes = plt.subplots(1, 2)\n",
    "\n",
    "plot_df(axes[0], cichy118_df, df, 0.008)\n",
    "plot_df(axes[1], cichy92_df, df, 0.011)\n",
    "\n",
    "handles, labels = axes[0].get_legend_handles_labels()\n",
    "\n",
    "# remove legend of axes\n",
    "axes[0].legend_.remove()\n",
    "axes[1].legend_.remove()\n",
    "fig.legend(handles,\n",
    "           labels,\n",
    "           loc='upper center',\n",
    "           bbox_to_anchor=(0.5, 1),\n",
    "           fancybox=True,\n",
    "           shadow=True,\n",
    "           ncol=3)"
   ]
  },
  {
   "cell_type": "code",
   "execution_count": 121,
   "metadata": {},
   "outputs": [
    {
     "data": {
      "application/vnd.jupyter.widget-view+json": {
       "model_id": "b5834523aa8a47c4b92c69245351c59f",
       "version_major": 2,
       "version_minor": 0
      },
      "text/plain": [
       "Canvas(toolbar=Toolbar(toolitems=[('Home', 'Reset original view', 'home', 'home'), ('Back', 'Back to previous …"
      ]
     },
     "metadata": {},
     "output_type": "display_data"
    }
   ],
   "source": [
    "\n",
    "\n",
    "\n",
    "\n",
    "e=0"
   ]
  },
  {
   "cell_type": "markdown",
   "metadata": {},
   "source": [
    "# Full epoch"
   ]
  },
  {
   "cell_type": "code",
   "execution_count": 85,
   "metadata": {},
   "outputs": [],
   "source": [
    "df = pd.read_csv('cichy118_epoch.txt', sep=\"\\t\", header=0)\n",
    "df = df.stack().reset_index()\n",
    "df = df.rename(columns={'level_0': 'subject', 'level_1': 'model', 0: 'Validation accuracy'})"
   ]
  },
  {
   "cell_type": "code",
   "execution_count": 72,
   "metadata": {},
   "outputs": [
    {
     "data": {
      "application/vnd.jupyter.widget-view+json": {
       "model_id": "71925d9f156a47f1a4d7dc53f534b683",
       "version_major": 2,
       "version_minor": 0
      },
      "text/plain": [
       "Canvas(toolbar=Toolbar(toolitems=[('Home', 'Reset original view', 'home', 'home'), ('Back', 'Back to previous …"
      ]
     },
     "metadata": {},
     "output_type": "display_data"
    },
    {
     "name": "stdout",
     "output_type": "stream",
     "text": [
      "p-value annotation legend:\n",
      "      ns: p <= 1.00e+00\n",
      "       *: 1.00e-02 < p <= 5.00e-02\n",
      "      **: 1.00e-03 < p <= 1.00e-02\n",
      "     ***: 1.00e-04 < p <= 1.00e-03\n",
      "    ****: p <= 1.00e-04\n",
      "\n",
      "LDA-PCA vs. LDA-NN: Wilcoxon test (paired samples), P_val:6.104e-05 Stat=0.000e+00\n",
      "Warning: cannot get the text bounding box. Falling back to a fixed y offset. Layout may be not optimal.\n"
     ]
    },
    {
     "data": {
      "text/plain": [
       "(<AxesSubplot:ylabel='Validation accuracy'>,\n",
       " [<statannotations.Annotation.Annotation at 0x7fb04b14bd00>])"
      ]
     },
     "execution_count": 72,
     "metadata": {},
     "output_type": "execute_result"
    }
   ],
   "source": [
    "%matplotlib widget\n",
    "\n",
    "plt.rcParams.update({'font.size': 14})\n",
    "# Putting the parameters in a dictionary avoids code duplication\n",
    "# since we use the same for `sns.boxplot` and `Annotator` calls\n",
    "plot_params = {\n",
    "    'kind':    'violin',\n",
    "    'aspect':  1,\n",
    "    'cut':     0,\n",
    "    'ci':      None,\n",
    "    'scale':   'width',\n",
    "    'data':    df,\n",
    "    'x':       'model',\n",
    "    'y':       'Validation accuracy',\n",
    "    'legend':  None\n",
    "}\n",
    "\n",
    "g = sns.catplot(**plot_params)\n",
    "\n",
    "ax = g.axes[0][0]\n",
    "ax.axhline(0.011, ls='--', color='black', label='chance')\n",
    "plt.ylim(0, 1)\n",
    "plt.xlabel('')\n",
    "#plt.text(2.1,0.015,'chance')\n",
    "\n",
    "# which pairs to computer stats on\n",
    "pairs = [('LDA-PCA', 'LDA-NN')]\n",
    "\n",
    "# Add statistics annotations\n",
    "annotator = Annotator(ax, pairs, data=df, x='model', y='Validation accuracy')\n",
    "annotator.configure(test='Wilcoxon', verbose=True, line_offset_to_group=10).apply_and_annotate()\n",
    "#plt.savefig('/Users/ricsi/GoogleDrive/Projektek/The Brain Project/oxford/writings/mvpa_figures/cichy118_epoch.pdf', format='pdf')"
   ]
  }
 ],
 "metadata": {
  "kernelspec": {
   "display_name": "Python 3.8.5 ('main')",
   "language": "python",
   "name": "python3"
  },
  "language_info": {
   "codemirror_mode": {
    "name": "ipython",
    "version": 3
   },
   "file_extension": ".py",
   "mimetype": "text/x-python",
   "name": "python",
   "nbconvert_exporter": "python",
   "pygments_lexer": "ipython3",
   "version": "3.8.5"
  },
  "orig_nbformat": 4,
  "vscode": {
   "interpreter": {
    "hash": "3818df9f0fda158f80d2404c4b51c3eecd7a0fbc4149212a6ea8c0c98c2a56f5"
   }
  }
 },
 "nbformat": 4,
 "nbformat_minor": 2
}
