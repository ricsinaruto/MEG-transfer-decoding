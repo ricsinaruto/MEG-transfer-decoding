{
 "cells": [
  {
   "cell_type": "code",
   "execution_count": 1,
   "metadata": {},
   "outputs": [],
   "source": [
    "import os\n",
    "import numpy as np\n",
    "import mne\n",
    "import osl\n",
    "import yaml\n",
    "import pickle\n",
    "from scipy.io import savemat\n",
    "import matplotlib.pyplot as plt\n",
    "from collections import Counter\n",
    "\n",
    "from sklearn.preprocessing import StandardScaler, RobustScaler\n",
    "from sklearn.cluster import KMeans\n",
    "from sklearn.manifold import TSNE\n",
    "from sklearn.decomposition import PCA\n",
    "from sklearn.discriminant_analysis import LinearDiscriminantAnalysis as LDA\n",
    "\n",
    "# import distance_riemann\n",
    "from pyriemann.utils.distance import distance_riemann"
   ]
  },
  {
   "cell_type": "code",
   "execution_count": null,
   "metadata": {},
   "outputs": [],
   "source": [
    "# closest 1 for eeg data\n",
    "a = np.arange(53).reshape(-1, 1)\n",
    "pickle.dump(a, open('eeg_closest1', 'wb'))"
   ]
  },
  {
   "cell_type": "code",
   "execution_count": null,
   "metadata": {},
   "outputs": [],
   "source": [
    "rem = ['F7', 'F2', 'F4', 'F6', 'FT9', 'T9', 'P4', 'OZ',\n",
    "        'F3', 'P1', 'PO7', 'PO3', 'PO4', 'PO8', 'O1', 'O2']\n",
    "\n",
    "# print indices of channels not to remove\n",
    "print([i for i, ch in enumerate(epochs[0].info['ch_names']) if ch not in rem])"
   ]
  },
  {
   "cell_type": "code",
   "execution_count": null,
   "metadata": {},
   "outputs": [],
   "source": [
    "keep = ['TP9', 'TP7', 'CP3', 'CP1', 'P1', 'P3', 'P5', 'P7', 'T7', 'T9', 'TP10', 'TP8', 'CP4', 'CP2', 'P2', 'P4', 'P6', 'P8', 'T8', 'T10', 'FT7', 'FT8']\n",
    "\n",
    "# print indices of channels not to remove\n",
    "print([i for i, ch in enumerate(epochs[0].info['ch_names']) if ch in keep])"
   ]
  },
  {
   "cell_type": "code",
   "execution_count": 2,
   "metadata": {},
   "outputs": [
    {
     "name": "stdout",
     "output_type": "stream",
     "text": [
      "Opening raw data file /gpfs2/well/woolrich/projects/disp_csaky/eeg/session2/preproc1_40hz_noica/oslpy/preproc_preproc_raw.fif...\n",
      "    Range : 0 ... 3068699 =      0.000 ...  3068.699 secs\n",
      "Ready.\n",
      "Reading 0 ... 3068699  =      0.000 ...  3068.699 secs...\n",
      "Opening raw data file /gpfs2/well/woolrich/projects/disp_csaky/eeg/session3/preproc1_40hz_noica/oslpy/preproc_preproc_raw.fif...\n",
      "    Range : 0 ... 2754699 =      0.000 ...  2754.699 secs\n",
      "Ready.\n",
      "Reading 0 ... 2754699  =      0.000 ...  2754.699 secs...\n",
      "Opening raw data file /gpfs2/well/woolrich/projects/disp_csaky/eeg/session4/preproc1_40hz_noica/oslpy/preproc_preproc_raw.fif...\n",
      "    Range : 0 ... 2758099 =      0.000 ...  2758.099 secs\n",
      "Ready.\n",
      "Reading 0 ... 2758099  =      0.000 ...  2758.099 secs...\n",
      "Opening raw data file /gpfs2/well/woolrich/projects/disp_csaky/eeg/session5/preproc1_40hz_noica/oslpy/preproc_preproc_raw.fif...\n",
      "    Range : 0 ... 2786699 =      0.000 ...  2786.699 secs\n",
      "Ready.\n",
      "Reading 0 ... 2786699  =      0.000 ...  2786.699 secs...\n",
      "Opening raw data file /gpfs2/well/woolrich/projects/disp_csaky/eeg/session6/preproc1_40hz_noica/oslpy/preproc_preproc_raw.fif...\n",
      "    Range : 0 ... 2769299 =      0.000 ...  2769.299 secs\n",
      "Ready.\n",
      "Reading 0 ... 2769299  =      0.000 ...  2769.299 secs...\n",
      "Opening raw data file /gpfs2/well/woolrich/projects/disp_csaky/eeg/session7/preproc1_40hz_noica/oslpy/preproc_preproc_raw.fif...\n",
      "    Range : 0 ... 2738499 =      0.000 ...  2738.499 secs\n",
      "Ready.\n",
      "Reading 0 ... 2738499  =      0.000 ...  2738.499 secs...\n",
      "Opening raw data file /gpfs2/well/woolrich/projects/disp_csaky/eeg/session8/preproc1_40hz_noica/oslpy/preproc_preproc_raw.fif...\n",
      "    Range : 0 ... 3208899 =      0.000 ...  3208.899 secs\n",
      "Ready.\n",
      "Reading 0 ... 3208899  =      0.000 ...  3208.899 secs...\n",
      "Opening raw data file /gpfs2/well/woolrich/projects/disp_csaky/eeg/session9/preproc1_40hz_noica/oslpy/preproc_preproc_raw.fif...\n",
      "    Range : 0 ... 2829399 =      0.000 ...  2829.399 secs\n",
      "Ready.\n",
      "Reading 0 ... 2829399  =      0.000 ...  2829.399 secs...\n",
      "Opening raw data file /gpfs2/well/woolrich/projects/disp_csaky/eeg/session10/preproc1_40hz_noica/oslpy/preproc_preproc_raw.fif...\n",
      "    Range : 0 ... 2866899 =      0.000 ...  2866.899 secs\n",
      "Ready.\n",
      "Reading 0 ... 2866899  =      0.000 ...  2866.899 secs...\n",
      "Opening raw data file /gpfs2/well/woolrich/projects/disp_csaky/eeg/session11/preproc1_40hz_noica/oslpy/preproc_preproc_raw.fif...\n",
      "    Range : 0 ... 2789799 =      0.000 ...  2789.799 secs\n",
      "Ready.\n",
      "Reading 0 ... 2789799  =      0.000 ...  2789.799 secs...\n"
     ]
    }
   ],
   "source": [
    "raws = []\n",
    "\n",
    "for i in range(2, 12):\n",
    "    sid = str(i)\n",
    "    fif_name = \"preproc_preproc_raw.fif\"\n",
    "    base = \"/gpfs2/well/woolrich/projects/disp_csaky/eeg/\"\n",
    "    dataset_path = base + f\"session{sid}/preproc1_40hz_noica/oslpy/\" + fif_name\n",
    "\n",
    "    # load raw data\n",
    "    raws.append(mne.io.read_raw_fif(dataset_path, preload=True))"
   ]
  },
  {
   "cell_type": "code",
   "execution_count": null,
   "metadata": {},
   "outputs": [],
   "source": [
    "bads = Counter()\n",
    "for raw in raws:\n",
    "    bads.update(raw.info['bads'])\n",
    "print(bads)"
   ]
  },
  {
   "cell_type": "code",
   "execution_count": null,
   "metadata": {},
   "outputs": [],
   "source": [
    "bad_channels = [ch for ch, count in bads.items() if count > 1]\n",
    "bad_channels"
   ]
  },
  {
   "cell_type": "code",
   "execution_count": null,
   "metadata": {},
   "outputs": [],
   "source": [
    "raws = [raw.drop_channels(bad_channels) for raw in raws]"
   ]
  },
  {
   "cell_type": "code",
   "execution_count": null,
   "metadata": {},
   "outputs": [],
   "source": [
    "# save raws\n",
    "for i in range(2, 12):\n",
    "    sid = str(i)\n",
    "    fif_name = \"preproc_preproc_raw.fif\"\n",
    "    base = \"/gpfs2/well/woolrich/projects/disp_csaky/eeg/\"\n",
    "    dataset_path = base + f\"session{sid}/preproc1_20hz_noica/oslpy/\" + fif_name\n",
    "\n",
    "    # save raw data\n",
    "    raws[i-2].save(dataset_path, overwrite=True)"
   ]
  },
  {
   "cell_type": "code",
   "execution_count": null,
   "metadata": {},
   "outputs": [],
   "source": [
    "raws[0].plot_sensors(ch_type='eeg', kind='topomap', show_names=True)"
   ]
  },
  {
   "cell_type": "code",
   "execution_count": null,
   "metadata": {},
   "outputs": [],
   "source": [
    "%matplotlib widget\n",
    "raws[0].plot(n_channels=30, duration=50)\n",
    "e=0"
   ]
  },
  {
   "cell_type": "code",
   "execution_count": 3,
   "metadata": {},
   "outputs": [
    {
     "name": "stdout",
     "output_type": "stream",
     "text": [
      "Used Annotations descriptions: ['11', '12', '13', '14', '15', '2', '3', '4', '5', '6', '7', '8']\n",
      "176\n",
      "162\n",
      "Not setting metadata\n",
      "1352 matching events found\n",
      "No baseline correction applied\n",
      "0 projection items activated\n",
      "Using data from preloaded Raw for 1352 events and 2001 original time points ...\n"
     ]
    },
    {
     "name": "stderr",
     "output_type": "stream",
     "text": [
      "<ipython-input-3-d163d16fc5e5>:69: RuntimeWarning: The events passed to the Epochs constructor are not chronologically ordered.\n",
      "  ep = mne.Epochs(raw,\n"
     ]
    },
    {
     "name": "stdout",
     "output_type": "stream",
     "text": [
      "256 bad epochs dropped\n",
      "Used Annotations descriptions: ['11', '12', '13', '14', '15', '2', '3', '4', '5', '6', '7', '8']\n",
      "error1\n",
      "178\n",
      "162\n",
      "Not setting metadata\n",
      "1356 matching events found\n",
      "No baseline correction applied\n",
      "0 projection items activated\n",
      "Using data from preloaded Raw for 1356 events and 2001 original time points ...\n"
     ]
    },
    {
     "name": "stderr",
     "output_type": "stream",
     "text": [
      "<ipython-input-3-d163d16fc5e5>:69: RuntimeWarning: The events passed to the Epochs constructor are not chronologically ordered.\n",
      "  ep = mne.Epochs(raw,\n"
     ]
    },
    {
     "name": "stdout",
     "output_type": "stream",
     "text": [
      "213 bad epochs dropped\n",
      "Used Annotations descriptions: ['11', '12', '13', '14', '15', '2', '3', '4', '5', '6', '7', '8']\n",
      "179\n",
      "162\n",
      "Not setting metadata\n",
      "1364 matching events found\n",
      "No baseline correction applied\n",
      "0 projection items activated\n",
      "Using data from preloaded Raw for 1364 events and 2001 original time points ...\n"
     ]
    },
    {
     "name": "stderr",
     "output_type": "stream",
     "text": [
      "<ipython-input-3-d163d16fc5e5>:69: RuntimeWarning: The events passed to the Epochs constructor are not chronologically ordered.\n",
      "  ep = mne.Epochs(raw,\n"
     ]
    },
    {
     "name": "stdout",
     "output_type": "stream",
     "text": [
      "149 bad epochs dropped\n",
      "Used Annotations descriptions: ['10', '11', '12', '13', '14', '15', '2', '3', '4', '5', '6', '7', '8']\n",
      "182\n",
      "160\n",
      "Not setting metadata\n",
      "1368 matching events found\n",
      "No baseline correction applied\n",
      "0 projection items activated\n",
      "Using data from preloaded Raw for 1368 events and 2001 original time points ...\n"
     ]
    },
    {
     "name": "stderr",
     "output_type": "stream",
     "text": [
      "<ipython-input-3-d163d16fc5e5>:69: RuntimeWarning: The events passed to the Epochs constructor are not chronologically ordered.\n",
      "  ep = mne.Epochs(raw,\n"
     ]
    },
    {
     "name": "stdout",
     "output_type": "stream",
     "text": [
      "326 bad epochs dropped\n",
      "Used Annotations descriptions: ['10', '11', '12', '13', '14', '15', '2', '3', '4', '5', '6', '7', '8']\n",
      "177\n",
      "161\n",
      "Not setting metadata\n",
      "1352 matching events found\n",
      "No baseline correction applied\n",
      "0 projection items activated\n",
      "Using data from preloaded Raw for 1352 events and 2001 original time points ...\n"
     ]
    },
    {
     "name": "stderr",
     "output_type": "stream",
     "text": [
      "<ipython-input-3-d163d16fc5e5>:69: RuntimeWarning: The events passed to the Epochs constructor are not chronologically ordered.\n",
      "  ep = mne.Epochs(raw,\n"
     ]
    },
    {
     "name": "stdout",
     "output_type": "stream",
     "text": [
      "104 bad epochs dropped\n",
      "Used Annotations descriptions: ['10', '11', '12', '13', '14', '15', '2', '3', '4', '5', '6', '7', '8']\n",
      "183\n",
      "160\n",
      "Not setting metadata\n",
      "1372 matching events found\n",
      "No baseline correction applied\n",
      "0 projection items activated\n",
      "Using data from preloaded Raw for 1372 events and 2001 original time points ...\n"
     ]
    },
    {
     "name": "stderr",
     "output_type": "stream",
     "text": [
      "<ipython-input-3-d163d16fc5e5>:69: RuntimeWarning: The events passed to the Epochs constructor are not chronologically ordered.\n",
      "  ep = mne.Epochs(raw,\n"
     ]
    },
    {
     "name": "stdout",
     "output_type": "stream",
     "text": [
      "216 bad epochs dropped\n",
      "Used Annotations descriptions: ['11', '12', '13', '14', '15', '2', '3', '4', '5', '6', '7', '8']\n",
      "183\n",
      "162\n",
      "Not setting metadata\n",
      "1380 matching events found\n",
      "No baseline correction applied\n",
      "0 projection items activated\n",
      "Using data from preloaded Raw for 1380 events and 2001 original time points ...\n"
     ]
    },
    {
     "name": "stderr",
     "output_type": "stream",
     "text": [
      "<ipython-input-3-d163d16fc5e5>:69: RuntimeWarning: The events passed to the Epochs constructor are not chronologically ordered.\n",
      "  ep = mne.Epochs(raw,\n"
     ]
    },
    {
     "name": "stdout",
     "output_type": "stream",
     "text": [
      "144 bad epochs dropped\n",
      "Used Annotations descriptions: ['11', '12', '13', '14', '15', '2', '3', '4', '5', '6', '7', '8']\n",
      "189\n",
      "162\n",
      "Not setting metadata\n",
      "1404 matching events found\n",
      "No baseline correction applied\n",
      "0 projection items activated\n",
      "Using data from preloaded Raw for 1404 events and 2001 original time points ...\n"
     ]
    },
    {
     "name": "stderr",
     "output_type": "stream",
     "text": [
      "<ipython-input-3-d163d16fc5e5>:69: RuntimeWarning: The events passed to the Epochs constructor are not chronologically ordered.\n",
      "  ep = mne.Epochs(raw,\n"
     ]
    },
    {
     "name": "stdout",
     "output_type": "stream",
     "text": [
      "154 bad epochs dropped\n",
      "Used Annotations descriptions: ['11', '12', '13', '14', '15', '2', '3', '4', '5', '6', '7', '8']\n",
      "177\n",
      "162\n",
      "Not setting metadata\n",
      "1356 matching events found\n",
      "No baseline correction applied\n",
      "0 projection items activated\n",
      "Using data from preloaded Raw for 1356 events and 2001 original time points ...\n"
     ]
    },
    {
     "name": "stderr",
     "output_type": "stream",
     "text": [
      "<ipython-input-3-d163d16fc5e5>:69: RuntimeWarning: The events passed to the Epochs constructor are not chronologically ordered.\n",
      "  ep = mne.Epochs(raw,\n"
     ]
    },
    {
     "name": "stdout",
     "output_type": "stream",
     "text": [
      "107 bad epochs dropped\n",
      "Used Annotations descriptions: ['10', '11', '12', '13', '14', '15', '2', '3', '4', '5', '6', '7', '8']\n",
      "188\n",
      "161\n",
      "Not setting metadata\n",
      "1396 matching events found\n",
      "No baseline correction applied\n",
      "0 projection items activated\n",
      "Using data from preloaded Raw for 1396 events and 2001 original time points ...\n"
     ]
    },
    {
     "name": "stderr",
     "output_type": "stream",
     "text": [
      "<ipython-input-3-d163d16fc5e5>:69: RuntimeWarning: The events passed to the Epochs constructor are not chronologically ordered.\n",
      "  ep = mne.Epochs(raw,\n"
     ]
    },
    {
     "name": "stdout",
     "output_type": "stream",
     "text": [
      "56 bad epochs dropped\n"
     ]
    }
   ],
   "source": [
    "# find epochs specific to words\n",
    "event_id = {'2': 2, '3': 3, '4': 4, '5': 5, '6': 6, '7': 7, '8': 8, '10': 10, '11': 11, '12': 12, '13': 13, '14': 14, '15': 15}\n",
    "epoch_event_id = {'words/hungry': 2, 'words/thirst': 3, 'words/tired': 4, 'words/toilet': 5, 'words/pain': 6}\n",
    "\n",
    "epochs = []\n",
    "for raw in raws:\n",
    "    events = mne.events_from_annotations(raw, event_id=event_id)\n",
    "\n",
    "    event_c = np.array([e[2] for e in events[0]])\n",
    "    event_t = np.array([e[0] for e in events[0]])\n",
    "\n",
    "    count1 = 0\n",
    "    count2 = 0\n",
    "    new_events = []\n",
    "    for i, (et, ec) in enumerate(zip(event_t, event_c)):\n",
    "        if ec < 7 and ec > 1:\n",
    "            count1 += 1\n",
    "            if event_c[i+1] == 8:\n",
    "                new_events.append(np.array([event_t[i+1], 0, ec]))\n",
    "            else:\n",
    "                print('error1')\n",
    "                continue\n",
    "            if event_c[i+2] == 8:\n",
    "                new_events.append(np.array([event_t[i+2], 0, ec]))\n",
    "            else:\n",
    "                print('error2')\n",
    "            if event_c[i+3] == 8:\n",
    "                new_events.append(np.array([event_t[i+3], 0, ec]))\n",
    "            else:\n",
    "                print('error3')\n",
    "            if event_c[i+4] == 8:\n",
    "                new_events.append(np.array([event_t[i+4], 0, ec]))\n",
    "            else:\n",
    "                print('error4')\n",
    "\n",
    "        elif ec < 16 and ec > 10:\n",
    "            count2 += 1\n",
    "            split_events = event_c[i-18:i-4]\n",
    "            #print(split_events)\n",
    "            tind = np.nonzero(split_events == 7)[0][-1]\n",
    "\n",
    "            tind += i-18\n",
    "\n",
    "            if event_c[tind+1] == 8:\n",
    "                new_events.append(np.array([event_t[tind+1], 0, ec-9]))\n",
    "            else:\n",
    "                print('erorr5')\n",
    "                print(event_c[i-20:i])\n",
    "            if event_c[tind+2] == 8:\n",
    "                new_events.append(np.array([event_t[tind+2], 0, ec-9]))\n",
    "            else:\n",
    "                print('erorr6')\n",
    "                print(event_c[i-20:i])\n",
    "            if event_c[tind+3] == 8:\n",
    "                new_events.append(np.array([event_t[tind+3], 0, ec-9]))\n",
    "            else:\n",
    "                print('erorr7')\n",
    "            if event_c[tind+4] == 8:\n",
    "                new_events.append(np.array([event_t[tind+4], 0, ec-9]))\n",
    "            else:\n",
    "                print('erorr8')\n",
    "\n",
    "\n",
    "    print(count1)\n",
    "    print(count2)\n",
    "\n",
    "    new_events = np.array(new_events)\n",
    "\n",
    "    ep = mne.Epochs(raw,\n",
    "                    new_events,\n",
    "                    event_id=epoch_event_id,\n",
    "                    tmin=-1,\n",
    "                    tmax=1,\n",
    "                    baseline=None,\n",
    "                    picks=['eeg'],\n",
    "                    reject=None,\n",
    "                    preload=True)\n",
    "    epochs.append(ep)"
   ]
  },
  {
   "cell_type": "code",
   "execution_count": null,
   "metadata": {},
   "outputs": [],
   "source": [
    "# find epochs specific to words\n",
    "event_id = {'2': 2, '3': 3, '4': 4, '5': 5, '6': 6, '7': 7, '8': 8, '10': 10, '11': 11, '12': 12, '13': 13, '14': 14, '15': 15}\n",
    "epoch_event_id = {'words/hungry': 2, 'words/thirst': 3, 'words/tired': 4, 'words/toilet': 5, 'words/pain': 6}\n",
    "\n",
    "epochs = []\n",
    "for raw in raws:\n",
    "    events = mne.events_from_annotations(raw, event_id=event_id)\n",
    "\n",
    "    event_c = np.array([e[2] for e in events[0]])\n",
    "    event_t = np.array([e[0] for e in events[0]])\n",
    "\n",
    "    count1 = 0\n",
    "    count2 = 0\n",
    "    new_events = []\n",
    "    for i, (et, ec) in enumerate(zip(event_t, event_c)):\n",
    "        if ec < 7 and ec > 1:\n",
    "            count1 += 1\n",
    "            if event_c[i+1] == 8:\n",
    "                new_events.append(np.array([event_t[i+1], 0, ec]))\n",
    "            else:\n",
    "                print('error1')\n",
    "                continue\n",
    "\n",
    "        elif ec < 16 and ec > 10:\n",
    "            count2 += 1\n",
    "            split_events = event_c[i-18:i-4]\n",
    "            #print(split_events)\n",
    "            tind = np.nonzero(split_events == 7)[0][-1]\n",
    "\n",
    "            tind += i-18\n",
    "\n",
    "            if event_c[tind+1] == 8:\n",
    "                new_events.append(np.array([event_t[tind+1], 0, ec-9]))\n",
    "            else:\n",
    "                print('erorr5')\n",
    "                print(event_c[i-20:i])\n",
    "\n",
    "\n",
    "    print(count1)\n",
    "    print(count2)\n",
    "\n",
    "    new_events = np.array(new_events)\n",
    "\n",
    "    ep = mne.Epochs(raw,\n",
    "                    new_events,\n",
    "                    event_id=epoch_event_id,\n",
    "                    tmin=0,\n",
    "                    tmax=4,\n",
    "                    baseline=None,\n",
    "                    picks=['eeg'],\n",
    "                    reject=None,\n",
    "                    preload=True)\n",
    "    epochs.append(ep)"
   ]
  },
  {
   "cell_type": "code",
   "execution_count": null,
   "metadata": {},
   "outputs": [],
   "source": [
    "', '.join([f\"'{ch}'\" for ch in epochs[0].ch_names])"
   ]
  },
  {
   "cell_type": "code",
   "execution_count": null,
   "metadata": {},
   "outputs": [],
   "source": [
    "for i, session in enumerate(epochs):\n",
    "    sid = str(i+2)\n",
    "    outdir = base + f\"preproc1_20hz_noica/inner_speech_long/sub\" + str(i)\n",
    "    for epoch, event in zip(session, session.events):\n",
    "        data = epoch.T.astype(np.float32)\n",
    "\n",
    "        event_id = event[-1]\n",
    "        os.makedirs(f\"{outdir}/cond{event_id-2}\", exist_ok=True)\n",
    "        n_trials = int(len(os.listdir(f\"{outdir}/cond{event_id-2}\"))/2)\n",
    "        np.save(f\"{outdir}/cond{event_id-2}/trial{n_trials}.npy\", data)\n",
    "        savemat(f\"{outdir}/cond{event_id-2}/trial{n_trials}.mat\", {'X': data})"
   ]
  },
  {
   "cell_type": "code",
   "execution_count": null,
   "metadata": {},
   "outputs": [],
   "source": [
    "data.shape"
   ]
  },
  {
   "cell_type": "code",
   "execution_count": null,
   "metadata": {},
   "outputs": [],
   "source": [
    "evokeds_avg[0].get_data().shape"
   ]
  },
  {
   "cell_type": "code",
   "execution_count": null,
   "metadata": {},
   "outputs": [],
   "source": [
    "for i, session in enumerate(epochs):\n",
    "    sid = str(i+2)\n",
    "    outdir = base + f\"preproc1_20hz_noica/inner_speech_long_conv/sub\" + str(i)\n",
    "    evkd = abs(evokeds_avg[i].get_data().T)\n",
    "    for epoch, event in zip(session, session.events):\n",
    "        data = epoch.T.astype(np.float32)\n",
    "\n",
    "        # multiply with evoked\n",
    "        data = data * evkd\n",
    "\n",
    "        event_id = event[-1]\n",
    "        os.makedirs(f\"{outdir}/cond{event_id-2}\", exist_ok=True)\n",
    "        n_trials = int(len(os.listdir(f\"{outdir}/cond{event_id-2}\"))/2)\n",
    "        np.save(f\"{outdir}/cond{event_id-2}/trial{n_trials}.npy\", data)\n",
    "        savemat(f\"{outdir}/cond{event_id-2}/trial{n_trials}.mat\", {'X': data})"
   ]
  },
  {
   "cell_type": "code",
   "execution_count": null,
   "metadata": {},
   "outputs": [],
   "source": [
    "evokeds_avg = [ep.average() for ep in epochs]"
   ]
  },
  {
   "cell_type": "code",
   "execution_count": null,
   "metadata": {},
   "outputs": [],
   "source": [
    "# construct a sinusoidal wave with a frequency of 10 Hz at 1000 Hz sampling rate\n",
    "sfreq = 1000\n",
    "times = np.arange(sfreq) / sfreq\n",
    "sin = np.sin(2 * np.pi * 10 * times)\n",
    "\n",
    "evkd_chn = evkd[46][500:1500]\n",
    "\n",
    "convolved = np.convolve(sin, evkd_chn, mode='same')\n",
    "convolved = np.convolve(convolved, evkd_chn, mode='same')\n",
    "\n",
    "%matplotlib widget\n",
    "fig, ax1 = plt.subplots()\n",
    "ax1.plot(sin*evkd_chn)\n",
    "\n",
    "ax2 = ax1.twinx()\n",
    "ax2.plot(evkd_chn, color='r')"
   ]
  },
  {
   "cell_type": "code",
   "execution_count": null,
   "metadata": {},
   "outputs": [],
   "source": [
    "trials = epochs[0].get_data()\n",
    "evkd = np.mean(trials, axis=0)\n",
    "\n",
    "print(trials.shape)\n",
    "print(evkd.shape)"
   ]
  },
  {
   "cell_type": "code",
   "execution_count": null,
   "metadata": {},
   "outputs": [],
   "source": [
    "# convolve each trial with evoked response\n",
    "convolved = np.zeros_like(trials)\n",
    "for ind in range(trials.shape[0]):\n",
    "    for ch in range(trials.shape[1]):\n",
    "        #convolved[ind, ch] = np.convolve(trials[ind][ch], evkd[ch], mode='same')\n",
    "        convolved[ind, ch] = trials[ind][ch]*abs(evkd[ch])"
   ]
  },
  {
   "cell_type": "code",
   "execution_count": null,
   "metadata": {},
   "outputs": [],
   "source": [
    "ind = 256\n",
    "chn = ch_dict['PO7']\n",
    "\n",
    "%matplotlib widget\n",
    "fig, ax1 = plt.subplots()\n",
    "ax1.plot(trials[ind, chn])\n",
    "\n",
    "ax2 = ax1.twinx()\n",
    "ax2.plot(convolved[ind, chn], color='r')\n",
    "\n",
    "fig, ax1 = plt.subplots()\n",
    "ax1.plot(evkd[chn])\n",
    "\n",
    "convolved_evkd = np.mean(convolved, axis=0)\n",
    "ax2 = ax1.twinx()\n",
    "ax2.plot(convolved_evkd[chn], color='r')"
   ]
  },
  {
   "cell_type": "code",
   "execution_count": null,
   "metadata": {},
   "outputs": [],
   "source": [
    "# compare evoked responses with variance across trials shown as shading based on the epochs list\n",
    "fig, ax = plt.subplots(1, 3)\n",
    "for i, epoch in enumerate(epochs[:2]):\n",
    "    epoch.plot_image(axes=ax, show=True, picks=['O2'])\n"
   ]
  },
  {
   "cell_type": "code",
   "execution_count": null,
   "metadata": {},
   "outputs": [],
   "source": [
    "evokeds = {str(i): [] for i in range(10)}\n",
    "for i, ep in enumerate(epochs):\n",
    "    for j in range(len(ep)):\n",
    "        evokeds[str(i)].append(ep[j:j+1].average())"
   ]
  },
  {
   "cell_type": "code",
   "execution_count": null,
   "metadata": {},
   "outputs": [],
   "source": [
    "mne.viz.plot_compare_evokeds(evokeds, picks='eeg', ci=True, combine='gfp')\n",
    "\n",
    "# limit y axis\n",
    "plt.ylim(4, None)"
   ]
  },
  {
   "cell_type": "code",
   "execution_count": null,
   "metadata": {},
   "outputs": [],
   "source": [
    "mne.viz.plot_compare_evokeds(evokeds, picks=['PO7'], ci=True)"
   ]
  },
  {
   "cell_type": "code",
   "execution_count": 4,
   "metadata": {},
   "outputs": [],
   "source": [
    "for ep in epochs:\n",
    "    ep.info['bads'] = []"
   ]
  },
  {
   "cell_type": "code",
   "execution_count": 5,
   "metadata": {},
   "outputs": [
    {
     "name": "stderr",
     "output_type": "stream",
     "text": [
      "<ipython-input-5-a79d06a03e4c>:1: RuntimeWarning: Concatenation of Annotations within Epochs is not supported yet. All annotations will be dropped.\n",
      "  all_epochs = mne.concatenate_epochs(epochs)\n"
     ]
    },
    {
     "name": "stdout",
     "output_type": "stream",
     "text": [
      "Not setting metadata\n",
      "11975 matching events found\n",
      "No baseline correction applied\n"
     ]
    },
    {
     "name": "stderr",
     "output_type": "stream",
     "text": [
      "<ipython-input-5-a79d06a03e4c>:1: RuntimeWarning: The events passed to the Epochs constructor are not chronologically ordered.\n",
      "  all_epochs = mne.concatenate_epochs(epochs)\n"
     ]
    }
   ],
   "source": [
    "all_epochs = mne.concatenate_epochs(epochs)"
   ]
  },
  {
   "cell_type": "code",
   "execution_count": null,
   "metadata": {},
   "outputs": [],
   "source": [
    "# create evoked dict for each condition\n",
    "evokeds = {str(i): [] for i in range(2, 7)}\n",
    "for i in range(len(all_epochs)):\n",
    "    id = all_epochs.events[i, 2]\n",
    "    evokeds[str(id)].append(all_epochs[i:i+1].average())"
   ]
  },
  {
   "cell_type": "code",
   "execution_count": 12,
   "metadata": {},
   "outputs": [],
   "source": [
    "all_evkd = all_epochs.average()\n",
    "\n",
    "# get data\n",
    "all_evkd = all_evkd.get_data()"
   ]
  },
  {
   "cell_type": "code",
   "execution_count": 22,
   "metadata": {},
   "outputs": [],
   "source": [
    "# compare patterns with evoked responses for individual channels\n",
    "path = os.path.join('..',\n",
    "            'results',\n",
    "            'disp_epoched',\n",
    "            'eeg',\n",
    "            '9sessions_noica',\n",
    "            'standard_cov_longepochs',\n",
    "            'patterns_haufe.npy')\n",
    "\n",
    "patterns = np.load(path)\n",
    "patterns = patterns.reshape(-1, 53, 201, 5)\n",
    "patterns = np.mean(patterns, axis=(0))"
   ]
  },
  {
   "cell_type": "code",
   "execution_count": 46,
   "metadata": {},
   "outputs": [
    {
     "data": {
      "application/vnd.jupyter.widget-view+json": {
       "model_id": "d3fd9c49d29a4181b031db579de82f0f",
       "version_major": 2,
       "version_minor": 0
      },
      "image/png": "[encoded data removed]",
      "text/html": [
       "\n",
       "            <div style=\"display: inline-block;\">\n",
       "                <div class=\"jupyter-widgets widget-label\" style=\"text-align: center;\">\n",
       "                    Figure\n",
       "                </div>\n",
       "                <img src='data:image/png;base64,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' width=640.0/>\n",
       "            </div>\n",
       "        "
      ],
      "text/plain": [
       "Canvas(toolbar=Toolbar(toolitems=[('Home', 'Reset original view', 'home', 'home'), ('Back', 'Back to previous …"
      ]
     },
     "metadata": {},
     "output_type": "display_data"
    }
   ],
   "source": [
    "# compare patterns with evoked responses for individual channels\n",
    "chs = [ch_dict['PO7'], ch_dict['T7'], ch_dict['F8']]\n",
    "\n",
    "%matplotlib widget\n",
    "\n",
    "fig, axs = plt.subplots(3, 3)\n",
    "for i, ch in enumerate(chs):\n",
    "    for w in range(3):\n",
    "\n",
    "        axs[i][w].plot(all_evkd[ch][::10], label='evoked')\n",
    "\n",
    "        ax2 = axs[i][w].twinx()\n",
    "        ax2.plot(patterns[ch, :, w], label='pattern', color='r')\n",
    "\n",
    "        plt.xticks(np.arange(0, 201, 21), np.arange(-10, 10, 2)/10) \n",
    "e=0"
   ]
  },
  {
   "cell_type": "code",
   "execution_count": null,
   "metadata": {},
   "outputs": [],
   "source": [
    "# plot evoked response (with variance shown) for each element of the epochs list\n",
    "# create a 2 x 5 subplot and iterate over evokeds to plot into appropriate axes\n",
    "%matplotlib widget\n",
    "fig, ax = plt.subplots(1, 5, figsize=(10, 5))\n",
    "for i, key in enumerate(evokeds):\n",
    "    ev = {key: evokeds[key]}\n",
    "    mne.viz.plot_compare_evokeds(ev, picks=['T7'], ci=True, axes=ax[i], show=False, ylim=dict(eeg=[-2, 2]))\n",
    "\n",
    "fig.show()"
   ]
  },
  {
   "cell_type": "code",
   "execution_count": null,
   "metadata": {},
   "outputs": [],
   "source": [
    "%matplotlib widget\n",
    "mne.viz.plot_compare_evokeds(evokeds, picks=['F2'], ci=False)\n",
    "mne.viz.plot_compare_evokeds(evokeds, picks=['OZ'], ci=False)\n",
    "mne.viz.plot_compare_evokeds(evokeds, picks=['P3'], ci=False)\n",
    "mne.viz.plot_compare_evokeds(evokeds, picks=['T9'], ci=False)\n",
    "mne.viz.plot_compare_evokeds(evokeds, picks=['FT8'], ci=False)\n",
    "mne.viz.plot_compare_evokeds(evokeds, picks=['C2'], ci=False)"
   ]
  },
  {
   "cell_type": "code",
   "execution_count": null,
   "metadata": {},
   "outputs": [],
   "source": [
    "evkd0 = epochs[0].average()"
   ]
  },
  {
   "cell_type": "code",
   "execution_count": null,
   "metadata": {},
   "outputs": [],
   "source": [
    "# plot evoked response for each channel over the scalp\n",
    "evkd0.plot_topo()"
   ]
  },
  {
   "cell_type": "code",
   "execution_count": 10,
   "metadata": {},
   "outputs": [],
   "source": [
    "# build a dict with channel names as keys and indices as values\n",
    "ch_names = epochs[0].ch_names\n",
    "ch_dict = {ch_names[i]: i for i in range(len(ch_names))}"
   ]
  },
  {
   "cell_type": "code",
   "execution_count": null,
   "metadata": {},
   "outputs": [],
   "source": [
    "%matplotlib widget\n",
    "mne.viz.plot_compare_evokeds({'0': evokeds['0']}, picks=['T9'], ci=True)\n",
    "mne.viz.plot_compare_evokeds({'0': evokeds['1']}, picks=['T9'], ci=True)\n",
    "mne.viz.plot_compare_evokeds({'0': evokeds['2']}, picks=['T9'], ci=True)"
   ]
  },
  {
   "cell_type": "code",
   "execution_count": null,
   "metadata": {},
   "outputs": [],
   "source": [
    "%matplotlib widget\n",
    "plt.plot(trials[100, ch_dict['OZ'], :])"
   ]
  },
  {
   "cell_type": "code",
   "execution_count": null,
   "metadata": {},
   "outputs": [],
   "source": [
    "# compute pca over time x trials\n",
    "pca = PCA(n_components=10)\n",
    "\n",
    "# fit pca to data\n",
    "data = trials[:, ch_dict['T9'], :]\n",
    "pca.fit(data)\n",
    "\n",
    "# get the principal components\n",
    "comps = pca.components_"
   ]
  },
  {
   "cell_type": "code",
   "execution_count": null,
   "metadata": {},
   "outputs": [],
   "source": [
    "trials = data"
   ]
  },
  {
   "cell_type": "code",
   "execution_count": null,
   "metadata": {},
   "outputs": [],
   "source": [
    "%matplotlib widget\n",
    "plt.plot(comps[0])"
   ]
  },
  {
   "cell_type": "code",
   "execution_count": null,
   "metadata": {},
   "outputs": [],
   "source": [
    "model = LinearRegression()\n",
    "ind = 129\n",
    "\n",
    "# fit model to data\n",
    "pca_comp0 = np.repeat(comps[0].reshape(1, -1), data.shape[0], axis=0)\n",
    "data0 = np.array([np.roll(data[ind], i) for i in range(-50,50)]).T\n",
    "model.fit(data0, comps[0].T)\n",
    "\n",
    "# denoise data\n",
    "denoised = model.predict(data0)\n",
    "\n",
    "%matplotlib widget\n",
    "fig, ax1 = plt.subplots()\n",
    "ax1.plot(data[ind])\n",
    "\n",
    "ax2 = ax1.twinx()\n",
    "ax2.plot(denoised.reshape(-1), color='r')"
   ]
  },
  {
   "cell_type": "code",
   "execution_count": null,
   "metadata": {},
   "outputs": [],
   "source": [
    "rolled_ev = np.mean(rolled, axis=0)"
   ]
  },
  {
   "cell_type": "code",
   "execution_count": null,
   "metadata": {},
   "outputs": [],
   "source": [
    "%matplotlib widget\n",
    "fig, ax1 = plt.subplots()\n",
    "ax1.plot(rolled_ev[ch_dict['T9'], :])\n",
    "\n",
    "# make second axis\n",
    "ax2 = ax1.twinx()\n",
    "ax2.plot(evkd[ch_dict['T9'], 50:], color='orange')"
   ]
  },
  {
   "cell_type": "code",
   "execution_count": null,
   "metadata": {},
   "outputs": [],
   "source": [
    "# for each trial in trials find the index of the maximum value within the time window\n",
    "time_window = [350, 450]\n",
    "max_inds = np.argmax(trials[:, ch_dict['T9'], time_window[0]:time_window[1]], axis=1)\n",
    "max_inds += time_window[0]\n",
    "\n",
    "peak = 400\n",
    "# realign the last dimension of each trial so that max_inds becomes the peak\n",
    "rolled = []\n",
    "for i in range(trials.shape[0]):\n",
    "    trial = np.roll(trials[i], peak - max_inds[i], axis=1)\n",
    "    rolled.append(trial[:, 50:950])\n",
    "\n",
    "rolled = np.array(rolled)"
   ]
  },
  {
   "cell_type": "code",
   "execution_count": null,
   "metadata": {},
   "outputs": [],
   "source": [
    "%matplotlib widget\n",
    "# plot evoked topomap of evokeds\n",
    "trials = epochs[0].get_data()\n",
    "for i in range(100):\n",
    "    plt.plot(trials[i, ch_dict['PO7'], :])"
   ]
  },
  {
   "cell_type": "code",
   "execution_count": null,
   "metadata": {},
   "outputs": [],
   "source": [
    "# plot evoked response (with variance shown) for each element of the epochs list\n",
    "# create a 2 x 5 subplot and iterate over evokeds to plot into appropriate axes\n",
    "%matplotlib widget\n",
    "fig, ax = plt.subplots(2, 5, figsize=(10, 5))\n",
    "for i, key in enumerate(evokeds):\n",
    "    ev = {key: evokeds[key]}\n",
    "    row = i // 5\n",
    "    col = i % 5\n",
    "    mne.viz.plot_compare_evokeds(ev, picks=['T7'], ci=True, axes=ax[row][col], show=False, ylim=dict(eeg=[-2, 2]))\n",
    "\n",
    "fig.show()"
   ]
  },
  {
   "cell_type": "code",
   "execution_count": null,
   "metadata": {},
   "outputs": [],
   "source": [
    "mne.viz.plot_compare_evokeds({'0': evokeds['0']}, picks=['F6'], ci=True)"
   ]
  },
  {
   "cell_type": "code",
   "execution_count": null,
   "metadata": {},
   "outputs": [],
   "source": [
    "# plot evoked response (with variance shown) for each element of the epochs list\n",
    "# create a 2 x 5 subplot and iterate over evokeds to plot into appropriate axes\n",
    "fig, ax = plt.subplots(2, 5, figsize=(10, 5))\n",
    "for i, key in enumerate(evokeds):\n",
    "    ev = {key: evokeds[key]}\n",
    "    row = i // 5\n",
    "    col = i % 5\n",
    "    mne.viz.plot_compare_evokeds(ev, picks=['PO7'], ci=True, axes=ax[row][col], show=False, ylim=dict(eeg=[-6, 6]))\n",
    "\n",
    "fig.show()"
   ]
  },
  {
   "cell_type": "code",
   "execution_count": null,
   "metadata": {},
   "outputs": [],
   "source": [
    "# plot evoked response (with variance shown) for each element of the epochs list\n",
    "# create a 2 x 5 subplot and iterate over evokeds to plot into appropriate axes\n",
    "fig, ax = plt.subplots(2, 5, figsize=(10, 5))\n",
    "for i, key in enumerate(evokeds):\n",
    "    ev = {key: evokeds[key]}\n",
    "    row = i // 5\n",
    "    col = i % 5\n",
    "    mne.viz.plot_compare_evokeds(ev, picks=['C4'], ci=True, axes=ax[row][col], show=False, ylim=dict(eeg=[-2, 2]))\n",
    "\n",
    "fig.show()"
   ]
  },
  {
   "cell_type": "code",
   "execution_count": null,
   "metadata": {},
   "outputs": [],
   "source": [
    "# plot evoked response (with variance shown) for each element of the epochs list\n",
    "# create a 2 x 5 subplot and iterate over evokeds to plot into appropriate axes\n",
    "fig, ax = plt.subplots(2, 5, figsize=(10, 5))\n",
    "for i, key in enumerate(evokeds):\n",
    "    ev = {key: evokeds[key]}\n",
    "    row = i // 5\n",
    "    col = i % 5\n",
    "    mne.viz.plot_compare_evokeds(ev, picks=['F8'], ci=True, axes=ax[row][col], show=False, ylim=dict(eeg=[-3, 3]))\n",
    "\n",
    "fig.show()"
   ]
  },
  {
   "cell_type": "code",
   "execution_count": null,
   "metadata": {},
   "outputs": [],
   "source": [
    "data = epochs[0].get_data()\n",
    "data.shape"
   ]
  },
  {
   "cell_type": "code",
   "execution_count": null,
   "metadata": {},
   "outputs": [],
   "source": [
    "data = epochs[0].get_data()\n",
    "data = data.transpose(1, 2, 0).reshape(data.shape[1], -1)\n",
    "\n",
    "cov = np.cov(data)\n",
    "\n",
    "# standardize the data\n",
    "data = StandardScaler().fit_transform(data.T).T\n",
    "\n",
    "# compute the covariance matrix\n",
    "cov_std = np.cov(data)"
   ]
  },
  {
   "cell_type": "code",
   "execution_count": null,
   "metadata": {},
   "outputs": [],
   "source": [
    "# visualize the covariance matrix\n",
    "%matplotlib widget\n",
    "fig, ax = plt.subplots(1, 2, figsize=(10, 5))\n",
    "ax[0].imshow(cov)\n",
    "# modify axis to show channel names\n",
    "ax[0].set_xticks(range(0, 53, 2), epochs[0].ch_names[::2], rotation=90)\n",
    "\n",
    "ax[1].imshow(cov_std)\n",
    "# modify axis to show channel names\n",
    "ax[1].set_xticks(range(0, 53, 2), epochs[0].ch_names[::2], rotation=90)\n",
    "e=0"
   ]
  },
  {
   "cell_type": "code",
   "execution_count": null,
   "metadata": {},
   "outputs": [],
   "source": [
    "covs = []\n",
    "all_covs = []\n",
    "labels = []\n",
    "all_full_covs = []\n",
    "class_labels = []\n",
    "for sess, ep in enumerate(epochs):\n",
    "    data = ep.get_data()\n",
    "    chn = data.shape[1]\n",
    "    trials = data.shape[0]\n",
    "\n",
    "    data = data.transpose(1, 2, 0).reshape(data.shape[1], -1)\n",
    "\n",
    "    # standardize the data\n",
    "    data = StandardScaler().fit_transform(data.T).T\n",
    "\n",
    "    data = data.reshape(chn, -1, trials)\n",
    "\n",
    "    trial_covs = []\n",
    "    for i in range(trials):\n",
    "        cov = np.cov(data[:, :, i])\n",
    "        trial_covs.append(cov)\n",
    "        all_full_covs.append(cov)\n",
    "\n",
    "        class_labels.append(ep.events[i, 2])\n",
    "    \n",
    "    labels.extend([sess] * trials)\n",
    "\n",
    "    sess_cov = np.mean(np.array(trial_covs), axis=0)\n",
    "\n",
    "    '''\n",
    "    for i in range(trials):\n",
    "        cov = np.cov(data[:, :, i]) - sess_cov\n",
    "\n",
    "        mat = np.triu(cov).reshape(-1)\n",
    "        all_covs.append(mat[mat != 0])\n",
    "    '''\n",
    "\n",
    "    covs.append(sess_cov)"
   ]
  },
  {
   "cell_type": "code",
   "execution_count": null,
   "metadata": {},
   "outputs": [],
   "source": [
    "avg_cov = np.mean(np.array(covs), axis=0)\n",
    "\n",
    "for sess, ep in enumerate(epochs):\n",
    "    data = ep.get_data()\n",
    "    chn = data.shape[1]\n",
    "    trials = data.shape[0]\n",
    "\n",
    "    data = data.transpose(1, 2, 0).reshape(data.shape[1], -1)\n",
    "\n",
    "    # standardize the data\n",
    "    data = StandardScaler().fit_transform(data.T).T\n",
    "\n",
    "    data = data.reshape(chn, -1, trials)\n",
    "\n",
    "    d = avg_cov - covs[sess]\n",
    "\n",
    "    for i in range(trials):\n",
    "        cov = np.cov(data[:, :, i]) + d\n",
    "\n",
    "        mat = np.triu(cov).reshape(-1)\n",
    "        all_covs.append(mat[mat != 0])"
   ]
  },
  {
   "cell_type": "code",
   "execution_count": null,
   "metadata": {},
   "outputs": [],
   "source": [
    "# save session differences\n",
    "for sess, ep in enumerate(epochs):\n",
    "    d = avg_cov - covs[sess]\n",
    "    outdir = base + f\"/preproc1_40hz_noica/inner_speech_long/avg_cov_diff{sess}.npy\"\n",
    "\n",
    "    np.save(outdir, d)"
   ]
  },
  {
   "cell_type": "code",
   "execution_count": null,
   "metadata": {},
   "outputs": [],
   "source": [
    "# save session differences\n",
    "for sess, ep in enumerate(epochs):\n",
    "    outdir = base + f\"/preproc1_40hz_noica/inner_speech_long/cov{sess}.npy\"\n",
    "\n",
    "    np.save(outdir, covs[sess])"
   ]
  },
  {
   "cell_type": "code",
   "execution_count": null,
   "metadata": {},
   "outputs": [],
   "source": [
    "all_full_covs = np.array(all_full_covs)"
   ]
  },
  {
   "cell_type": "code",
   "execution_count": null,
   "metadata": {},
   "outputs": [],
   "source": [
    "# compute mean of covariances across class_labels\n",
    "class_covs = []\n",
    "for cl in np.unique(class_labels):\n",
    "    cov = np.mean(all_full_covs[class_labels == cl], axis=0)\n",
    "    class_covs.append(cov)"
   ]
  },
  {
   "cell_type": "code",
   "execution_count": null,
   "metadata": {},
   "outputs": [],
   "source": [
    "# visualize the covariance matrix\n",
    "%matplotlib widget\n",
    "fig, ax = plt.subplots(1, 5, figsize=(10, 5))\n",
    "for i, cov in enumerate(class_covs):\n",
    "    ax[i].imshow(cov)\n",
    "    ax[i].set_xticks(range(0, 53, 2), epochs[0].ch_names[::2], rotation=90)"
   ]
  },
  {
   "cell_type": "code",
   "execution_count": null,
   "metadata": {},
   "outputs": [],
   "source": [
    "%matplotlib widget\n",
    "class_std = np.std(np.array(class_covs), axis=0)/np.mean(np.array(class_covs), axis=0)\n",
    "plt.imshow(class_std)"
   ]
  },
  {
   "cell_type": "code",
   "execution_count": null,
   "metadata": {},
   "outputs": [],
   "source": [
    "class_std[class_std>1]"
   ]
  },
  {
   "cell_type": "code",
   "execution_count": null,
   "metadata": {},
   "outputs": [],
   "source": [
    "# visualize the covariance matrix\n",
    "%matplotlib widget\n",
    "fig, ax = plt.subplots(2, 5, figsize=(10, 5))\n",
    "for i, cov in enumerate(covs):\n",
    "    row = i // 5\n",
    "    col = i % 5\n",
    "    ax[row][col].imshow(cov)\n",
    "    ax[row][col].set_xticks(range(0, 53, 2), epochs[0].ch_names[::2], rotation=90)"
   ]
  },
  {
   "cell_type": "code",
   "execution_count": null,
   "metadata": {},
   "outputs": [],
   "source": [
    "# compute riemannian distance between each session using covs\n",
    "riemann_dist = []\n",
    "for i in range(len(covs)):\n",
    "    dist = []\n",
    "    for j in range(len(covs)):\n",
    "        dist.append(distance_riemann(covs[i], covs[j]))\n",
    "\n",
    "    riemann_dist.append(np.array(dist))\n",
    "\n",
    "riemann_dist = np.array(riemann_dist)"
   ]
  },
  {
   "cell_type": "code",
   "execution_count": null,
   "metadata": {},
   "outputs": [],
   "source": [
    "np.mean(riemann_dist, axis=0)"
   ]
  },
  {
   "cell_type": "code",
   "execution_count": null,
   "metadata": {},
   "outputs": [],
   "source": [
    "%matplotlib widget\n",
    "plt.imshow(riemann_dist)\n",
    "\n",
    "# add colorbar\n",
    "plt.colorbar()"
   ]
  },
  {
   "cell_type": "code",
   "execution_count": null,
   "metadata": {},
   "outputs": [],
   "source": [
    "avg_cov = np.mean(np.array(covs), axis=0)\n",
    "\n",
    "# replace each row and column iteratively of each session with avg_cov and compute riemannian distance\n",
    "riemann_dist = []\n",
    "for i in range(len(covs)):\n",
    "    \n",
    "    dist = []\n",
    "    for j in range(covs[i].shape[0]):\n",
    "        cov = covs[i].copy()\n",
    "        avg_cov_copy = avg_cov.copy()\n",
    "        cov = np.delete(cov, j, axis=0)\n",
    "        cov = np.delete(cov, j, axis=1)\n",
    "\n",
    "        avg_cov_copy = np.delete(avg_cov_copy, j, axis=0)\n",
    "        avg_cov_copy = np.delete(avg_cov_copy, j, axis=1)\n",
    "\n",
    "        d = distance_riemann(cov, avg_cov_copy)\n",
    "        dist.append(d)\n",
    "\n",
    "    riemann_dist.append(np.array(dist))\n",
    "\n",
    "riemann_dist = np.mean(np.array(riemann_dist), axis=0)"
   ]
  },
  {
   "cell_type": "code",
   "execution_count": null,
   "metadata": {},
   "outputs": [],
   "source": [
    "# plot scores as topomap\n",
    "%matplotlib widget\n",
    "mne.viz.plot_topomap(riemann_dist, epochs[0].info, vmin=5, show_names=True)"
   ]
  },
  {
   "cell_type": "code",
   "execution_count": null,
   "metadata": {},
   "outputs": [],
   "source": [
    "for i, ch in enumerate(epochs[0].info['ch_names']):\n",
    "    if riemann_dist[i] < 5.3:\n",
    "        print(i, ch, riemann_dist[i])"
   ]
  },
  {
   "cell_type": "code",
   "execution_count": null,
   "metadata": {},
   "outputs": [],
   "source": [
    "dist\n",
    "for i in range(len(covs)):\n",
    "    cov = covs[i].copy()\n",
    "    avg_cov_copy = avg_cov.copy()\n",
    "    cov = np.delete(cov, [1, 5, 6, 7, 9, 17, 42, 50], axis=0)\n",
    "    cov = np.delete(cov, [1, 5, 6, 7, 9, 17, 42, 50], axis=1)\n",
    "\n",
    "    avg_cov_copy = np.delete(avg_cov_copy, [1, 5, 6, 7, 9, 17, 42, 50], axis=0)\n",
    "    avg_cov_copy = np.delete(avg_cov_copy, [1, 5, 6, 7, 9, 17, 42, 50], axis=1)\n",
    "\n",
    "    d = distance_riemann(cov, avg_cov_copy)\n",
    "    dist.append(d)\n",
    "\n",
    "np.mean(dist)"
   ]
  },
  {
   "cell_type": "code",
   "execution_count": null,
   "metadata": {},
   "outputs": [],
   "source": [
    "np.mean(sess_riemann_dist)"
   ]
  },
  {
   "cell_type": "code",
   "execution_count": null,
   "metadata": {},
   "outputs": [],
   "source": [
    "# cluster all_covs with KMeans\n",
    "kmeans = KMeans(n_clusters=6).fit(np.array(all_covs))"
   ]
  },
  {
   "cell_type": "code",
   "execution_count": null,
   "metadata": {},
   "outputs": [],
   "source": [
    "transformed = kmeans.transform(np.array(all_covs))"
   ]
  },
  {
   "cell_type": "code",
   "execution_count": null,
   "metadata": {},
   "outputs": [],
   "source": [
    "# visualize the transformed data\n",
    "tsne_data = TSNE(n_components=2).fit_transform(np.array(all_covs))"
   ]
  },
  {
   "cell_type": "code",
   "execution_count": null,
   "metadata": {},
   "outputs": [],
   "source": [
    "pca_data = PCA(n_components=10).fit_transform(np.array(all_covs))"
   ]
  },
  {
   "cell_type": "code",
   "execution_count": null,
   "metadata": {},
   "outputs": [],
   "source": [
    "labels = np.array(labels)\n",
    "class_labels = np.array(class_labels)"
   ]
  },
  {
   "cell_type": "code",
   "execution_count": null,
   "metadata": {},
   "outputs": [],
   "source": [
    "def plot_tsne(tsne_data, labels, ax):\n",
    "    # Get the unique labels\n",
    "    unique_labels = np.unique(labels)\n",
    "\n",
    "    # Plot each cluster with a different color or marker\n",
    "    for label in unique_labels:\n",
    "        mask = labels == label\n",
    "        ax.scatter(tsne_data[mask, 0], tsne_data[mask, 1], label=label, alpha=0.3, s=5)\n",
    "\n",
    "    # Add a legend\n",
    "    ax.legend()"
   ]
  },
  {
   "cell_type": "code",
   "execution_count": null,
   "metadata": {},
   "outputs": [],
   "source": [
    "# Create a figure and axis\n",
    "%matplotlib widget\n",
    "fig, ax = plt.subplots(1, 3, figsize=(10, 5))\n",
    "plot_tsne(tsne_data, labels, ax[0])\n",
    "plot_tsne(tsne_data, kmeans.labels_, ax[1])\n",
    "plot_tsne(tsne_data, class_labels, ax[2])"
   ]
  },
  {
   "cell_type": "code",
   "execution_count": null,
   "metadata": {},
   "outputs": [],
   "source": [
    "# Create a figure and axis\n",
    "comps = [0, 1]\n",
    "fig, ax = plt.subplots(1, 3, figsize=(10, 5))\n",
    "plot_tsne(pca_data[:, comps], labels, ax[0])\n",
    "plot_tsne(pca_data[:, comps], kmeans.labels_, ax[1])\n",
    "plot_tsne(pca_data[:, comps], class_labels, ax[2])"
   ]
  },
  {
   "cell_type": "code",
   "execution_count": null,
   "metadata": {},
   "outputs": [],
   "source": [
    "def session_lda(chid):\n",
    "    labels = []\n",
    "    data = []\n",
    "    for i, ep in enumerate(epochs):\n",
    "        epoch = ep.get_data()[:, chid, 1000:]\n",
    "        labels.extend([i] * epoch.shape[0])\n",
    "        data.append(epoch[: , ::10]*1e6)\n",
    "\n",
    "    data = np.concatenate(np.array(data), axis=0)\n",
    "\n",
    "    # train LDA model\n",
    "    lda = LDA()\n",
    "    lda.fit(data, labels)\n",
    "\n",
    "    # get accuracy\n",
    "    return lda.score(data, labels)"
   ]
  },
  {
   "cell_type": "code",
   "execution_count": null,
   "metadata": {},
   "outputs": [],
   "source": [
    "scores = {}\n",
    "for i in range(len(epochs[0].ch_names)):\n",
    "    scores[epochs[0].ch_names[i]] = session_lda(i)"
   ]
  },
  {
   "cell_type": "code",
   "execution_count": null,
   "metadata": {},
   "outputs": [],
   "source": [
    "# plot scores as topomap\n",
    "%matplotlib widget\n",
    "mne.viz.plot_topomap(np.array(list(scores.values())), epochs[0].info, vmin=0.1, show_names=True)"
   ]
  },
  {
   "cell_type": "code",
   "execution_count": null,
   "metadata": {},
   "outputs": [],
   "source": [
    "for ch in epochs[0].info['ch_names']:\n",
    "    if scores[ch] > 0.2:\n",
    "        print(ch, scores[ch])"
   ]
  },
  {
   "cell_type": "code",
   "execution_count": null,
   "metadata": {},
   "outputs": [],
   "source": [
    "raws[0].plot_sensors(ch_type='eeg', kind='topomap', show_names=True)"
   ]
  },
  {
   "cell_type": "code",
   "execution_count": null,
   "metadata": {},
   "outputs": [],
   "source": [
    "list(scores.values())"
   ]
  },
  {
   "cell_type": "code",
   "execution_count": null,
   "metadata": {},
   "outputs": [],
   "source": [
    "# pick eeg channels\n",
    "raws[0].get_data().shape"
   ]
  },
  {
   "cell_type": "code",
   "execution_count": null,
   "metadata": {},
   "outputs": [],
   "source": [
    "# load spatial PFI\n",
    "path = os.path.join('..', 'results', 'disp_epoched', 'eeg', '9sessions_noica', 'standard_cov_longepochs',\n",
    "                    'val_loss_PFIeeg_closest1.npy')\n",
    "pfi_ch1 = np.load(open(path, 'rb'))\n",
    "pfi_ch1 = np.mean(pfi_ch1, axis=0)\n",
    "pfi_ch1 = pfi_ch1[0, 0] - pfi_ch1[:, 1:]\n",
    "\n",
    "evoked_ch1 = mne.EvokedArray(pfi_ch1.T, raws[0].info, tmin=0)\n",
    "\n",
    "%matplotlib widget\n",
    "evoked_ch1.plot_topomap(times=[0], ch_type='eeg', time_unit='ms', scalings=1, units='Gradient magnitude', time_format='', vmin=0)"
   ]
  },
  {
   "cell_type": "code",
   "execution_count": null,
   "metadata": {},
   "outputs": [],
   "source": [
    "# find indices of channels in pfi_ch1 that are higher than 0.1\n",
    "chid = []\n",
    "for i, ch in enumerate(raws[0].info['ch_names']):\n",
    "    if pfi_ch1[0, i] > 0.1:\n",
    "        chid.append(i)\n",
    "        print(ch)\n",
    "\n",
    "print(chid)"
   ]
  }
 ],
 "metadata": {
  "kernelspec": {
   "display_name": "Python 3.8.5 64-bit ('main')",
   "language": "python",
   "name": "python3"
  },
  "language_info": {
   "codemirror_mode": {
    "name": "ipython",
    "version": 3
   },
   "file_extension": ".py",
   "mimetype": "text/x-python",
   "name": "python",
   "nbconvert_exporter": "python",
   "pygments_lexer": "ipython3",
   "version": "3.8.5"
  },
  "orig_nbformat": 4,
  "vscode": {
   "interpreter": {
    "hash": "84a3ebe666650a68380744730c1b34178a4e2d05dc952cdf65b44a0ef828689f"
   }
  }
 },
 "nbformat": 4,
 "nbformat_minor": 2
}
