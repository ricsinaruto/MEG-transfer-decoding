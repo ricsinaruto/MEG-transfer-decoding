{
 "cells": [
  {
   "cell_type": "code",
   "execution_count": 21,
   "id": "7d3ba589-dba3-4bd1-bd9f-0cabb10a1fa1",
   "metadata": {},
   "outputs": [],
   "source": [
    "import os\n",
    "import torch\n",
    "import numpy as np\n",
    "import pickle\n",
    "import mne\n",
    "import scipy\n",
    "from scipy.signal import welch\n",
    "import matplotlib.pyplot as plt\n",
    "from scipy.io import loadmat\n",
    "from sklearn.preprocessing import StandardScaler, RobustScaler, MaxAbsScaler"
   ]
  },
  {
   "cell_type": "code",
   "execution_count": 29,
   "id": "3445b078",
   "metadata": {},
   "outputs": [],
   "source": [
    "shape = 31*100\n",
    "bias = np.tril(np.ones((shape, shape))).astype(np.bool8)\n",
    "bias = bias.reshape(1, 1, shape, shape)"
   ]
  },
  {
   "cell_type": "code",
   "execution_count": 30,
   "id": "a14cea9f",
   "metadata": {},
   "outputs": [],
   "source": [
    "C = 31\n",
    "\n",
    "# update self.bias to include custom attention mask\n",
    "I, J = np.meshgrid(np.arange(bias.shape[-2]), np.arange(bias.shape[-1]), indexing='ij')\n",
    "\n",
    "mask = ((J % C) <= (I % C)) & (J > I - C) & (J % C != 0)\n",
    "bias[:, :, mask] = False"
   ]
  },
  {
   "cell_type": "code",
   "execution_count": 47,
   "id": "f57ba42d",
   "metadata": {},
   "outputs": [
    {
     "data": {
      "text/plain": [
       "array([ True,  True,  True,  True,  True,  True,  True,  True,  True,\n",
       "        True,  True,  True,  True,  True,  True,  True,  True,  True,\n",
       "        True,  True,  True,  True,  True,  True,  True,  True,  True,\n",
       "        True,  True,  True,  True,  True,  True,  True,  True,  True,\n",
       "        True,  True,  True,  True,  True,  True,  True,  True,  True,\n",
       "        True,  True,  True,  True,  True,  True,  True,  True,  True,\n",
       "        True,  True,  True,  True,  True,  True,  True,  True,  True,\n",
       "        True,  True,  True,  True,  True,  True,  True,  True,  True,\n",
       "        True,  True,  True,  True,  True,  True,  True,  True,  True,\n",
       "        True,  True,  True,  True,  True,  True,  True,  True,  True,\n",
       "        True,  True,  True,  True, False, False, False, False, False,\n",
       "       False])"
      ]
     },
     "execution_count": 47,
     "metadata": {},
     "output_type": "execute_result"
    }
   ],
   "source": [
    "bias[0, 0, 96, :100]"
   ]
  },
  {
   "cell_type": "code",
   "execution_count": 16,
   "id": "139483a0",
   "metadata": {},
   "outputs": [],
   "source": [
    "# load event timings\n",
    "path = os.path.join('/', 'well', 'woolrich', 'projects', 'cichy118_cont', 'preproc_data_osl', 'subj1', 'event_times.npy')\n",
    "event_times = np.load(path)"
   ]
  },
  {
   "cell_type": "code",
   "execution_count": 17,
   "id": "3ebf0fb8",
   "metadata": {},
   "outputs": [],
   "source": [
    "event_times = [(int(ev[0]/10) - 155520, ev[2]) for ev in event_times]"
   ]
  },
  {
   "cell_type": "code",
   "execution_count": 18,
   "id": "932bee98",
   "metadata": {},
   "outputs": [],
   "source": [
    "event_times = [(ev[0], ev[1]) for ev in event_times if ev[0] > 0]"
   ]
  },
  {
   "cell_type": "code",
   "execution_count": 21,
   "id": "8da4ec5c",
   "metadata": {},
   "outputs": [
    {
     "data": {
      "text/plain": [
       "(362007, 11)"
      ]
     },
     "execution_count": 21,
     "metadata": {},
     "output_type": "execute_result"
    }
   ],
   "source": [
    "event_times[-1]"
   ]
  },
  {
   "cell_type": "code",
   "execution_count": 36,
   "id": "ad8bcf4a",
   "metadata": {},
   "outputs": [],
   "source": [
    "# epoch mat based on event times\n",
    "epochs = [[] for i in range(118)]\n",
    "for e in event_times:\n",
    "    epochs[e[1] - 1].append(mat[:, e[0]-10:e[0] + 50])\n"
   ]
  },
  {
   "cell_type": "code",
   "execution_count": 45,
   "id": "596b0f0d",
   "metadata": {},
   "outputs": [
    {
     "data": {
      "text/plain": [
       "21"
      ]
     },
     "execution_count": 45,
     "metadata": {},
     "output_type": "execute_result"
    }
   ],
   "source": [
    "len(epochs[0])"
   ]
  },
  {
   "cell_type": "code",
   "execution_count": 46,
   "id": "39a8f38e",
   "metadata": {},
   "outputs": [],
   "source": [
    "epochs = np.array([np.array(e[:20]) for e in epochs])"
   ]
  },
  {
   "cell_type": "code",
   "execution_count": 47,
   "id": "44524bb3",
   "metadata": {},
   "outputs": [
    {
     "data": {
      "text/plain": [
       "(118, 20, 306, 50)"
      ]
     },
     "execution_count": 47,
     "metadata": {},
     "output_type": "execute_result"
    }
   ],
   "source": [
    "epochs.shape"
   ]
  },
  {
   "cell_type": "code",
   "execution_count": 53,
   "id": "679c9139",
   "metadata": {},
   "outputs": [
    {
     "data": {
      "image/png": "[encoded data removed]",
      "text/plain": [
       "<Figure size 640x480 with 1 Axes>"
      ]
     },
     "metadata": {},
     "output_type": "display_data"
    }
   ],
   "source": [
    "# plot epochs\n",
    "plt.plot(np.mean(epochs, axis=(0,1))[102])\n",
    "e=0"
   ]
  },
  {
   "cell_type": "code",
   "execution_count": 9,
   "id": "0ca8e1ee",
   "metadata": {},
   "outputs": [],
   "source": [
    "# prepare data for matlab\n",
    "path = os.path.join('/', 'well', 'woolrich', 'projects', 'cichy118_cont', 'preproc_data_osl', 'subj1', 'subj1_50hz.npy')\n",
    "data = np.load(path)\n",
    "\n",
    "for f in ['100']:\n",
    "    # downsample\n",
    "    mat = data[:, ::int(1000 / int(f))]\n",
    "\n",
    "    # choose last 3600 seconds\n",
    "    mat = mat[:, -int(0.7*mat.shape[1]):]\n",
    "\n",
    "    # apply RobustScaler\n",
    "    mat = RobustScaler().fit_transform(mat.T).T\n",
    "\n",
    "    # save as .mat file\n",
    "    np.save(os.path.join('/', 'well', 'woolrich', 'projects', 'cichy118_cont', 'preproc_data_osl', 'subj1', f'osl_dynamics{f}hz.npy'), mat)"
   ]
  },
  {
   "cell_type": "code",
   "execution_count": 20,
   "id": "6e5eedbb",
   "metadata": {},
   "outputs": [
    {
     "data": {
      "text/plain": [
       "(306, 362880)"
      ]
     },
     "execution_count": 20,
     "metadata": {},
     "output_type": "execute_result"
    }
   ],
   "source": [
    "mat.shape"
   ]
  },
  {
   "cell_type": "code",
   "execution_count": 2,
   "id": "15f7c648",
   "metadata": {},
   "outputs": [
    {
     "data": {
      "text/plain": [
       "(306, 5184000)"
      ]
     },
     "execution_count": 2,
     "metadata": {},
     "output_type": "execute_result"
    }
   ],
   "source": [
    "path = os.path.join('/', 'well', 'woolrich', 'projects', 'cichy118_cont', 'preproc_data_osl', 'subj1', 'subj1.npy')\n",
    "data = np.load(path)\n",
    "data.shape"
   ]
  },
  {
   "cell_type": "code",
   "execution_count": 3,
   "id": "b9debe8d",
   "metadata": {},
   "outputs": [
    {
     "name": "stdout",
     "output_type": "stream",
     "text": [
      "Setting up band-pass filter from 1 - 50 Hz\n",
      "\n",
      "IIR filter parameters\n",
      "---------------------\n",
      "Butterworth bandpass zero-phase (two-pass forward and reverse) non-causal filter:\n",
      "- Filter order 20 (effective, after forward-backward)\n",
      "- Cutoffs at 1.00, 49.90 Hz: -6.02, -6.02 dB\n",
      "\n"
     ]
    }
   ],
   "source": [
    "# filter data\n",
    "data = mne.filter.filter_data(data, 1000, 1, 49.9, method='iir', iir_params=dict(order=5, ftype='butter'))"
   ]
  },
  {
   "cell_type": "code",
   "execution_count": null,
   "id": "1df421f7",
   "metadata": {},
   "outputs": [],
   "source": [
    "# save data\n",
    "np.save(path.split('.npy')[0] + '_50hz.npy', data)"
   ]
  },
  {
   "cell_type": "markdown",
   "id": "4b13599f",
   "metadata": {},
   "source": [
    "# generation visu"
   ]
  },
  {
   "cell_type": "code",
   "execution_count": 13,
   "id": "8a8df497",
   "metadata": {},
   "outputs": [],
   "source": [
    "def mulaw_inv(x, mu=255):\n",
    "    x = (x - 0.5) / mu * 2 - 1\n",
    "    x = np.sign(x)*((1+mu)**np.abs(x)-1)/mu\n",
    "\n",
    "    return x"
   ]
  },
  {
   "cell_type": "code",
   "execution_count": 11,
   "id": "9e4178fe",
   "metadata": {},
   "outputs": [],
   "source": [
    "path = os.path.join('..', 'results', 'simulated', 'quantized_wavenet', '8event_snr1', 'wavenetfullchannel', 'generated_datarecursive1.mat')\n",
    "data = loadmat(path)['X'][0]"
   ]
  },
  {
   "cell_type": "code",
   "execution_count": null,
   "id": "d7ebc634",
   "metadata": {},
   "outputs": [
    {
     "ename": "",
     "evalue": "",
     "output_type": "error",
     "traceback": [
      "\u001b[1;31mFailed to start the Kernel. \n",
      "\u001b[1;31mJupyter server crashed. Unable to connect. \n",
      "\u001b[1;31mError code from Jupyter: 1\n",
      "\u001b[1;31mError executing Jupyter command 'notebook': [Errno 2] No such file or directory. \n",
      "\u001b[1;31mView Jupyter <a href='command:jupyter.viewOutput'>log</a> for further details."
     ]
    }
   ],
   "source": [
    "path = os.path.join('..', 'results', 'cichy_epoched', 'subj1', 'cont_quantized', 'wavenetfullchannelmix_50hz100hz', 'generated_datarecursiveargmax1.mat')\n",
    "data = loadmat(path)['X']"
   ]
  },
  {
   "cell_type": "code",
   "execution_count": 18,
   "id": "61f1632d",
   "metadata": {},
   "outputs": [],
   "source": [
    "data = mulaw_inv(data)"
   ]
  },
  {
   "cell_type": "code",
   "execution_count": 51,
   "id": "d1ed24e2",
   "metadata": {},
   "outputs": [
    {
     "data": {
      "text/plain": [
       "tensor([0., 0., 1.])"
      ]
     },
     "execution_count": 51,
     "metadata": {},
     "output_type": "execute_result"
    }
   ],
   "source": [
    "t = torch.Tensor([0, 1, 2])\n",
    "np.random.shuffle(t)\n",
    "t"
   ]
  },
  {
   "cell_type": "code",
   "execution_count": 30,
   "id": "5f10d888",
   "metadata": {},
   "outputs": [
    {
     "data": {
      "text/plain": [
       "[<matplotlib.lines.Line2D at 0x7fe9260a9190>]"
      ]
     },
     "execution_count": 30,
     "metadata": {},
     "output_type": "execute_result"
    },
    {
     "data": {
      "application/vnd.jupyter.widget-view+json": {
       "model_id": "b50485aba261435bae03b6f8b9cfec37",
       "version_major": 2,
       "version_minor": 0
      },
      "image/png": "[encoded data removed]",
      "text/html": [
       "\n",
       "            <div style=\"display: inline-block;\">\n",
       "                <div class=\"jupyter-widgets widget-label\" style=\"text-align: center;\">\n",
       "                    Figure\n",
       "                </div>\n",
       "                <img src='data:image/png;base64,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' width=640.0/>\n",
       "            </div>\n",
       "        "
      ],
      "text/plain": [
       "Canvas(toolbar=Toolbar(toolitems=[('Home', 'Reset original view', 'home', 'home'), ('Back', 'Back to previous …"
      ]
     },
     "metadata": {},
     "output_type": "display_data"
    }
   ],
   "source": [
    "%matplotlib widget\n",
    "plt.plot(data[10, :500])"
   ]
  },
  {
   "cell_type": "code",
   "execution_count": 27,
   "id": "0cae3006",
   "metadata": {},
   "outputs": [
    {
     "data": {
      "text/plain": [
       "(0.0, 0.001)"
      ]
     },
     "execution_count": 27,
     "metadata": {},
     "output_type": "execute_result"
    },
    {
     "data": {
      "application/vnd.jupyter.widget-view+json": {
       "model_id": "576e62af1f3f4c1b960e104ab5b819fc",
       "version_major": 2,
       "version_minor": 0
      },
      "image/png": "[encoded data removed]",
      "text/html": [
       "\n",
       "            <div style=\"display: inline-block;\">\n",
       "                <div class=\"jupyter-widgets widget-label\" style=\"text-align: center;\">\n",
       "                    Figure\n",
       "                </div>\n",
       "                <img src='data:image/png;base64,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' width=640.0/>\n",
       "            </div>\n",
       "        "
      ],
      "text/plain": [
       "Canvas(toolbar=Toolbar(toolitems=[('Home', 'Reset original view', 'home', 'home'), ('Back', 'Back to previous …"
      ]
     },
     "metadata": {},
     "output_type": "display_data"
    }
   ],
   "source": [
    "%matplotlib widget\n",
    "SR = 100\n",
    "f, Pxx_den = welch(data[120], SR, nperseg=4*SR)\n",
    "\n",
    "plt.plot(f, Pxx_den)\n",
    "\n",
    "plt.xlim(2, 50)\n",
    "plt.ylim(0, 0.001)\n",
    "\n",
    "#for freq in [10, 14, 18, 22, 26, 33, 38, 45]:\n",
    "#    plt.axvline(x=freq, color='red')"
   ]
  },
  {
   "cell_type": "markdown",
   "id": "57a31dc2",
   "metadata": {},
   "source": [
    "# Simulation visu"
   ]
  },
  {
   "cell_type": "code",
   "execution_count": null,
   "id": "3b3ed378",
   "metadata": {},
   "outputs": [],
   "source": [
    "gamma = np.random.gamma(10, 40, 10000)\n",
    "\n",
    "%matplotlib widget\n",
    "plt.hist(gamma, bins=100)\n",
    "e=0"
   ]
  },
  {
   "cell_type": "code",
   "execution_count": null,
   "id": "c3db1bba",
   "metadata": {},
   "outputs": [],
   "source": [
    "path = os.path.join('..', 'results', 'simulated', 'quantized_wavenet', '8event_snr1_1000hz', 'data.mat')\n",
    "data = loadmat(path)\n",
    "data['X'].shape"
   ]
  },
  {
   "cell_type": "code",
   "execution_count": null,
   "id": "fef72672",
   "metadata": {},
   "outputs": [],
   "source": [
    "data = mne.filter.filter_data(data['X'], 1000, 1, 99.9, method='iir', iir_params=dict(order=5, ftype='butter'))"
   ]
  },
  {
   "cell_type": "code",
   "execution_count": null,
   "id": "30cebf83",
   "metadata": {},
   "outputs": [],
   "source": [
    "# save data\n",
    "path = os.path.join('..', 'results', 'simulated', 'quantized_wavenet', '8event_snr1_1000hz', 'data_sub.npy')\n",
    "np.save(path, data)"
   ]
  },
  {
   "cell_type": "code",
   "execution_count": null,
   "id": "26e9f8ba",
   "metadata": {},
   "outputs": [],
   "source": [
    "path = os.path.join('..', 'results', 'simulated', 'quantized_wavenet', '8event_snr1', 'data_sub.npy')\n",
    "data = np.load(path)"
   ]
  },
  {
   "cell_type": "code",
   "execution_count": null,
   "id": "18349922",
   "metadata": {},
   "outputs": [],
   "source": [
    "data.shape"
   ]
  },
  {
   "cell_type": "code",
   "execution_count": null,
   "id": "c97e6a23",
   "metadata": {},
   "outputs": [],
   "source": [
    "path = os.path.join('..', 'results', 'simulated', '8event_snr1_wavenetfullquantized', 'stc')\n",
    "with open(path, 'rb') as f:\n",
    "    stc = pickle.load(f)"
   ]
  },
  {
   "cell_type": "code",
   "execution_count": null,
   "id": "e2bfa626",
   "metadata": {},
   "outputs": [],
   "source": [
    "%matplotlib widget\n",
    "plt.plot(stc[:1000])"
   ]
  },
  {
   "cell_type": "code",
   "execution_count": null,
   "id": "816c6f48",
   "metadata": {},
   "outputs": [],
   "source": [
    "data250 = data[0, ::4]\n",
    "data500 = data[0, ::2]\n",
    "data1000 = data\n",
    "data200 = data[0, ::5]"
   ]
  },
  {
   "cell_type": "code",
   "execution_count": null,
   "id": "0df41539",
   "metadata": {},
   "outputs": [],
   "source": [
    "%matplotlib widget\n",
    "sr = 500\n",
    "f, Pxx_den = welch(data500, sr, nperseg=4*sr)\n",
    "\n",
    "plt.figure(figsize=(10,10))\n",
    "plt.plot(f, Pxx_den)\n",
    "\n",
    "for freq in [10, 14, 18, 22, 26, 33, 38, 45]:\n",
    "    plt.axvline(x=freq, color='red')\n",
    "\n",
    "# limit x axis\n",
    "plt.xlim(0, 100)\n"
   ]
  },
  {
   "cell_type": "code",
   "execution_count": null,
   "id": "2233579a",
   "metadata": {},
   "outputs": [],
   "source": [
    "%matplotlib widget\n",
    "plt.plot(data200[4000:4400], linewidth=0.5)\n",
    "\n",
    "# new figure\n",
    "plt.figure()\n",
    "plt.plot(data1000[20000:22000], linewidth=0.5)"
   ]
  },
  {
   "cell_type": "markdown",
   "id": "217ef157",
   "metadata": {},
   "source": [
    "# PCA checking"
   ]
  },
  {
   "cell_type": "code",
   "execution_count": null,
   "id": "0232c8d1",
   "metadata": {},
   "outputs": [],
   "source": [
    "# check if noshuffle data with pca is same as pca306 data\n",
    "# load data\n",
    "noshuffle_dir = '/well/woolrich/projects/cichy118_cont/preproc_data_onepass/lowpass25hz/subj0/train_data_noshuffle/'\n",
    "pca_data_dir = '/well/woolrich/projects/cichy118_cont/preproc_data_onepass/lowpass25hz/subj0/train_data_pca306/'\n",
    "\n",
    "noshuffle = []\n",
    "for ch in range(306):\n",
    "    path = noshuffle_dir + 'cch' + str(ch) + '.mat'\n",
    "    noshuffle.append(loadmat(path)['x_train_t'][:, 0, :])\n",
    "\n",
    "pca_data = []\n",
    "for ch in range(306):\n",
    "    path = pca_data_dir + 'cch' + str(ch) + '.mat'\n",
    "    pca_data.append(loadmat(path)['x_train_t'][:, 0, :])\n",
    "\n",
    "pca_data = np.array(pca_data)\n",
    "\n",
    "path = '/well/woolrich/projects/cichy118_cont/preproc_data_onepass/lowpass25hz/subj0/train_data_pca306/pca'\n",
    "with open(path, 'rb') as f:\n",
    "    pca = pickle.load(f)\n",
    "path = '/well/woolrich/projects/cichy118_cont/preproc_data_onepass/lowpass25hz/subj0/train_data_pca306/norm'\n",
    "with open(path, 'rb') as f:\n",
    "    norm = pickle.load(f)\n",
    "\n",
    "noshuffle = np.array(noshuffle).transpose(1, 2, 0).reshape(-1, 306)\n",
    "\n",
    "# apply pca and norm\n",
    "x_train = pca.transform(noshuffle)\n",
    "x_train = norm.transform(x_train)\n",
    "\n",
    "x_train = x_train.reshape(-1, 101, 306)\n",
    "\n",
    "plt.plot(np.average(x_train[:, :, 73], axis=0))\n",
    "plt.plot(np.average(pca_data[73, :, :], axis=0))\n"
   ]
  },
  {
   "cell_type": "code",
   "execution_count": null,
   "id": "ea9df6f1",
   "metadata": {},
   "outputs": [],
   "source": [
    "x_train.shape"
   ]
  },
  {
   "cell_type": "code",
   "execution_count": null,
   "id": "61323c33",
   "metadata": {},
   "outputs": [],
   "source": [
    "# check ordering of cichy92\n",
    "path = '/well/woolrich/projects/cichy92/preprocessed/125hz_lowpass'\n",
    "\n",
    "paths = os.listdir(path)\n",
    "for p in paths:\n",
    "    print(p)"
   ]
  },
  {
   "cell_type": "code",
   "execution_count": null,
   "id": "14ca7faf",
   "metadata": {},
   "outputs": [],
   "source": [
    "path = '/well/woolrich/projects/cichy118_cont/preproc_data_osl/cont_quantized_clamp8/ch0.mat'\n",
    "data = loadmat(path)"
   ]
  },
  {
   "cell_type": "code",
   "execution_count": null,
   "id": "5b6cced3",
   "metadata": {},
   "outputs": [],
   "source": [
    "data['x_train_t'].shape"
   ]
  },
  {
   "cell_type": "code",
   "execution_count": null,
   "id": "5da54e3d",
   "metadata": {},
   "outputs": [],
   "source": [
    "onehot = np.zeros(256)\n",
    "onehot[120] = 1\n",
    "\n",
    "kernel = torchvision.transforms.GaussianBlur(3, sigma=(0.1))"
   ]
  },
  {
   "cell_type": "code",
   "execution_count": null,
   "id": "9be59579",
   "metadata": {},
   "outputs": [],
   "source": [
    "filtered = scipy.ndimage.gaussian_filter1d(onehot, sigma=2, axis=0, order=0, output=None, mode='reflect', truncate=4.0)\n",
    "plt.plot(filtered)"
   ]
  },
  {
   "cell_type": "code",
   "execution_count": null,
   "id": "ddd8ca07",
   "metadata": {},
   "outputs": [],
   "source": [
    "filtered[120]"
   ]
  },
  {
   "cell_type": "code",
   "execution_count": null,
   "id": "31a59546",
   "metadata": {},
   "outputs": [],
   "source": [
    "plt.plot(onehot)"
   ]
  },
  {
   "cell_type": "code",
   "execution_count": null,
   "id": "91fd153f",
   "metadata": {},
   "outputs": [],
   "source": [
    "path = '/gpfs2/well/woolrich/projects/cichy118_cont/preproc_data_onepass/lowpass25hz/subj1/cond0/trial0.npy'\n",
    "trial = np.load(path)"
   ]
  },
  {
   "cell_type": "code",
   "execution_count": null,
   "id": "aa004ab5",
   "metadata": {},
   "outputs": [],
   "source": [
    "trial.shape"
   ]
  },
  {
   "cell_type": "code",
   "execution_count": null,
   "id": "431867b8",
   "metadata": {},
   "outputs": [],
   "source": [
    "cov = np.load(f\"/well/woolrich/projects/cichy118_cont/preproc_data_onepass/cont/subj0_cov.npy\")"
   ]
  },
  {
   "cell_type": "code",
   "execution_count": null,
   "id": "ff7e9c8b",
   "metadata": {},
   "outputs": [],
   "source": [
    "np.mean(cov)"
   ]
  },
  {
   "cell_type": "code",
   "execution_count": null,
   "id": "6877cf2c",
   "metadata": {},
   "outputs": [],
   "source": [
    "# create a random matrix of size 3x2\n",
    "x = torch.rand(3, 2)"
   ]
  },
  {
   "cell_type": "code",
   "execution_count": null,
   "id": "ae8df950",
   "metadata": {},
   "outputs": [],
   "source": [
    "x"
   ]
  },
  {
   "cell_type": "code",
   "execution_count": null,
   "id": "1f916458",
   "metadata": {},
   "outputs": [],
   "source": [
    "x.reshape(-1)"
   ]
  },
  {
   "cell_type": "code",
   "execution_count": null,
   "id": "559c449f-e9ff-48d0-a9c6-eeaebfd8c17a",
   "metadata": {},
   "outputs": [],
   "source": [
    "weights = torch.tensor([0.1, 0.2, 0.6, 0.1], dtype=torch.float) # create a tensor of weights\n",
    "torch.multinomial(weights, 2)"
   ]
  },
  {
   "cell_type": "code",
   "execution_count": null,
   "id": "596d2e1a-8cbd-4140-a38f-e341b7c78dd4",
   "metadata": {},
   "outputs": [],
   "source": [
    "chn_ids.shape"
   ]
  },
  {
   "cell_type": "code",
   "execution_count": null,
   "id": "12cdc43c-af86-43c2-9fd5-85428f41c685",
   "metadata": {},
   "outputs": [],
   "source": [
    "cond = torch.rand(2, 4, 3)\n",
    "cond_ind = torch.randint(low=0, high=4, size=(2, 1, 3))\n",
    "cond_ind = (cond_ind > 0).float()"
   ]
  },
  {
   "cell_type": "code",
   "execution_count": null,
   "id": "16d7c61b-0d42-4fd1-9055-b5ef53091995",
   "metadata": {},
   "outputs": [],
   "source": [
    "cond_ind"
   ]
  },
  {
   "cell_type": "code",
   "execution_count": null,
   "id": "bd1f093d-bbf6-44a9-8061-61b3c685beec",
   "metadata": {},
   "outputs": [],
   "source": [
    "cond"
   ]
  },
  {
   "cell_type": "code",
   "execution_count": null,
   "id": "3c827ecc-3dd7-4127-81a6-e1a3888f9b87",
   "metadata": {},
   "outputs": [],
   "source": [
    "cond*cond_ind"
   ]
  },
  {
   "cell_type": "code",
   "execution_count": null,
   "id": "d22ee93d-2eca-4738-8e77-f54038cb6109",
   "metadata": {},
   "outputs": [],
   "source": [
    "targets = np.random.rand(3, 4, 2)\n",
    "chind = np.random.randint(low=0, high=4, size=(3))"
   ]
  },
  {
   "cell_type": "code",
   "execution_count": null,
   "id": "e77407e0-e7d0-46ef-9f3a-8a9bdfda0f05",
   "metadata": {},
   "outputs": [],
   "source": [
    "targets"
   ]
  },
  {
   "cell_type": "code",
   "execution_count": null,
   "id": "5b1129be-5c80-43ca-b878-82fe23f8c057",
   "metadata": {},
   "outputs": [],
   "source": [
    "chind"
   ]
  },
  {
   "cell_type": "code",
   "execution_count": null,
   "id": "c2f75e62-0e1c-4e2f-a46c-00cacacd9f15",
   "metadata": {},
   "outputs": [],
   "source": [
    "targets[[0,1,2], chind, :].shape"
   ]
  },
  {
   "cell_type": "code",
   "execution_count": null,
   "id": "47be40ab-0cf0-4a69-a968-2825f3d1570a",
   "metadata": {},
   "outputs": [],
   "source": []
  },
  {
   "cell_type": "code",
   "execution_count": null,
   "id": "56ae8a64-a692-4570-8bb7-d8c7a1979fcb",
   "metadata": {},
   "outputs": [],
   "source": [
    "bins = np.linspace(-1, 1, 255 + 1)\n",
    "digitized = np.digitize([1, 0.1, 0.2, -0.5], bins) - 1"
   ]
  },
  {
   "cell_type": "code",
   "execution_count": null,
   "id": "86256ba7-17f2-4d43-9fc7-5c2169b19cd5",
   "metadata": {},
   "outputs": [],
   "source": [
    "signal = np.array([1, 0.1, 0.2, -0.5, -1])\n",
    "digitized = ((signal + 1) / 2 * 255+0.5).astype(np.int32)\n",
    "recon = 2 * ((digitized).astype(np.float32) / 255) - 1"
   ]
  },
  {
   "cell_type": "code",
   "execution_count": null,
   "id": "4be931ba-75ed-4cfd-b55d-c0e1dfaafe1d",
   "metadata": {},
   "outputs": [],
   "source": [
    "recon"
   ]
  },
  {
   "cell_type": "code",
   "execution_count": null,
   "id": "147cd740-0ee8-4812-8dfa-c04e6657ed29",
   "metadata": {},
   "outputs": [],
   "source": [
    "username = input(\"Enter username:\")"
   ]
  },
  {
   "cell_type": "markdown",
   "id": "d823efdb-7f0f-484d-a99f-0ef21c2fcc17",
   "metadata": {},
   "source": [
    "## Checking quantized data"
   ]
  },
  {
   "cell_type": "code",
   "execution_count": null,
   "id": "2b072771",
   "metadata": {},
   "outputs": [],
   "source": [
    "def mulaw_inv(x, maxabs, mu=255):\n",
    "    x = (x - 0.5) / mu * 2 - 1\n",
    "    x = np.sign(x)*((1+mu)**np.abs(x)-1)/mu\n",
    "\n",
    "    x = x * maxabs.scale_[0]\n",
    "\n",
    "    return x\n"
   ]
  },
  {
   "cell_type": "code",
   "execution_count": null,
   "id": "f6ed34e6",
   "metadata": {},
   "outputs": [],
   "source": [
    "maxabs_path = '/well/woolrich/projects/cichy118_cont/preproc_data_osl/subj1/cont_quantized_quant8/maxabs_scaler'\n",
    "# load scaler from file\n",
    "maxabs = pickle.load(open(maxabs_path, 'rb'))"
   ]
  },
  {
   "cell_type": "code",
   "execution_count": null,
   "id": "5388d5b2",
   "metadata": {},
   "outputs": [],
   "source": [
    "maxabs.scale_"
   ]
  },
  {
   "cell_type": "code",
   "execution_count": null,
   "id": "92833920",
   "metadata": {},
   "outputs": [],
   "source": [
    "path = '/well/woolrich/projects/cichy118_cont/preproc_data_osl/subj1/subj1.npy'\n",
    "dataset = np.load(path)\n",
    "dataset = dataset[0, ::4]\n",
    "dataset = RobustScaler().fit_transform(dataset.reshape(-1, 1)).reshape(-1)"
   ]
  },
  {
   "cell_type": "code",
   "execution_count": null,
   "id": "a04b25bf-7056-47ff-ab6a-32733635935d",
   "metadata": {},
   "outputs": [],
   "source": [
    "path = '/well/woolrich/projects/cichy118_cont/preproc_data_osl/subj1/cont_quantized_quant8/'\n",
    "data = loadmat(path + 'ch0.mat')['x_val_t'][0]\n",
    "target = loadmat(path + 'ch306.mat')['x_val_t'][0]\n",
    "cond = loadmat(path + 'ch612.mat')['x_val_t'][0]\n",
    "subid = loadmat(path + 'ch613.mat')['x_val_t'][0]"
   ]
  },
  {
   "cell_type": "code",
   "execution_count": null,
   "id": "1e1a443d",
   "metadata": {},
   "outputs": [],
   "source": [
    "# extract decoding examples\n",
    "shifted = cond[1:] - cond[:-1]\n",
    "inds = np.where(shifted > 0)[0] - 24"
   ]
  },
  {
   "cell_type": "code",
   "execution_count": null,
   "id": "df2c1f21",
   "metadata": {},
   "outputs": [],
   "source": [
    "inds.shape"
   ]
  },
  {
   "cell_type": "code",
   "execution_count": null,
   "id": "a064b863",
   "metadata": {},
   "outputs": [],
   "source": [
    "decoded = mulaw_inv(data, maxabs, mu=7)"
   ]
  },
  {
   "cell_type": "code",
   "execution_count": null,
   "id": "b9127e13",
   "metadata": {},
   "outputs": [],
   "source": [
    "np.average(np.abs((decoded - dataset[:len(decoded)])/dataset[:len(decoded)]))"
   ]
  },
  {
   "cell_type": "code",
   "execution_count": null,
   "id": "9ac2f72d",
   "metadata": {},
   "outputs": [],
   "source": [
    "%matplotlib widget\n",
    "plt.plot(dataset[:1000], linewidth=0.5)\n",
    "plt.plot(decoded[:1000], linewidth=0.5)\n",
    "#plt.plot((decoded[:100000] - dataset[:100000]))\n"
   ]
  },
  {
   "cell_type": "code",
   "execution_count": null,
   "id": "2a285d95",
   "metadata": {},
   "outputs": [],
   "source": [
    "%matplotlib widget\n",
    "plt.plot(cond[:10000])"
   ]
  },
  {
   "cell_type": "code",
   "execution_count": null,
   "id": "68850dd4-5add-40ea-b754-42d6e7bbd9c0",
   "metadata": {},
   "outputs": [],
   "source": [
    "%matplotlib widget\n",
    "plt.hist(data, bins=100)\n",
    "plt.show()"
   ]
  },
  {
   "cell_type": "markdown",
   "id": "c7ba11fd-2d00-49ac-a01f-93097448d4e7",
   "metadata": {},
   "source": [
    "## Checking outputs from generative decoder"
   ]
  },
  {
   "cell_type": "code",
   "execution_count": null,
   "id": "6e546dbc-a85c-4e6e-ad76-fd9b90774bbd",
   "metadata": {},
   "outputs": [],
   "source": [
    "outputs = torch.Tensor(np.load(os.path.join('..', 'results', 'cichy_epoched', 'cont_quantized', 'wavenetfull_rf1s', 'valpreds.npy')))\n",
    "targets = torch.Tensor(np.load(os.path.join('..', 'results', 'cichy_epoched', 'cont_quantized', 'wavenetfull_rf1s', 'valtargets.npy')))\n",
    "targets = targets.long()\n",
    "\n",
    "targets = targets.reshape(20, -1)\n",
    "outputs = outputs.reshape(20, -1, outputs.shape[1])"
   ]
  },
  {
   "cell_type": "code",
   "execution_count": null,
   "id": "24afea64-a912-4794-a2fc-70ca48b8c61c",
   "metadata": {},
   "outputs": [],
   "source": [
    "loss = torch.nn.CrossEntropyLoss(reduction='none')"
   ]
  },
  {
   "cell_type": "code",
   "execution_count": null,
   "id": "1b43ace4-33ae-411c-bd7f-792cc217c3c4",
   "metadata": {},
   "outputs": [],
   "source": [
    "out_inds = torch.argmax(outputs,dim=-1)"
   ]
  },
  {
   "cell_type": "code",
   "execution_count": null,
   "id": "31f549c9-c647-440d-bee0-b39cc453bd2a",
   "metadata": {},
   "outputs": [],
   "source": [
    "out_inds[5]"
   ]
  },
  {
   "cell_type": "code",
   "execution_count": null,
   "id": "85afddc3-ced8-4679-990e-1c369246ed2d",
   "metadata": {},
   "outputs": [],
   "source": [
    "targets[5]"
   ]
  },
  {
   "cell_type": "code",
   "execution_count": null,
   "id": "459bc2d5-8143-4a43-bf75-420285f44ed2",
   "metadata": {},
   "outputs": [],
   "source": [
    "%matplotlib widget\n",
    "plt.plot(out_inds[2], 'r', targets[2], 'b')"
   ]
  },
  {
   "cell_type": "code",
   "execution_count": null,
   "id": "2974c24e-b28d-4496-be35-e2bda0646035",
   "metadata": {},
   "outputs": [],
   "source": [
    "for i in range(8):\n",
    "    loss_val = torch.mean(loss(outputs[i], targets[i].long()))\n",
    "    print(loss_val.item())"
   ]
  },
  {
   "cell_type": "code",
   "execution_count": null,
   "id": "fef95afc-8889-43be-841c-8677e3e916e8",
   "metadata": {},
   "outputs": [],
   "source": [
    "torch.mean(loss(outputs.reshape(-1, outputs.shape[2]), targets.reshape(-1)))"
   ]
  },
  {
   "cell_type": "markdown",
   "id": "db2ab380",
   "metadata": {},
   "source": [
    "# Checking continuous output"
   ]
  },
  {
   "cell_type": "code",
   "execution_count": null,
   "id": "9dac8fed",
   "metadata": {},
   "outputs": [],
   "source": [
    "preds = []\n",
    "targets = []\n",
    "sid = []\n",
    "path = os.path.join(\n",
    "    '..', 'results', 'cichy_epoched', 'cont_quantized', 'wavenetfull_rf1s')\n",
    "\n",
    "'''\n",
    "path = os.path.join(\n",
    "    '..', 'results', 'cichy_epoched', 'subj1', 'cont_quantized', 'ConvAR_multi', 'AR50', 'outputs')\n",
    "\n",
    "path = os.path.join(\n",
    "    '..', 'results', 'cichy_epoched', 'subj1', 'cont_quantized', 'wavenetfullchannelmix', 'outputs')\n",
    "'''\n",
    "\n",
    "for i in range(3):\n",
    "    #preds.append(np.load(os.path.join(path, f'valpreds{i}.npy')).transpose(1, 0, 2))\n",
    "    #targets.append(np.load(os.path.join(path, f'valtargets{i}.npy')).transpose(1, 0, 2))\n",
    "\n",
    "    preds.append(np.load(os.path.join(path, f'valpreds{i}.npy')))\n",
    "    targets.append(np.load(os.path.join(path, f'valtargets{i}.npy')))\n",
    "    sid.append(np.load(os.path.join(path, f'valsid{i}.npy')))\n",
    "\n",
    "preds = np.concatenate(preds)\n",
    "targets = np.concatenate(targets)\n",
    "sid = np.concatenate(sid)"
   ]
  },
  {
   "cell_type": "code",
   "execution_count": null,
   "id": "d5fa667f",
   "metadata": {},
   "outputs": [],
   "source": [
    "inds = [i for i in range(306) if i % 3]\n",
    "preds = preds[:, inds, :]\n",
    "targets = targets[:, inds, :]"
   ]
  },
  {
   "cell_type": "code",
   "execution_count": null,
   "id": "f884a2ed",
   "metadata": {},
   "outputs": [],
   "source": [
    "sid = sid[:, 0, 0]"
   ]
  },
  {
   "cell_type": "code",
   "execution_count": null,
   "id": "8fa23e69",
   "metadata": {},
   "outputs": [],
   "source": [
    "# select only subj1 using sid\n",
    "preds = preds[sid == 7]\n",
    "targets = targets[sid == 7]"
   ]
  },
  {
   "cell_type": "code",
   "execution_count": null,
   "id": "2722729e",
   "metadata": {},
   "outputs": [],
   "source": [
    "%matplotlib widget\n",
    "ts = 200\n",
    "b = 5\n",
    "plt.plot(preds[0, :, 1:ts].mean(axis=0), linewidth=0.5, color='r')\n",
    "plt.plot(targets[0, :, 1:ts].mean(axis=0), linewidth=0.5, color='b')\n",
    "#plt.plot(targets[0, :, :ts-1].mean(axis=0), linewidth=0.5, color='y')\n",
    "e=0"
   ]
  },
  {
   "cell_type": "code",
   "execution_count": null,
   "id": "de0fa07d",
   "metadata": {},
   "outputs": [],
   "source": [
    "preds = preds.transpose(1, 0, 2).reshape(preds.shape[1], -1)\n",
    "targets = targets.transpose(1, 0, 2).reshape(targets.shape[1], -1)"
   ]
  },
  {
   "cell_type": "code",
   "execution_count": null,
   "id": "fba3f2da",
   "metadata": {},
   "outputs": [],
   "source": [
    "print('mse of repeating timestep: ', np.mean((targets[:, :, 1:].reshape(-1) - targets[:, :, :-1].reshape(-1))**2))\n",
    "print('validation mse with current timestep: ', np.mean((preds[:, :, :].reshape(-1) - targets[:, :, :].reshape(-1))**2))\n",
    "print('mse with prev timestep: ', np.mean((preds[:, :, 1:].reshape(-1) - targets[:, :, :-1].reshape(-1))**2))\n",
    "print('mse with next timestep: ', np.mean((preds[:, :, :-1].reshape(-1) - targets[:, :, 1:].reshape(-1))**2))"
   ]
  },
  {
   "cell_type": "code",
   "execution_count": null,
   "id": "9b669385",
   "metadata": {},
   "outputs": [],
   "source": [
    "cond = None\n",
    "        if self.args.cond_channels > 0:\n",
    "            # cond: B x E x T\n",
    "            cond_ind = data['condition']\n",
    "            try:\n",
    "                inds = torch.squeeze(cond_ind, dim=1)\n",
    "                cond = self.cond_emb(inds).permute(0, 2, 1)\n",
    "            except RuntimeError:\n",
    "                print(cond_ind.shape)\n",
    "                #print(x.shape)\n",
    "                #print(inds.shape)\n",
    "                raise\n",
    "\n",
    "            # set elements of cond to 0 where cond_ind is 0\n",
    "            cond = cond * (cond_ind > 0).float()\n",
    "\n",
    "            # repeat cond across new args.channels dim\n",
    "            cond = cond.unsqueeze(1).repeat(1, self.args.num_channels, 1, 1)\n",
    "            cond = cond.reshape(-1, cond.shape[-2], cond.shape[-1])"
   ]
  },
  {
   "cell_type": "code",
   "execution_count": null,
   "id": "ad2bd197",
   "metadata": {},
   "outputs": [],
   "source": [
    "np.min(np.abs(preds.reshape(-1)))"
   ]
  },
  {
   "cell_type": "code",
   "execution_count": null,
   "id": "de5070b7",
   "metadata": {},
   "outputs": [],
   "source": [
    "%matplotlib widget\n",
    "plt.scatter(np.arange(len(np.unique(preds))), np.unique(preds), s=1)"
   ]
  },
  {
   "cell_type": "code",
   "execution_count": null,
   "id": "b81caffc",
   "metadata": {},
   "outputs": [],
   "source": [
    "%matplotlib widget\n",
    "plt.scatter(np.arange(len(np.unique(targets))), np.unique(targets), s=1)"
   ]
  },
  {
   "cell_type": "markdown",
   "id": "1aa8cab6",
   "metadata": {},
   "source": [
    "# Checking output"
   ]
  },
  {
   "cell_type": "code",
   "execution_count": null,
   "id": "3eac3a47",
   "metadata": {},
   "outputs": [],
   "source": [
    "losses = []\n",
    "for i in range(438):\n",
    "    path = f'../results/cichy_epoched/cont_quantized/wavenetfull_rf1s/vallosses{i}.npy'\n",
    "    losses.append(np.load(path))\n",
    "\n",
    "losses = np.array(losses).mean(axis=0)"
   ]
  },
  {
   "cell_type": "code",
   "execution_count": null,
   "id": "3b9ed722",
   "metadata": {},
   "outputs": [],
   "source": [
    "losses.shape"
   ]
  },
  {
   "cell_type": "code",
   "execution_count": null,
   "id": "4049e921",
   "metadata": {},
   "outputs": [],
   "source": [
    "grads = [i for i in range(306) if i%3]\n",
    "losses_grad = losses[:, grads, :]\n",
    "losses_mag = losses[:, ::3, :]\n",
    "\n",
    "print(np.mean(losses_grad))\n",
    "print(np.mean(losses_mag))"
   ]
  },
  {
   "cell_type": "code",
   "execution_count": null,
   "id": "e4beb20b",
   "metadata": {},
   "outputs": [],
   "source": [
    "ch_loss = np.mean(losses, axis=(0, 2))"
   ]
  },
  {
   "cell_type": "code",
   "execution_count": null,
   "id": "babd14c4",
   "metadata": {},
   "outputs": [],
   "source": [
    "%matplotlib widget\n",
    "plt.plot(ch_loss)"
   ]
  },
  {
   "cell_type": "code",
   "execution_count": null,
   "id": "82176304",
   "metadata": {},
   "outputs": [],
   "source": [
    "# Load data\n",
    "path = '/well/woolrich/projects/cichy118_cont/raw_data/subj01/MEG2_subj01_sess01_tsss_mc-0.fif'\n",
    "raw = mne.io.read_raw_fif(path, preload=True)\n",
    "chn_type = 'meg'\n",
    "raw = raw.pick(chn_type)"
   ]
  },
  {
   "cell_type": "code",
   "execution_count": null,
   "id": "68cd5df3",
   "metadata": {},
   "outputs": [],
   "source": [
    "evoked_ch1 = mne.EvokedArray(4.4-ch_loss.reshape(-1, 1), raw.info, tmin=0)"
   ]
  },
  {
   "cell_type": "code",
   "execution_count": null,
   "id": "5625b51e",
   "metadata": {},
   "outputs": [],
   "source": [
    "%matplotlib widget\n",
    "evoked_ch1.plot_topomap(scalings=1, vmin=0)"
   ]
  },
  {
   "cell_type": "code",
   "execution_count": null,
   "id": "2dfd7bd9",
   "metadata": {},
   "outputs": [],
   "source": [
    "path = '/well/woolrich/projects/cichy118_cont/preproc_data_osl/subj1/subj1.npy'\n",
    "dataset = np.load(path)\n",
    "dataset = dataset[:, ::4]\n",
    "dataset = RobustScaler().fit_transform(dataset.T)"
   ]
  },
  {
   "cell_type": "code",
   "execution_count": null,
   "id": "5ac2cde9",
   "metadata": {},
   "outputs": [],
   "source": [
    "dataset.shape"
   ]
  },
  {
   "cell_type": "code",
   "execution_count": null,
   "id": "133455e2",
   "metadata": {},
   "outputs": [],
   "source": [
    "%matplotlib widget\n",
    "for i in range(9,10):\n",
    "    plt.plot(dataset[:, i])\n",
    "\n",
    "plt.hlines([3, -3], 0, 1e6)"
   ]
  },
  {
   "cell_type": "code",
   "execution_count": null,
   "id": "c9f25ce1",
   "metadata": {},
   "outputs": [],
   "source": [
    "diffs = []\n",
    "for i in range(1, 11):\n",
    "    clipped = np.clip(dataset, -i, i)\n",
    "    diffs.append(np.average(np.abs(clipped-dataset)))"
   ]
  },
  {
   "cell_type": "code",
   "execution_count": null,
   "id": "ce4c0483",
   "metadata": {},
   "outputs": [],
   "source": [
    "%matplotlib widget\n",
    "plt.bar(np.arange(1, 11), height=diffs, log=True)"
   ]
  },
  {
   "cell_type": "code",
   "execution_count": null,
   "id": "8ed36b90",
   "metadata": {},
   "outputs": [],
   "source": [
    "eye = np.eye(10)\n",
    "\n",
    "inds = np.random.randint(0, 10, (2,3,4))\n",
    "\n",
    "selected = eye[inds]\n",
    "print(inds[:, 0, 0])\n",
    "selected[:, 0, 0]\n"
   ]
  },
  {
   "cell_type": "code",
   "execution_count": null,
   "id": "93c871e2",
   "metadata": {},
   "outputs": [],
   "source": [
    "path = '/well/woolrich/projects/cichy118_cont/preproc_data_osl/subj2/subj2.npy'\n",
    "data = np.load(path)\n",
    "data.shape"
   ]
  },
  {
   "cell_type": "code",
   "execution_count": null,
   "id": "88d788e8",
   "metadata": {},
   "outputs": [],
   "source": [
    "path = '/well/woolrich/projects/cichy118_cont/preproc_data_osl/subj2/event_times.npy'\n",
    "ev = np.load(path)"
   ]
  },
  {
   "cell_type": "code",
   "execution_count": null,
   "id": "cc2bc613",
   "metadata": {},
   "outputs": [],
   "source": [
    "ev[-1]"
   ]
  },
  {
   "cell_type": "code",
   "execution_count": null,
   "id": "96652a7a",
   "metadata": {},
   "outputs": [],
   "source": [
    "[154000, 48000, 85000, 70000, 57000, 67000, 49000, 89000, 187000, 56000, 37000, 106000, 81000, 83000, 240000]"
   ]
  },
  {
   "cell_type": "code",
   "execution_count": null,
   "id": "14a02920",
   "metadata": {},
   "outputs": [],
   "source": [
    "subj = 15\n",
    "path = f'/well/woolrich/projects/cichy118_cont/raw_data/subj{subj:02d}/MEG2_subj{subj:02d}_sess01_tsss_mc-0.fif'\n",
    "raw = mne.io.read_raw_fif(path)"
   ]
  },
  {
   "cell_type": "code",
   "execution_count": null,
   "id": "7f7d4ebd",
   "metadata": {},
   "outputs": [],
   "source": [
    "B = 4\n",
    "T = 3\n",
    "log_px_y = np.random.rand(12, 2)\n",
    "log_px_y = log_px_y[torch.arange(B * (T - 1)), imgs[:, 1:].reshape(-1)].view(B, (T - 1))"
   ]
  },
  {
   "cell_type": "code",
   "execution_count": null,
   "id": "753d92a7",
   "metadata": {},
   "outputs": [],
   "source": [
    "subj1 = np.load(f\"/well/woolrich/projects/cichy118_cont/preproc_data_osl/subj2/event_times.npy\")"
   ]
  },
  {
   "cell_type": "code",
   "execution_count": null,
   "id": "eff24d73",
   "metadata": {},
   "outputs": [],
   "source": [
    "subj1[0]"
   ]
  },
  {
   "cell_type": "code",
   "execution_count": 67,
   "id": "4029895b",
   "metadata": {},
   "outputs": [],
   "source": [
    "top_p = 0.7\n",
    "out = torch.Tensor([0.01, 0.1, 0.5, 0.3, 0.05, 0.04]).reshape(1, -1)"
   ]
  },
  {
   "cell_type": "code",
   "execution_count": 68,
   "id": "c2637aad",
   "metadata": {},
   "outputs": [],
   "source": []
  },
  {
   "cell_type": "code",
   "execution_count": 20,
   "id": "86274c8d",
   "metadata": {},
   "outputs": [
    {
     "name": "stdout",
     "output_type": "stream",
     "text": [
      "tensor([[[[ 5,  4,  0],\n",
      "          [ 9,  4,  5]],\n",
      "\n",
      "         [[ 9,  8,  0],\n",
      "          [17,  8,  9]],\n",
      "\n",
      "         [[13, 12,  0],\n",
      "          [25, 12, 13]]],\n",
      "\n",
      "\n",
      "        [[[ 5,  1,  0],\n",
      "          [ 6,  1,  5]],\n",
      "\n",
      "         [[ 2,  8,  0],\n",
      "          [10,  8,  2]],\n",
      "\n",
      "         [[13,  3,  0],\n",
      "          [16,  3, 13]]]])\n"
     ]
    }
   ],
   "source": [
    "X = torch.tensor([[[4, 5],[8,9],[12,13]], [[1, 5],[8,2],[3,13]]])\n",
    "H = torch.tensor([[[0, 1, 0],\n",
    "                 [1, 0, 0]],\n",
    "                 [[1, 1, 0],\n",
    "                 [1, 0, 1]]]) # C x E x Q\n",
    "O = torch.stack((X @ H[0], X @ H[1]))\n",
    "print(O.permute(1, 2, 0, 3))"
   ]
  },
  {
   "cell_type": "code",
   "execution_count": 21,
   "id": "c90521fb",
   "metadata": {},
   "outputs": [
    {
     "data": {
      "text/plain": [
       "tensor([[[[ 5,  4,  0],\n",
       "          [ 9,  4,  5]],\n",
       "\n",
       "         [[ 9,  8,  0],\n",
       "          [17,  8,  9]],\n",
       "\n",
       "         [[13, 12,  0],\n",
       "          [25, 12, 13]]],\n",
       "\n",
       "\n",
       "        [[[ 5,  1,  0],\n",
       "          [ 6,  1,  5]],\n",
       "\n",
       "         [[ 2,  8,  0],\n",
       "          [10,  8,  2]],\n",
       "\n",
       "         [[13,  3,  0],\n",
       "          [16,  3, 13]]]])"
      ]
     },
     "execution_count": 21,
     "metadata": {},
     "output_type": "execute_result"
    }
   ],
   "source": [
    "torch.einsum('ijl,klq->ijkq', X, H)"
   ]
  },
  {
   "cell_type": "code",
   "execution_count": 23,
   "id": "308e8053",
   "metadata": {},
   "outputs": [
    {
     "data": {
      "text/plain": [
       "tensor([[[[ 5,  4,  0],\n",
       "          [ 9,  4,  5]],\n",
       "\n",
       "         [[ 9,  8,  0],\n",
       "          [17,  8,  9]],\n",
       "\n",
       "         [[13, 12,  0],\n",
       "          [25, 12, 13]]],\n",
       "\n",
       "\n",
       "        [[[ 5,  1,  0],\n",
       "          [ 6,  1,  5]],\n",
       "\n",
       "         [[ 2,  8,  0],\n",
       "          [10,  8,  2]],\n",
       "\n",
       "         [[13,  3,  0],\n",
       "          [16,  3, 13]]]])"
      ]
     },
     "execution_count": 23,
     "metadata": {},
     "output_type": "execute_result"
    }
   ],
   "source": [
    "torch.tensordot(X, H, ([2], [1]))"
   ]
  }
 ],
 "metadata": {
  "kernelspec": {
   "display_name": "Python 3.8.5 64-bit ('main')",
   "language": "python",
   "name": "python3"
  },
  "language_info": {
   "codemirror_mode": {
    "name": "ipython",
    "version": 3
   },
   "file_extension": ".py",
   "mimetype": "text/x-python",
   "name": "python",
   "nbconvert_exporter": "python",
   "pygments_lexer": "ipython3",
   "version": "3.10.10"
  },
  "vscode": {
   "interpreter": {
    "hash": "84a3ebe666650a68380744730c1b34178a4e2d05dc952cdf65b44a0ef828689f"
   }
  }
 },
 "nbformat": 4,
 "nbformat_minor": 5
}
