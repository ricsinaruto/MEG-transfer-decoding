{
 "cells": [
  {
   "cell_type": "code",
   "execution_count": 1,
   "id": "7d3ba589-dba3-4bd1-bd9f-0cabb10a1fa1",
   "metadata": {},
   "outputs": [],
   "source": [
    "import os\n",
    "import torch\n",
    "import torchvision\n",
    "import numpy as np\n",
    "import pickle\n",
    "import mne\n",
    "import scipy\n",
    "import matplotlib.pyplot as plt\n",
    "from scipy.io import loadmat\n",
    "from sklearn.preprocessing import StandardScaler, RobustScaler, MaxAbsScaler"
   ]
  },
  {
   "cell_type": "code",
   "execution_count": 2,
   "id": "e978a34e",
   "metadata": {},
   "outputs": [],
   "source": [
    "a = np.load('/well/woolrich/projects/replay/study2/epoched/subj1/cond0/trial0.npy')"
   ]
  },
  {
   "cell_type": "code",
   "execution_count": 3,
   "id": "996be67d",
   "metadata": {},
   "outputs": [
    {
     "data": {
      "text/plain": [
       "(401, 240)"
      ]
     },
     "execution_count": 3,
     "metadata": {},
     "output_type": "execute_result"
    }
   ],
   "source": [
    "a.shape"
   ]
  },
  {
   "cell_type": "code",
   "execution_count": null,
   "id": "0232c8d1",
   "metadata": {},
   "outputs": [],
   "source": [
    "# check if noshuffle data with pca is same as pca306 data\n",
    "# load data\n",
    "noshuffle_dir = '/well/woolrich/projects/cichy118_cont/preproc_data_onepass/lowpass25hz/subj0/train_data_noshuffle/'\n",
    "pca_data_dir = '/well/woolrich/projects/cichy118_cont/preproc_data_onepass/lowpass25hz/subj0/train_data_pca306/'\n",
    "\n",
    "noshuffle = []\n",
    "for ch in range(306):\n",
    "    path = noshuffle_dir + 'cch' + str(ch) + '.mat'\n",
    "    noshuffle.append(loadmat(path)['x_train_t'][:, 0, :])\n",
    "\n",
    "pca_data = []\n",
    "for ch in range(306):\n",
    "    path = pca_data_dir + 'cch' + str(ch) + '.mat'\n",
    "    pca_data.append(loadmat(path)['x_train_t'][:, 0, :])\n",
    "\n",
    "pca_data = np.array(pca_data)\n",
    "\n",
    "path = '/well/woolrich/projects/cichy118_cont/preproc_data_onepass/lowpass25hz/subj0/train_data_pca306/pca'\n",
    "with open(path, 'rb') as f:\n",
    "    pca = pickle.load(f)\n",
    "path = '/well/woolrich/projects/cichy118_cont/preproc_data_onepass/lowpass25hz/subj0/train_data_pca306/norm'\n",
    "with open(path, 'rb') as f:\n",
    "    norm = pickle.load(f)\n",
    "\n",
    "noshuffle = np.array(noshuffle).transpose(1, 2, 0).reshape(-1, 306)\n",
    "\n",
    "# apply pca and norm\n",
    "x_train = pca.transform(noshuffle)\n",
    "x_train = norm.transform(x_train)\n",
    "\n",
    "x_train = x_train.reshape(-1, 101, 306)\n",
    "\n",
    "plt.plot(np.average(x_train[:, :, 73], axis=0))\n",
    "plt.plot(np.average(pca_data[73, :, :], axis=0))\n"
   ]
  },
  {
   "cell_type": "code",
   "execution_count": null,
   "id": "ea9df6f1",
   "metadata": {},
   "outputs": [],
   "source": [
    "x_train.shape"
   ]
  },
  {
   "cell_type": "code",
   "execution_count": null,
   "id": "61323c33",
   "metadata": {},
   "outputs": [],
   "source": [
    "# check ordering of cichy92\n",
    "path = '/well/woolrich/projects/cichy92/preprocessed/125hz_lowpass'\n",
    "\n",
    "paths = os.listdir(path)\n",
    "for p in paths:\n",
    "    print(p)"
   ]
  },
  {
   "cell_type": "code",
   "execution_count": null,
   "id": "14ca7faf",
   "metadata": {},
   "outputs": [],
   "source": [
    "path = '/well/woolrich/projects/cichy118_cont/preproc_data_osl/cont_quantized_clamp8/ch0.mat'\n",
    "data = loadmat(path)"
   ]
  },
  {
   "cell_type": "code",
   "execution_count": null,
   "id": "5b6cced3",
   "metadata": {},
   "outputs": [],
   "source": [
    "data['x_train_t'].shape"
   ]
  },
  {
   "cell_type": "code",
   "execution_count": null,
   "id": "5da54e3d",
   "metadata": {},
   "outputs": [],
   "source": [
    "onehot = np.zeros(256)\n",
    "onehot[120] = 1\n",
    "\n",
    "kernel = torchvision.transforms.GaussianBlur(3, sigma=(0.1))"
   ]
  },
  {
   "cell_type": "code",
   "execution_count": null,
   "id": "9be59579",
   "metadata": {},
   "outputs": [],
   "source": [
    "filtered = scipy.ndimage.gaussian_filter1d(onehot, sigma=2, axis=0, order=0, output=None, mode='reflect', truncate=4.0)\n",
    "plt.plot(filtered)"
   ]
  },
  {
   "cell_type": "code",
   "execution_count": null,
   "id": "ddd8ca07",
   "metadata": {},
   "outputs": [],
   "source": [
    "filtered[120]"
   ]
  },
  {
   "cell_type": "code",
   "execution_count": null,
   "id": "31a59546",
   "metadata": {},
   "outputs": [],
   "source": [
    "plt.plot(onehot)"
   ]
  },
  {
   "cell_type": "code",
   "execution_count": null,
   "id": "91fd153f",
   "metadata": {},
   "outputs": [],
   "source": [
    "path = '/gpfs2/well/woolrich/projects/cichy118_cont/preproc_data_onepass/lowpass25hz/subj1/cond0/trial0.npy'\n",
    "trial = np.load(path)"
   ]
  },
  {
   "cell_type": "code",
   "execution_count": null,
   "id": "aa004ab5",
   "metadata": {},
   "outputs": [],
   "source": [
    "trial.shape"
   ]
  },
  {
   "cell_type": "code",
   "execution_count": null,
   "id": "431867b8",
   "metadata": {},
   "outputs": [],
   "source": [
    "cov = np.load(f\"/well/woolrich/projects/cichy118_cont/preproc_data_onepass/cont/subj0_cov.npy\")"
   ]
  },
  {
   "cell_type": "code",
   "execution_count": null,
   "id": "ff7e9c8b",
   "metadata": {},
   "outputs": [],
   "source": [
    "np.mean(cov)"
   ]
  },
  {
   "cell_type": "code",
   "execution_count": null,
   "id": "6877cf2c",
   "metadata": {},
   "outputs": [],
   "source": [
    "# create a random matrix of size 3x2\n",
    "x = torch.rand(3, 2)"
   ]
  },
  {
   "cell_type": "code",
   "execution_count": null,
   "id": "ae8df950",
   "metadata": {},
   "outputs": [],
   "source": [
    "x"
   ]
  },
  {
   "cell_type": "code",
   "execution_count": null,
   "id": "1f916458",
   "metadata": {},
   "outputs": [],
   "source": [
    "x.reshape(-1)"
   ]
  },
  {
   "cell_type": "code",
   "execution_count": null,
   "id": "559c449f-e9ff-48d0-a9c6-eeaebfd8c17a",
   "metadata": {},
   "outputs": [],
   "source": [
    "weights = torch.tensor([0.1, 0.2, 0.6, 0.1], dtype=torch.float) # create a tensor of weights\n",
    "torch.multinomial(weights, 2)"
   ]
  },
  {
   "cell_type": "code",
   "execution_count": null,
   "id": "596d2e1a-8cbd-4140-a38f-e341b7c78dd4",
   "metadata": {},
   "outputs": [],
   "source": [
    "chn_ids.shape"
   ]
  },
  {
   "cell_type": "code",
   "execution_count": null,
   "id": "12cdc43c-af86-43c2-9fd5-85428f41c685",
   "metadata": {},
   "outputs": [],
   "source": [
    "cond = torch.rand(2, 4, 3)\n",
    "cond_ind = torch.randint(low=0, high=4, size=(2, 1, 3))\n",
    "cond_ind = (cond_ind > 0).float()"
   ]
  },
  {
   "cell_type": "code",
   "execution_count": null,
   "id": "16d7c61b-0d42-4fd1-9055-b5ef53091995",
   "metadata": {},
   "outputs": [],
   "source": [
    "cond_ind"
   ]
  },
  {
   "cell_type": "code",
   "execution_count": null,
   "id": "bd1f093d-bbf6-44a9-8061-61b3c685beec",
   "metadata": {},
   "outputs": [],
   "source": [
    "cond"
   ]
  },
  {
   "cell_type": "code",
   "execution_count": null,
   "id": "3c827ecc-3dd7-4127-81a6-e1a3888f9b87",
   "metadata": {},
   "outputs": [],
   "source": [
    "cond*cond_ind"
   ]
  },
  {
   "cell_type": "code",
   "execution_count": null,
   "id": "d22ee93d-2eca-4738-8e77-f54038cb6109",
   "metadata": {},
   "outputs": [],
   "source": [
    "targets = np.random.rand(3, 4, 2)\n",
    "chind = np.random.randint(low=0, high=4, size=(3))"
   ]
  },
  {
   "cell_type": "code",
   "execution_count": null,
   "id": "e77407e0-e7d0-46ef-9f3a-8a9bdfda0f05",
   "metadata": {},
   "outputs": [],
   "source": [
    "targets"
   ]
  },
  {
   "cell_type": "code",
   "execution_count": null,
   "id": "5b1129be-5c80-43ca-b878-82fe23f8c057",
   "metadata": {},
   "outputs": [],
   "source": [
    "chind"
   ]
  },
  {
   "cell_type": "code",
   "execution_count": null,
   "id": "c2f75e62-0e1c-4e2f-a46c-00cacacd9f15",
   "metadata": {},
   "outputs": [],
   "source": [
    "targets[[0,1,2], chind, :].shape"
   ]
  },
  {
   "cell_type": "code",
   "execution_count": null,
   "id": "47be40ab-0cf0-4a69-a968-2825f3d1570a",
   "metadata": {},
   "outputs": [],
   "source": []
  },
  {
   "cell_type": "code",
   "execution_count": null,
   "id": "56ae8a64-a692-4570-8bb7-d8c7a1979fcb",
   "metadata": {},
   "outputs": [],
   "source": [
    "bins = np.linspace(-1, 1, 255 + 1)\n",
    "digitized = np.digitize([1, 0.1, 0.2, -0.5], bins) - 1"
   ]
  },
  {
   "cell_type": "code",
   "execution_count": null,
   "id": "86256ba7-17f2-4d43-9fc7-5c2169b19cd5",
   "metadata": {},
   "outputs": [],
   "source": [
    "signal = np.array([1, 0.1, 0.2, -0.5, -1])\n",
    "digitized = ((signal + 1) / 2 * 255+0.5).astype(np.int32)\n",
    "recon = 2 * ((digitized).astype(np.float32) / 255) - 1"
   ]
  },
  {
   "cell_type": "code",
   "execution_count": null,
   "id": "4be931ba-75ed-4cfd-b55d-c0e1dfaafe1d",
   "metadata": {},
   "outputs": [],
   "source": [
    "recon"
   ]
  },
  {
   "cell_type": "code",
   "execution_count": null,
   "id": "147cd740-0ee8-4812-8dfa-c04e6657ed29",
   "metadata": {},
   "outputs": [],
   "source": [
    "username = input(\"Enter username:\")"
   ]
  },
  {
   "cell_type": "markdown",
   "id": "d823efdb-7f0f-484d-a99f-0ef21c2fcc17",
   "metadata": {},
   "source": [
    "## Checking quantized data"
   ]
  },
  {
   "cell_type": "code",
   "execution_count": null,
   "id": "2b072771",
   "metadata": {},
   "outputs": [],
   "source": [
    "def mulaw_inv(x, maxabs, mu=255):\n",
    "    x = (x - 0.5) / mu * 2 - 1\n",
    "    x = np.sign(x)*((1+mu)**np.abs(x)-1)/mu\n",
    "\n",
    "    x = x * maxabs.scale_[0]\n",
    "\n",
    "    return x\n"
   ]
  },
  {
   "cell_type": "code",
   "execution_count": null,
   "id": "f6ed34e6",
   "metadata": {},
   "outputs": [],
   "source": [
    "maxabs_path = '/well/woolrich/projects/cichy118_cont/preproc_data_osl/subj1/cont_quantized_quant8/maxabs_scaler'\n",
    "# load scaler from file\n",
    "maxabs = pickle.load(open(maxabs_path, 'rb'))"
   ]
  },
  {
   "cell_type": "code",
   "execution_count": null,
   "id": "5388d5b2",
   "metadata": {},
   "outputs": [],
   "source": [
    "maxabs.scale_"
   ]
  },
  {
   "cell_type": "code",
   "execution_count": null,
   "id": "92833920",
   "metadata": {},
   "outputs": [],
   "source": [
    "path = '/well/woolrich/projects/cichy118_cont/preproc_data_osl/subj1/subj1.npy'\n",
    "dataset = np.load(path)\n",
    "dataset = dataset[0, ::4]\n",
    "dataset = RobustScaler().fit_transform(dataset.reshape(-1, 1)).reshape(-1)"
   ]
  },
  {
   "cell_type": "code",
   "execution_count": null,
   "id": "a04b25bf-7056-47ff-ab6a-32733635935d",
   "metadata": {},
   "outputs": [],
   "source": [
    "path = '/well/woolrich/projects/cichy118_cont/preproc_data_osl/subj1/cont_quantized_quant8/'\n",
    "data = loadmat(path + 'ch0.mat')['x_val_t'][0]\n",
    "target = loadmat(path + 'ch306.mat')['x_val_t'][0]\n",
    "cond = loadmat(path + 'ch612.mat')['x_val_t'][0]\n",
    "subid = loadmat(path + 'ch613.mat')['x_val_t'][0]"
   ]
  },
  {
   "cell_type": "code",
   "execution_count": null,
   "id": "1e1a443d",
   "metadata": {},
   "outputs": [],
   "source": [
    "# extract decoding examples\n",
    "shifted = cond[1:] - cond[:-1]\n",
    "inds = np.where(shifted > 0)[0] - 24"
   ]
  },
  {
   "cell_type": "code",
   "execution_count": null,
   "id": "df2c1f21",
   "metadata": {},
   "outputs": [],
   "source": [
    "inds.shape"
   ]
  },
  {
   "cell_type": "code",
   "execution_count": null,
   "id": "a064b863",
   "metadata": {},
   "outputs": [],
   "source": [
    "decoded = mulaw_inv(data, maxabs, mu=7)"
   ]
  },
  {
   "cell_type": "code",
   "execution_count": null,
   "id": "b9127e13",
   "metadata": {},
   "outputs": [],
   "source": [
    "np.average(np.abs((decoded - dataset[:len(decoded)])/dataset[:len(decoded)]))"
   ]
  },
  {
   "cell_type": "code",
   "execution_count": null,
   "id": "9ac2f72d",
   "metadata": {},
   "outputs": [],
   "source": [
    "%matplotlib widget\n",
    "plt.plot(dataset[:1000], linewidth=0.5)\n",
    "plt.plot(decoded[:1000], linewidth=0.5)\n",
    "#plt.plot((decoded[:100000] - dataset[:100000]))\n"
   ]
  },
  {
   "cell_type": "code",
   "execution_count": null,
   "id": "2a285d95",
   "metadata": {},
   "outputs": [],
   "source": [
    "%matplotlib widget\n",
    "plt.plot(cond[:10000])"
   ]
  },
  {
   "cell_type": "code",
   "execution_count": null,
   "id": "68850dd4-5add-40ea-b754-42d6e7bbd9c0",
   "metadata": {},
   "outputs": [],
   "source": [
    "%matplotlib widget\n",
    "plt.hist(data, bins=100)\n",
    "plt.show()"
   ]
  },
  {
   "cell_type": "markdown",
   "id": "c7ba11fd-2d00-49ac-a01f-93097448d4e7",
   "metadata": {},
   "source": [
    "## Checking outputs from generative decoder"
   ]
  },
  {
   "cell_type": "code",
   "execution_count": null,
   "id": "6e546dbc-a85c-4e6e-ad76-fd9b90774bbd",
   "metadata": {},
   "outputs": [],
   "source": [
    "outputs = torch.Tensor(np.load(os.path.join('cichy_data', 'subj1_quantized', 'outputs.npy')))\n",
    "targets = torch.Tensor(np.load(os.path.join('cichy_data', 'subj1_quantized', 'targets.npy')))\n",
    "targets = targets.long()\n",
    "\n",
    "targets = targets.reshape(8, -1)\n",
    "outputs = outputs.reshape(8, -1, outputs.shape[1])"
   ]
  },
  {
   "cell_type": "code",
   "execution_count": null,
   "id": "24afea64-a912-4794-a2fc-70ca48b8c61c",
   "metadata": {},
   "outputs": [],
   "source": [
    "loss = torch.nn.CrossEntropyLoss(reduction='none')"
   ]
  },
  {
   "cell_type": "code",
   "execution_count": null,
   "id": "1b43ace4-33ae-411c-bd7f-792cc217c3c4",
   "metadata": {},
   "outputs": [],
   "source": [
    "out_inds = torch.argmax(outputs,dim=-1)"
   ]
  },
  {
   "cell_type": "code",
   "execution_count": null,
   "id": "31f549c9-c647-440d-bee0-b39cc453bd2a",
   "metadata": {},
   "outputs": [],
   "source": [
    "out_inds[5]"
   ]
  },
  {
   "cell_type": "code",
   "execution_count": null,
   "id": "85afddc3-ced8-4679-990e-1c369246ed2d",
   "metadata": {},
   "outputs": [],
   "source": [
    "targets[5]"
   ]
  },
  {
   "cell_type": "code",
   "execution_count": null,
   "id": "459bc2d5-8143-4a43-bf75-420285f44ed2",
   "metadata": {},
   "outputs": [],
   "source": [
    "plt.plot(out_inds[2], 'r', targets[2], 'b')"
   ]
  },
  {
   "cell_type": "code",
   "execution_count": null,
   "id": "2974c24e-b28d-4496-be35-e2bda0646035",
   "metadata": {},
   "outputs": [],
   "source": [
    "for i in range(8):\n",
    "    loss_val = torch.mean(loss(outputs[i], targets[i].long()))\n",
    "    print(loss_val.item())"
   ]
  },
  {
   "cell_type": "code",
   "execution_count": null,
   "id": "fef95afc-8889-43be-841c-8677e3e916e8",
   "metadata": {},
   "outputs": [],
   "source": [
    "torch.mean(loss(outputs.reshape(-1, outputs.shape[2]), targets.reshape(-1)))"
   ]
  },
  {
   "cell_type": "markdown",
   "id": "1aa8cab6",
   "metadata": {},
   "source": [
    "# Checking output"
   ]
  },
  {
   "cell_type": "code",
   "execution_count": null,
   "id": "3eac3a47",
   "metadata": {},
   "outputs": [],
   "source": [
    "path = '../results/cichy_epoched/subj1/cont_quantized_1_35hz/wavenetfull_rf1s_dim2/trainlosses.npy'\n",
    "losses = np.load(path)"
   ]
  },
  {
   "cell_type": "code",
   "execution_count": null,
   "id": "3b9ed722",
   "metadata": {},
   "outputs": [],
   "source": [
    "losses.shape"
   ]
  },
  {
   "cell_type": "code",
   "execution_count": null,
   "id": "e4beb20b",
   "metadata": {},
   "outputs": [],
   "source": [
    "ch_loss = np.mean(losses, axis=(0, 2))"
   ]
  },
  {
   "cell_type": "code",
   "execution_count": null,
   "id": "babd14c4",
   "metadata": {},
   "outputs": [],
   "source": [
    "%matplotlib widget\n",
    "plt.plot(ch_loss)"
   ]
  },
  {
   "cell_type": "code",
   "execution_count": null,
   "id": "82176304",
   "metadata": {},
   "outputs": [],
   "source": [
    "# Load data\n",
    "path = '/well/woolrich/projects/cichy118_cont/preproc_data_osl/subj1/oslpy/MEG2_subj02_sess01_tsss_mc-0_preproc_raw.fif'\n",
    "raw = mne.io.read_raw_fif(path, preload=True)\n",
    "chn_type = 'meg'\n",
    "raw = raw.pick(chn_type)"
   ]
  },
  {
   "cell_type": "code",
   "execution_count": null,
   "id": "68cd5df3",
   "metadata": {},
   "outputs": [],
   "source": [
    "evoked_ch1 = mne.EvokedArray(ch_loss.reshape(-1, 1), raw.info, tmin=0)"
   ]
  },
  {
   "cell_type": "code",
   "execution_count": null,
   "id": "5625b51e",
   "metadata": {},
   "outputs": [],
   "source": [
    "%matplotlib widget\n",
    "evoked_ch1.plot_topomap(scalings=1, vmin=2)"
   ]
  },
  {
   "cell_type": "code",
   "execution_count": null,
   "id": "2dfd7bd9",
   "metadata": {},
   "outputs": [],
   "source": [
    "path = '/well/woolrich/projects/cichy118_cont/preproc_data_osl/subj1/subj1.npy'\n",
    "dataset = np.load(path)\n",
    "dataset = dataset[:, ::4]\n",
    "dataset = RobustScaler().fit_transform(dataset.T)"
   ]
  },
  {
   "cell_type": "code",
   "execution_count": null,
   "id": "5ac2cde9",
   "metadata": {},
   "outputs": [],
   "source": [
    "dataset.shape"
   ]
  },
  {
   "cell_type": "code",
   "execution_count": null,
   "id": "133455e2",
   "metadata": {},
   "outputs": [],
   "source": [
    "%matplotlib widget\n",
    "for i in range(9,10):\n",
    "    plt.plot(dataset[:, i])\n",
    "\n",
    "plt.hlines([3, -3], 0, 1e6)"
   ]
  },
  {
   "cell_type": "code",
   "execution_count": null,
   "id": "c9f25ce1",
   "metadata": {},
   "outputs": [],
   "source": [
    "diffs = []\n",
    "for i in range(1, 11):\n",
    "    clipped = np.clip(dataset, -i, i)\n",
    "    diffs.append(np.average(np.abs(clipped-dataset)))"
   ]
  },
  {
   "cell_type": "code",
   "execution_count": null,
   "id": "ce4c0483",
   "metadata": {},
   "outputs": [],
   "source": [
    "%matplotlib widget\n",
    "plt.bar(np.arange(1, 11), height=diffs, log=True)"
   ]
  },
  {
   "cell_type": "code",
   "execution_count": null,
   "id": "8ed36b90",
   "metadata": {},
   "outputs": [],
   "source": [
    "eye = np.eye(10)\n",
    "\n",
    "inds = np.random.randint(0, 10, (2,3,4))\n",
    "\n",
    "selected = eye[inds]\n",
    "print(inds[:, 0, 0])\n",
    "selected[:, 0, 0]\n"
   ]
  },
  {
   "cell_type": "code",
   "execution_count": null,
   "id": "93c871e2",
   "metadata": {},
   "outputs": [],
   "source": [
    "path = '/well/woolrich/projects/cichy118_cont/preproc_data_osl/subj2/subj2.npy'\n",
    "data = np.load(path)\n",
    "data.shape"
   ]
  },
  {
   "cell_type": "code",
   "execution_count": null,
   "id": "88d788e8",
   "metadata": {},
   "outputs": [],
   "source": [
    "path = '/well/woolrich/projects/cichy118_cont/preproc_data_osl/subj2/event_times.npy'\n",
    "ev = np.load(path)"
   ]
  },
  {
   "cell_type": "code",
   "execution_count": null,
   "id": "cc2bc613",
   "metadata": {},
   "outputs": [],
   "source": [
    "ev[-1]"
   ]
  },
  {
   "cell_type": "code",
   "execution_count": null,
   "id": "96652a7a",
   "metadata": {},
   "outputs": [],
   "source": [
    "[154000, 48000, 85000, 70000, 57000, 67000, 49000, 89000, 187000, 56000, 37000, 106000, 81000, 83000, 240000]"
   ]
  },
  {
   "cell_type": "code",
   "execution_count": null,
   "id": "14a02920",
   "metadata": {},
   "outputs": [],
   "source": [
    "subj = 15\n",
    "path = f'/well/woolrich/projects/cichy118_cont/raw_data/subj{subj:02d}/MEG2_subj{subj:02d}_sess01_tsss_mc-0.fif'\n",
    "raw = mne.io.read_raw_fif(path)"
   ]
  }
 ],
 "metadata": {
  "kernelspec": {
   "display_name": "Python 3.8.5 64-bit ('main')",
   "language": "python",
   "name": "python3"
  },
  "language_info": {
   "codemirror_mode": {
    "name": "ipython",
    "version": 3
   },
   "file_extension": ".py",
   "mimetype": "text/x-python",
   "name": "python",
   "nbconvert_exporter": "python",
   "pygments_lexer": "ipython3",
   "version": "3.8.5"
  },
  "vscode": {
   "interpreter": {
    "hash": "84a3ebe666650a68380744730c1b34178a4e2d05dc952cdf65b44a0ef828689f"
   }
  }
 },
 "nbformat": 4,
 "nbformat_minor": 5
}
