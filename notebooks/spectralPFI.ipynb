{
 "cells": [
  {
   "cell_type": "code",
   "execution_count": 1,
   "id": "9998bddb-9403-4599-90ed-4b12ff834946",
   "metadata": {},
   "outputs": [],
   "source": [
    "import os\n",
    "import numpy as np\n",
    "import matplotlib.pyplot as plt\n",
    "import mne\n",
    "import pickle\n",
    "from scipy.fft import fft, fftfreq, ifft\n",
    "import seaborn as sns\n",
    "import pandas as pd\n",
    "from matplotlib import animation\n",
    "\n",
    "%matplotlib widget\n",
    "plt.rcParams['figure.figsize'] = [9, 8]"
   ]
  },
  {
   "cell_type": "code",
   "execution_count": 2,
   "id": "f55fe8b4-488b-4137-a777-60df27b1a6ed",
   "metadata": {},
   "outputs": [
    {
     "name": "stdout",
     "output_type": "stream",
     "text": [
      "Opening raw data file cichy_data/subj0/MEG2_subj01_sess01_tsss_mc-3.fif...\n",
      "    Range : 4930000 ... 5162999 =   4930.000 ...  5162.999 secs\n",
      "Ready.\n",
      "Reading 0 ... 232999  =      0.000 ...   232.999 secs...\n"
     ]
    },
    {
     "name": "stderr",
     "output_type": "stream",
     "text": [
      "/var/folders/nv/wjmf18wd5_j38vg9v0cthl5h0000gn/T/ipykernel_5508/1878434330.py:3: RuntimeWarning: This filename (cichy_data/subj0/MEG2_subj01_sess01_tsss_mc-3.fif) does not conform to MNE naming conventions. All raw files should end with raw.fif, raw_sss.fif, raw_tsss.fif, _meg.fif, _eeg.fif, _ieeg.fif, raw.fif.gz, raw_sss.fif.gz, raw_tsss.fif.gz, _meg.fif.gz, _eeg.fif.gz or _ieeg.fif.gz\n",
      "  raw = mne.io.read_raw_fif(dataset_path, preload=True)\n"
     ]
    }
   ],
   "source": [
    "# Load meg channel config\n",
    "dataset_path = os.path.join('cichy_data', 'subj0', 'MEG2_subj01_sess01_tsss_mc-3.fif')\n",
    "raw = mne.io.read_raw_fif(dataset_path, preload=True)\n",
    "chn_type = 'mag'\n",
    "raw = raw.pick(chn_type)"
   ]
  },
  {
   "cell_type": "code",
   "execution_count": 3,
   "id": "ccd8b385-ab12-4c5c-afe9-9d34d83527ce",
   "metadata": {},
   "outputs": [],
   "source": [
    "# PFI_freq\n",
    "path = os.path.join('..', 'results', 'cichy_epoched', 'all_noshuffle_wavenetclass_semb10_drop0.4', 'PFIfreq',\n",
    "                    'val_loss_PFIfreqs_ch4.npy')\n",
    "pfi = np.load(open(path, 'rb'))\n",
    "pfi = pfi[0, 0, 0] - pfi[0, :, 1:]"
   ]
  },
  {
   "cell_type": "code",
   "execution_count": 4,
   "id": "67c8f370-a162-41d7-aade-7d83fe9554d2",
   "metadata": {},
   "outputs": [],
   "source": [
    "# times array\n",
    "xf = fftfreq(256, 1/250)[:256//2]\n",
    "xf = xf[3:126]\n",
    "xf = np.round(xf)\n",
    "xf = np.array([xf for _ in range(pfi.shape[1])]).T\n",
    "xf = xf.reshape(-1)\n",
    "\n",
    "pfi_pd = pfi\n",
    "\n",
    "# magnitudes for color hues\n",
    "mags = np.abs(np.mean(pfi, axis=0))\n",
    "mags = np.array([mags/np.max(mags[:-1]) for _ in range(pfi_pd.shape[0])])\n",
    "mags = mags.reshape(-1)\n",
    "\n",
    "pfi_pd = pfi_pd.reshape(-1)"
   ]
  },
  {
   "cell_type": "code",
   "execution_count": 5,
   "id": "4c21f4e0-4358-4056-93d6-e421253727b7",
   "metadata": {},
   "outputs": [],
   "source": [
    "# put everything in a pd dataframe\n",
    "pd_dict = {'Accuracy loss': pfi_pd, 'Frequency (Hz)': xf, 'relative magnitude': mags}\n",
    "pfi_pd = pd.DataFrame(pd_dict)"
   ]
  },
  {
   "cell_type": "code",
   "execution_count": 10,
   "id": "9fff1a61-0808-4898-b311-fd03d6c6d97c",
   "metadata": {},
   "outputs": [
    {
     "data": {
      "application/vnd.jupyter.widget-view+json": {
       "model_id": "c913be4aea524431a717e4e9f28c85c7",
       "version_major": 2,
       "version_minor": 0
      },
      "text/plain": [
       "Canvas(toolbar=Toolbar(toolitems=[('Home', 'Reset original view', 'home', 'home'), ('Back', 'Back to previous …"
      ]
     },
     "metadata": {},
     "output_type": "display_data"
    }
   ],
   "source": [
    "%matplotlib widget\n",
    "pfi_plot = sns.relplot(\n",
    "    data=pfi_pd, kind=\"line\",\n",
    "    x=\"Frequency (Hz)\", y=\"Accuracy loss\", hue='relative magnitude', legend=None, palette='Reds', aspect=1.5\n",
    ")\n",
    "\n",
    "plt.savefig('/Users/ricsi/GoogleDrive/Projektek/The Brain Project/oxford/writings/neurips_figures/spatiospectral.pdf', format='pdf')"
   ]
  },
  {
   "cell_type": "code",
   "execution_count": 9,
   "id": "c264d6b1-d3e1-4193-bc6e-051bcd0b5190",
   "metadata": {},
   "outputs": [
    {
     "data": {
      "application/vnd.jupyter.widget-view+json": {
       "model_id": "9ad1c0e2d6f744b994b2b23de348f08a",
       "version_major": 2,
       "version_minor": 0
      },
      "text/plain": [
       "Canvas(toolbar=Toolbar(toolitems=[('Home', 'Reset original view', 'home', 'home'), ('Back', 'Back to previous …"
      ]
     },
     "metadata": {},
     "output_type": "display_data"
    }
   ],
   "source": [
    "%matplotlib widget\n",
    "evoked_ch1 = mne.EvokedArray(np.mean(pfi, axis=0, keepdims=True).T, raw.info, tmin=0)\n",
    "evoked_ch1.plot_topomap(times=[0], ch_type='mag', time_unit='ms', scalings=1, units='Accuracy loss', time_format='', vmin=0)\n",
    "plt.savefig('/Users/ricsi/GoogleDrive/Projektek/The Brain Project/oxford/writings/neurips_figures/spatiospectral_head.pdf', format='pdf')"
   ]
  },
  {
   "cell_type": "code",
   "execution_count": 4,
   "id": "15b40bdf-5b9a-4915-b15a-efda24c25145",
   "metadata": {},
   "outputs": [
    {
     "name": "stdout",
     "output_type": "stream",
     "text": [
      "Opening raw data file cichy_data/subj0/MEG2_subj01_sess01_tsss_mc-3.fif...\n",
      "    Range : 4930000 ... 5162999 =   4930.000 ...  5162.999 secs\n",
      "Ready.\n",
      "Reading 0 ... 232999  =      0.000 ...   232.999 secs...\n"
     ]
    },
    {
     "name": "stderr",
     "output_type": "stream",
     "text": [
      "/var/folders/nv/wjmf18wd5_j38vg9v0cthl5h0000gn/T/ipykernel_4859/3329983199.py:3: RuntimeWarning: This filename (cichy_data/subj0/MEG2_subj01_sess01_tsss_mc-3.fif) does not conform to MNE naming conventions. All raw files should end with raw.fif, raw_sss.fif, raw_tsss.fif, _meg.fif, _eeg.fif, _ieeg.fif, raw.fif.gz, raw_sss.fif.gz, raw_tsss.fif.gz, _meg.fif.gz, _eeg.fif.gz or _ieeg.fif.gz\n",
      "  raw = mne.io.read_raw_fif(dataset_path, preload=True)\n"
     ]
    }
   ],
   "source": [
    "# load pfi data\n",
    "path = os.path.join('..', 'results', 'cichy_epoched', 'all_noshuffle_wavenetclass_semb10_drop0.4', 'PFIfreq',\n",
    "                    'val_loss_PFIfreqs4_zeroed.npy')\n",
    "pfi = np.load(open(path, 'rb'))\n",
    "pfi = pfi[0, 0] - pfi[:, 1:]"
   ]
  },
  {
   "cell_type": "code",
   "execution_count": 5,
   "id": "c69dd169-7e70-49fb-a0b8-a673cb0ffebf",
   "metadata": {},
   "outputs": [],
   "source": [
    "df = pd.DataFrame(pfi)\n",
    "df = df.stack().reset_index()\n",
    "df = df.rename(columns={'level_0': 'perm', 'level_1': 'frequency', 0: 'Accuracy loss'})"
   ]
  },
  {
   "cell_type": "code",
   "execution_count": 47,
   "id": "71586469-e3b0-4b85-a826-4263e5ead850",
   "metadata": {},
   "outputs": [
    {
     "data": {
      "text/html": [
       "<div>\n",
       "<style scoped>\n",
       "    .dataframe tbody tr th:only-of-type {\n",
       "        vertical-align: middle;\n",
       "    }\n",
       "\n",
       "    .dataframe tbody tr th {\n",
       "        vertical-align: top;\n",
       "    }\n",
       "\n",
       "    .dataframe thead th {\n",
       "        text-align: right;\n",
       "    }\n",
       "</style>\n",
       "<table border=\"1\" class=\"dataframe\">\n",
       "  <thead>\n",
       "    <tr style=\"text-align: right;\">\n",
       "      <th></th>\n",
       "      <th>perm</th>\n",
       "      <th>frequency</th>\n",
       "      <th>Accuracy loss</th>\n",
       "    </tr>\n",
       "  </thead>\n",
       "  <tbody>\n",
       "    <tr>\n",
       "      <th>0</th>\n",
       "      <td>0</td>\n",
       "      <td>0</td>\n",
       "      <td>0.239859</td>\n",
       "    </tr>\n",
       "    <tr>\n",
       "      <th>1</th>\n",
       "      <td>0</td>\n",
       "      <td>1</td>\n",
       "      <td>0.212150</td>\n",
       "    </tr>\n",
       "    <tr>\n",
       "      <th>2</th>\n",
       "      <td>0</td>\n",
       "      <td>2</td>\n",
       "      <td>0.217673</td>\n",
       "    </tr>\n",
       "    <tr>\n",
       "      <th>3</th>\n",
       "      <td>0</td>\n",
       "      <td>3</td>\n",
       "      <td>0.211579</td>\n",
       "    </tr>\n",
       "    <tr>\n",
       "      <th>4</th>\n",
       "      <td>0</td>\n",
       "      <td>4</td>\n",
       "      <td>0.211579</td>\n",
       "    </tr>\n",
       "    <tr>\n",
       "      <th>...</th>\n",
       "      <td>...</td>\n",
       "      <td>...</td>\n",
       "      <td>...</td>\n",
       "    </tr>\n",
       "    <tr>\n",
       "      <th>620</th>\n",
       "      <td>4</td>\n",
       "      <td>120</td>\n",
       "      <td>0.002857</td>\n",
       "    </tr>\n",
       "    <tr>\n",
       "      <th>621</th>\n",
       "      <td>4</td>\n",
       "      <td>121</td>\n",
       "      <td>0.001428</td>\n",
       "    </tr>\n",
       "    <tr>\n",
       "      <th>622</th>\n",
       "      <td>4</td>\n",
       "      <td>122</td>\n",
       "      <td>-0.001714</td>\n",
       "    </tr>\n",
       "    <tr>\n",
       "      <th>623</th>\n",
       "      <td>4</td>\n",
       "      <td>123</td>\n",
       "      <td>-0.000667</td>\n",
       "    </tr>\n",
       "    <tr>\n",
       "      <th>624</th>\n",
       "      <td>4</td>\n",
       "      <td>124</td>\n",
       "      <td>-0.000857</td>\n",
       "    </tr>\n",
       "  </tbody>\n",
       "</table>\n",
       "<p>625 rows × 3 columns</p>\n",
       "</div>"
      ],
      "text/plain": [
       "     perm  frequency  Accuracy loss\n",
       "0       0          0       0.239859\n",
       "1       0          1       0.212150\n",
       "2       0          2       0.217673\n",
       "3       0          3       0.211579\n",
       "4       0          4       0.211579\n",
       "..    ...        ...            ...\n",
       "620     4        120       0.002857\n",
       "621     4        121       0.001428\n",
       "622     4        122      -0.001714\n",
       "623     4        123      -0.000667\n",
       "624     4        124      -0.000857\n",
       "\n",
       "[625 rows x 3 columns]"
      ]
     },
     "execution_count": 47,
     "metadata": {},
     "output_type": "execute_result"
    }
   ],
   "source": [
    "df"
   ]
  },
  {
   "cell_type": "code",
   "execution_count": 9,
   "id": "a5e26e72-8ed8-4a46-a301-2a74f678ff13",
   "metadata": {},
   "outputs": [
    {
     "data": {
      "application/vnd.jupyter.widget-view+json": {
       "model_id": "f437e8a28ee84c06bf66f28f70e5b6fe",
       "version_major": 2,
       "version_minor": 0
      },
      "text/plain": [
       "Canvas(toolbar=Toolbar(toolitems=[('Home', 'Reset original view', 'home', 'home'), ('Back', 'Back to previous …"
      ]
     },
     "metadata": {},
     "output_type": "display_data"
    }
   ],
   "source": [
    "pfi_plot = sns.relplot(\n",
    "    data=df, kind=\"line\",\n",
    "    x=\"frequency\", y=\"Accuracy loss\", n_boot=1000, legend='brief', aspect=2, ci=95\n",
    ")\n",
    "plt.xticks(list(range(123))[::10], xf[::10])\n",
    "a= 0"
   ]
  },
  {
   "cell_type": "code",
   "execution_count": 16,
   "id": "7ae568be-5026-49a9-a389-951bdec128d1",
   "metadata": {},
   "outputs": [
    {
     "data": {
      "application/vnd.jupyter.widget-view+json": {
       "model_id": "f857718265224967804b6d98ba2e9036",
       "version_major": 2,
       "version_minor": 0
      },
      "text/plain": [
       "Canvas(toolbar=Toolbar(toolitems=[('Home', 'Reset original view', 'home', 'home'), ('Back', 'Back to previous …"
      ]
     },
     "metadata": {},
     "output_type": "display_data"
    }
   ],
   "source": [
    "pfi_plot = sns.relplot(\n",
    "    data=df, kind=\"line\",\n",
    "    x=\"frequency\", y=\"Accuracy loss\", n_boot=1000, legend='brief', aspect=2, ci=95\n",
    ")\n",
    "plt.xticks(list(range(123))[::10], xf[::10])\n",
    "a= 0"
   ]
  },
  {
   "cell_type": "code",
   "execution_count": 8,
   "id": "ad8baa58-8fc6-4cc1-8df2-374d9e0e27c2",
   "metadata": {},
   "outputs": [],
   "source": [
    "# look at fourier transform\n",
    "path = os.path.join('..', 'results', 'cichy_epoched', 'all_noshuffle_wavenetclass_semb10_drop0.4', 'PFIfreq',\n",
    "                    'val_loss_PFIfreqs2_samples_zeroed.npy')\n",
    "samples = np.load(open(path, 'rb'))"
   ]
  },
  {
   "cell_type": "code",
   "execution_count": 10,
   "id": "d550cd98-bf45-48dc-8677-ad90a2a98760",
   "metadata": {},
   "outputs": [
    {
     "data": {
      "application/vnd.jupyter.widget-view+json": {
       "model_id": "a688f5a74c1c48a7af6da02bc8723b76",
       "version_major": 2,
       "version_minor": 0
      },
      "text/plain": [
       "Canvas(toolbar=Toolbar(toolitems=[('Home', 'Reset original view', 'home', 'home'), ('Back', 'Back to previous …"
      ]
     },
     "metadata": {},
     "output_type": "display_data"
    },
    {
     "data": {
      "text/plain": [
       "[<matplotlib.lines.Line2D at 0x7ff200889af0>]"
      ]
     },
     "execution_count": 10,
     "metadata": {},
     "output_type": "execute_result"
    }
   ],
   "source": [
    "%matplotlib widget\n",
    "plt.plot(np.abs(samples[0, :]))\n",
    "plt.plot(np.abs(samples[50, :]))"
   ]
  },
  {
   "cell_type": "code",
   "execution_count": 59,
   "id": "73edb5e6-7eb1-4cae-a094-9e21a48a8c94",
   "metadata": {},
   "outputs": [
    {
     "data": {
      "text/plain": [
       "array([], dtype=complex64)"
      ]
     },
     "execution_count": 59,
     "metadata": {},
     "output_type": "execute_result"
    }
   ],
   "source": [
    "samples[0, -1:0]"
   ]
  }
 ],
 "metadata": {
  "kernelspec": {
   "display_name": "Python 3.8.5 64-bit ('main')",
   "language": "python",
   "name": "python3"
  },
  "language_info": {
   "codemirror_mode": {
    "name": "ipython",
    "version": 3
   },
   "file_extension": ".py",
   "mimetype": "text/x-python",
   "name": "python",
   "nbconvert_exporter": "python",
   "pygments_lexer": "ipython3",
   "version": "3.8.5"
  },
  "vscode": {
   "interpreter": {
    "hash": "84a3ebe666650a68380744730c1b34178a4e2d05dc952cdf65b44a0ef828689f"
   }
  }
 },
 "nbformat": 4,
 "nbformat_minor": 5
}
