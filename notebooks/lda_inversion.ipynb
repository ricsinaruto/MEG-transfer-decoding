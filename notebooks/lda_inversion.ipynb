{
 "cells": [
  {
   "cell_type": "code",
   "execution_count": 57,
   "id": "a6855a3f",
   "metadata": {},
   "outputs": [],
   "source": [
    "import os\n",
    "import numpy as np\n",
    "import mne\n",
    "import osl\n",
    "import yaml\n",
    "import torch\n",
    "from sklearn.manifold import TSNE\n",
    "from scipy.io import loadmat, savemat\n",
    "import pandas as pd\n",
    "import seaborn as sns\n",
    "import pickle\n",
    "from cichy_data import CichyData\n",
    "import wavenets_classifier\n",
    "import classifiers_linear\n",
    "import matplotlib.pyplot as plt\n",
    "from sklearn.discriminant_analysis import LinearDiscriminantAnalysis\n",
    "from sklearn.decomposition import PCA\n",
    "\n",
    "plt.rcParams['figure.figsize'] = [17, 12]\n",
    "\n",
    "def diag_block_mat_slicing(L):\n",
    "    shp = L[0].shape\n",
    "    N = len(L)\n",
    "    r = range(N)\n",
    "    out = np.zeros((N,shp[0],N,shp[1]))\n",
    "    out[r,:,r,:] = L\n",
    "    return out.reshape(np.asarray(shp)*N)"
   ]
  },
  {
   "cell_type": "code",
   "execution_count": 2,
   "id": "53d39d60",
   "metadata": {},
   "outputs": [],
   "source": [
    "data = np.random.rand(3, 4)\n",
    "conv_w = np.random.rand(4, 2)"
   ]
  },
  {
   "cell_type": "code",
   "execution_count": 42,
   "id": "ee8b867d",
   "metadata": {},
   "outputs": [
    {
     "data": {
      "text/plain": [
       "array([[0.6444017 , 0.50092841],\n",
       "       [0.88307439, 0.89638052],\n",
       "       [0.83364766, 0.15539055],\n",
       "       [0.66078684, 0.69615098]])"
      ]
     },
     "execution_count": 42,
     "metadata": {},
     "output_type": "execute_result"
    }
   ],
   "source": [
    "conv_w"
   ]
  },
  {
   "cell_type": "code",
   "execution_count": 3,
   "id": "0bf37bfe",
   "metadata": {},
   "outputs": [],
   "source": [
    "out = np.dot(data, conv_w)"
   ]
  },
  {
   "cell_type": "code",
   "execution_count": 4,
   "id": "b132b702",
   "metadata": {},
   "outputs": [
    {
     "data": {
      "text/plain": [
       "array([[1.75768389, 1.24907767],\n",
       "       [1.68313513, 1.15879695],\n",
       "       [1.05770867, 0.4009219 ]])"
      ]
     },
     "execution_count": 4,
     "metadata": {},
     "output_type": "execute_result"
    }
   ],
   "source": [
    "out"
   ]
  },
  {
   "cell_type": "code",
   "execution_count": 5,
   "id": "75996815",
   "metadata": {},
   "outputs": [
    {
     "data": {
      "text/plain": [
       "array([1.75768389, 1.24907767, 1.68313513, 1.15879695, 1.05770867,\n",
       "       0.4009219 ])"
      ]
     },
     "execution_count": 5,
     "metadata": {},
     "output_type": "execute_result"
    }
   ],
   "source": [
    "out.reshape(-1)"
   ]
  },
  {
   "cell_type": "code",
   "execution_count": 6,
   "id": "6da481c8",
   "metadata": {},
   "outputs": [
    {
     "data": {
      "text/plain": [
       "array([[0.34869715, 0.62419546, 0.71855802, 0.57923007],\n",
       "       [0.57311546, 0.09268019, 0.70451951, 0.97558543],\n",
       "       [0.1287344 , 0.05546846, 0.95258909, 0.19922545]])"
      ]
     },
     "execution_count": 6,
     "metadata": {},
     "output_type": "execute_result"
    }
   ],
   "source": [
    "data"
   ]
  },
  {
   "cell_type": "code",
   "execution_count": 7,
   "id": "25ee411e",
   "metadata": {},
   "outputs": [
    {
     "data": {
      "text/plain": [
       "array([0.34869715, 0.62419546, 0.71855802, 0.57923007, 0.57311546,\n",
       "       0.09268019, 0.70451951, 0.97558543, 0.1287344 , 0.05546846,\n",
       "       0.95258909, 0.19922545])"
      ]
     },
     "execution_count": 7,
     "metadata": {},
     "output_type": "execute_result"
    }
   ],
   "source": [
    "data.reshape(-1)"
   ]
  },
  {
   "cell_type": "code",
   "execution_count": 58,
   "id": "b117723e",
   "metadata": {},
   "outputs": [],
   "source": [
    "L = np.array([conv_w, conv_w, conv_w])\n",
    "conv_w3 = diag_block_mat_slicing(L)"
   ]
  },
  {
   "cell_type": "code",
   "execution_count": 59,
   "id": "b00523bd",
   "metadata": {},
   "outputs": [
    {
     "data": {
      "text/plain": [
       "array([[0.6444017 , 0.50092841, 0.        , 0.        , 0.        ,\n",
       "        0.        ],\n",
       "       [0.88307439, 0.89638052, 0.        , 0.        , 0.        ,\n",
       "        0.        ],\n",
       "       [0.83364766, 0.15539055, 0.        , 0.        , 0.        ,\n",
       "        0.        ],\n",
       "       [0.66078684, 0.69615098, 0.        , 0.        , 0.        ,\n",
       "        0.        ],\n",
       "       [0.        , 0.        , 0.6444017 , 0.50092841, 0.        ,\n",
       "        0.        ],\n",
       "       [0.        , 0.        , 0.88307439, 0.89638052, 0.        ,\n",
       "        0.        ],\n",
       "       [0.        , 0.        , 0.83364766, 0.15539055, 0.        ,\n",
       "        0.        ],\n",
       "       [0.        , 0.        , 0.66078684, 0.69615098, 0.        ,\n",
       "        0.        ],\n",
       "       [0.        , 0.        , 0.        , 0.        , 0.6444017 ,\n",
       "        0.50092841],\n",
       "       [0.        , 0.        , 0.        , 0.        , 0.88307439,\n",
       "        0.89638052],\n",
       "       [0.        , 0.        , 0.        , 0.        , 0.83364766,\n",
       "        0.15539055],\n",
       "       [0.        , 0.        , 0.        , 0.        , 0.66078684,\n",
       "        0.69615098]])"
      ]
     },
     "execution_count": 59,
     "metadata": {},
     "output_type": "execute_result"
    }
   ],
   "source": [
    "conv_w3"
   ]
  },
  {
   "cell_type": "code",
   "execution_count": 60,
   "id": "864d013d",
   "metadata": {},
   "outputs": [],
   "source": [
    "out2 = np.dot(data.reshape(-1), conv_w3)"
   ]
  },
  {
   "cell_type": "code",
   "execution_count": 61,
   "id": "c42a340c",
   "metadata": {},
   "outputs": [
    {
     "data": {
      "text/plain": [
       "array([1.75768389, 1.24907767, 1.68313513, 1.15879695, 1.05770867,\n",
       "       0.4009219 ])"
      ]
     },
     "execution_count": 61,
     "metadata": {},
     "output_type": "execute_result"
    }
   ],
   "source": [
    "out2"
   ]
  },
  {
   "cell_type": "code",
   "execution_count": 63,
   "id": "453ace95",
   "metadata": {},
   "outputs": [
    {
     "data": {
      "text/plain": [
       "6"
      ]
     },
     "execution_count": 63,
     "metadata": {},
     "output_type": "execute_result"
    }
   ],
   "source": [
    "(np.array(2)) * 3"
   ]
  }
 ],
 "metadata": {
  "kernelspec": {
   "display_name": "Python 3 (ipykernel)",
   "language": "python",
   "name": "python3"
  },
  "language_info": {
   "codemirror_mode": {
    "name": "ipython",
    "version": 3
   },
   "file_extension": ".py",
   "mimetype": "text/x-python",
   "name": "python",
   "nbconvert_exporter": "python",
   "pygments_lexer": "ipython3",
   "version": "3.8.5"
  }
 },
 "nbformat": 4,
 "nbformat_minor": 5
}
