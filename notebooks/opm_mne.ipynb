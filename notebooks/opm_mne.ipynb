{
 "cells": [
  {
   "cell_type": "code",
   "execution_count": 1,
   "metadata": {},
   "outputs": [],
   "source": [
    "import numpy as np\n",
    "import os\n",
    "import mne\n",
    "import pickle\n",
    "import pandas as pd\n",
    "from mat73 import loadmat\n",
    "import matplotlib.pyplot as plt\n",
    "import osl\n",
    "import yaml"
   ]
  },
  {
   "cell_type": "code",
   "execution_count": null,
   "metadata": {},
   "outputs": [],
   "source": [
    "# Load raw data\n",
    "raw = loadmat('/well/woolrich/projects/disp_csaky/opm_lukas/data.mat')"
   ]
  },
  {
   "cell_type": "code",
   "execution_count": null,
   "metadata": {},
   "outputs": [],
   "source": [
    "raw = raw['data']"
   ]
  },
  {
   "cell_type": "code",
   "execution_count": null,
   "metadata": {},
   "outputs": [],
   "source": [
    "# Select bad channels\n",
    "#drop_inds = [78, 79, 80, 30, 31, 32, 48, 49, 50, 63, 64, 65, 12, 13, 14, 3, 4, 5, 0, 1, 2, 6, 7, 8, 105, 106, 107]\n",
    "#good_inds = [i for i in range(186) if i not in drop_inds]\n",
    "\n",
    "drop_inds = [12, 13, 14, 42, 43, 44, 57, 58, 59, 81, 82, 83, 111, 112, 113, 159, 160, 161, 165, 166, 167, 174, 175, 176]\n",
    "good_inds = [i for i in range(189) if i not in drop_inds]\n",
    "\n",
    "ch_names = [str(i) for i in good_inds]"
   ]
  },
  {
   "cell_type": "code",
   "execution_count": null,
   "metadata": {},
   "outputs": [],
   "source": [
    "# Drop bad channels\n",
    "raw = raw[good_inds, :]"
   ]
  },
  {
   "cell_type": "code",
   "execution_count": null,
   "metadata": {},
   "outputs": [],
   "source": [
    "data = raw"
   ]
  },
  {
   "cell_type": "code",
   "execution_count": null,
   "metadata": {},
   "outputs": [],
   "source": [
    "# Load channel locations\n",
    "channels = pd.read_csv('/well/woolrich/projects/disp_csaky/opm_lukas/20221019_085012_channels.tsv', sep='\\t')"
   ]
  },
  {
   "cell_type": "code",
   "execution_count": null,
   "metadata": {},
   "outputs": [],
   "source": [
    "# Set channel locations\n",
    "chn_dict = []\n",
    "for i in range(len(channels)):\n",
    "    if i in good_inds:\n",
    "        chn_positions = np.array([channels['Px'][i], channels['Py'][i], channels['Pz'][i], 0, 0, 0, 0, 0, 0, 0, 0, 0])\n",
    "\n",
    "        chd = {'loc': chn_positions, 'ch_name': channels['name'][i], 'kind': 'FIFFV_EEG_CH'}\n",
    "        chn_dict.append(chd)"
   ]
  },
  {
   "cell_type": "code",
   "execution_count": null,
   "metadata": {},
   "outputs": [],
   "source": [
    "# Create info structure\n",
    "ch_names = [d['ch_name'] for d in chn_dict]\n",
    "info = mne.create_info(ch_names=ch_names, sfreq=1200, ch_types='eeg')\n",
    "\n",
    "# set channel locations\n",
    "for i in range(len(chn_dict)):\n",
    "    info['chs'][i]['loc'] = chn_dict[i]['loc']"
   ]
  },
  {
   "cell_type": "code",
   "execution_count": null,
   "metadata": {},
   "outputs": [],
   "source": [
    "# create mne raw object\n",
    "raw = mne.io.RawArray(data, info)"
   ]
  },
  {
   "cell_type": "code",
   "execution_count": null,
   "metadata": {},
   "outputs": [],
   "source": [
    "%matplotlib widget\n",
    "raw.plot_psd(fmax=100, n_fft=10000)\n",
    "e=0"
   ]
  },
  {
   "cell_type": "code",
   "execution_count": null,
   "metadata": {},
   "outputs": [],
   "source": [
    "raw.plot_sensors(show_names=True)"
   ]
  },
  {
   "cell_type": "code",
   "execution_count": 2,
   "metadata": {},
   "outputs": [],
   "source": [
    "# OSL preproc pipeline\n",
    "outdir = '/well/woolrich/projects/disp_csaky/opm_lukas/osl_mark/'\n",
    "\n",
    "config_text = \"\"\"\n",
    "meta:\n",
    "  event_codes:\n",
    "    words/hungry: 2\n",
    "    words/tired: 3\n",
    "    words/thirsty: 4\n",
    "    words/toilet: 5\n",
    "    words/pain: 6\n",
    "preproc:\n",
    "  - filter:         {l_freq: 1, h_freq: 40, method: 'iir', iir_params: {order: 5, ftype: butter}}\n",
    "  - bad_channels:   {picks: 'eeg', significance_level: 0.4}        \n",
    "  - bad_segments:   {segment_len: 200, picks: 'eeg', significance_level: 0.1}\n",
    "  - bad_segments:   {segment_len: 400, picks: 'eeg', significance_level: 0.1}\n",
    "  - bad_segments:   {segment_len: 600, picks: 'eeg', significance_level: 0.1}\n",
    "  - bad_segments:   {segment_len: 800, picks: 'eeg', significance_level: 0.1}\n",
    "  - ica_raw:        {picks: 'eeg', n_components: 50}\n",
    "\"\"\""
   ]
  },
  {
   "cell_type": "code",
   "execution_count": null,
   "metadata": {},
   "outputs": [],
   "source": [
    "# save raw data\n",
    "raw.save(outdir + 'raw.fif', overwrite=True)"
   ]
  },
  {
   "cell_type": "code",
   "execution_count": null,
   "metadata": {},
   "outputs": [],
   "source": [
    "# run OSL preprocessing\n",
    "config = yaml.load(config_text, Loader=yaml.FullLoader)\n",
    "dataset = osl.preprocessing.run_proc_chain(config,\n",
    "                                           outdir + 'raw.fif',\n",
    "                                           outdir=outdir,\n",
    "                                           overwrite=True,\n",
    "                                           gen_report=False)"
   ]
  },
  {
   "cell_type": "code",
   "execution_count": null,
   "metadata": {},
   "outputs": [],
   "source": [
    "# drop bad channels detected by OSL\n",
    "raw_proc = dataset['raw']\n",
    "raw_proc = raw_proc.drop_channels(raw_proc.info['bads'])"
   ]
  },
  {
   "cell_type": "code",
   "execution_count": null,
   "metadata": {},
   "outputs": [],
   "source": [
    "# select x, y, z channels\n",
    "x_inds = [i for i, c in enumerate(raw_proc.ch_names) if '[X]' in c]\n",
    "y_inds = [i for i, c in enumerate(raw_proc.ch_names) if '[Y]' in c]\n",
    "z_inds = [i for i, c in enumerate(raw_proc.ch_names) if '[Z]' in c]"
   ]
  },
  {
   "cell_type": "code",
   "execution_count": null,
   "metadata": {},
   "outputs": [],
   "source": [
    "ica = dataset['ica']"
   ]
  },
  {
   "cell_type": "code",
   "execution_count": null,
   "metadata": {},
   "outputs": [],
   "source": [
    "# Get components and sources\n",
    "comps = ica.get_components()\n",
    "ica_sources = ica.get_sources(raw_proc).get_data()"
   ]
  },
  {
   "cell_type": "code",
   "execution_count": null,
   "metadata": {},
   "outputs": [],
   "source": [
    "ch_names = [c for c in raw_proc.ch_names if '[Z]' in c]\n",
    "info_z = raw_proc.copy().pick_channels(ch_names).info"
   ]
  },
  {
   "cell_type": "code",
   "execution_count": null,
   "metadata": {},
   "outputs": [],
   "source": [
    "# plot component timeseries and topographies\n",
    "%matplotlib inline\n",
    "index = 26\n",
    "\n",
    "mne.viz.plot_topomap(comps[z_inds, index], info_z)\n",
    "\n",
    "%matplotlib widget\n",
    "plt.plot(ica_sources[index][40000:80000], linewidth=0.5)"
   ]
  },
  {
   "cell_type": "code",
   "execution_count": null,
   "metadata": {},
   "outputs": [],
   "source": [
    "# set components to exclude\n",
    "#ica.exclude = [6, 12, 15]\n",
    "#ica.exclude = [3, 4, 10]\n",
    "ica.exclude = [1, 2, 11]"
   ]
  },
  {
   "cell_type": "code",
   "execution_count": null,
   "metadata": {},
   "outputs": [],
   "source": [
    "# apply ica to the data\n",
    "raw_proc = ica.apply(raw_proc)"
   ]
  },
  {
   "cell_type": "code",
   "execution_count": null,
   "metadata": {},
   "outputs": [],
   "source": [
    "# save data\n",
    "raw_proc.save(outdir + 'raw_preproc.fif')"
   ]
  },
  {
   "cell_type": "code",
   "execution_count": 3,
   "metadata": {},
   "outputs": [
    {
     "name": "stdout",
     "output_type": "stream",
     "text": [
      "Opening raw data file /well/woolrich/projects/disp_csaky/opm_lukas/osl_mark/raw_preproc.fif...\n"
     ]
    },
    {
     "name": "stderr",
     "output_type": "stream",
     "text": [
      "<ipython-input-3-4328eecfd05f>:2: RuntimeWarning: This filename (/well/woolrich/projects/disp_csaky/opm_lukas/osl_mark/raw_preproc.fif) does not conform to MNE naming conventions. All raw files should end with raw.fif, raw_sss.fif, raw_tsss.fif, _meg.fif, _eeg.fif, _ieeg.fif, raw.fif.gz, raw_sss.fif.gz, raw_tsss.fif.gz, _meg.fif.gz, _eeg.fif.gz or _ieeg.fif.gz\n",
      "  raw = mne.io.read_raw_fif(outdir + 'raw_preproc.fif')\n"
     ]
    },
    {
     "name": "stdout",
     "output_type": "stream",
     "text": [
      "Isotrak not found\n",
      "    Range : 0 ... 3336239 =      0.000 ...  2780.199 secs\n",
      "Ready.\n"
     ]
    }
   ],
   "source": [
    "# load data\n",
    "raw = mne.io.read_raw_fif(outdir + 'raw_preproc.fif')"
   ]
  },
  {
   "cell_type": "code",
   "execution_count": 8,
   "metadata": {},
   "outputs": [],
   "source": [
    "x_inds = [i for i, c in enumerate(raw.ch_names) if '[X]' in c]\n",
    "y_inds = [i for i, c in enumerate(raw.ch_names) if '[Y]' in c]\n",
    "z_inds = [i for i, c in enumerate(raw.ch_names) if '[Z]' in c]"
   ]
  },
  {
   "cell_type": "code",
   "execution_count": 15,
   "metadata": {},
   "outputs": [
    {
     "data": {
      "text/plain": [
       "['KG [X]',\n",
       " 'KG [Y]',\n",
       " 'KG [Z]',\n",
       " 'K7 [X]',\n",
       " 'K7 [Y]',\n",
       " 'K7 [Z]',\n",
       " 'KH [X]',\n",
       " 'KH [Y]',\n",
       " 'KI [X]',\n",
       " 'KI [Y]']"
      ]
     },
     "execution_count": 15,
     "metadata": {},
     "output_type": "execute_result"
    }
   ],
   "source": [
    "raw.ch_names[15:25]"
   ]
  },
  {
   "cell_type": "code",
   "execution_count": 22,
   "metadata": {},
   "outputs": [],
   "source": [
    "opm_inds = []\n",
    "for i in range(51):\n",
    "    if i<7:\n",
    "        opm_inds.append(np.array([i*3, i*3+1, i*3+2]))\n",
    "    elif i == 7:\n",
    "        opm_inds.append(np.array([i*3, i*3+1]))\n",
    "    else:\n",
    "        opm_inds.append(np.array([i*3-1, i*3, i*3+1]))"
   ]
  },
  {
   "cell_type": "code",
   "execution_count": 23,
   "metadata": {},
   "outputs": [
    {
     "name": "stdout",
     "output_type": "stream",
     "text": [
      "LJ [X] LJ [Y] LJ [Z]\n",
      "LQ [X] LQ [Y] LQ [Z]\n",
      "LR [X] LR [Y] LR [Z]\n",
      "LD [X] LD [Y] LD [Z]\n",
      "KF [X] KF [Y] KF [Z]\n",
      "KG [X] KG [Y] KG [Z]\n",
      "K7 [X] K7 [Y] K7 [Z]\n",
      "KH [X] KH [Y]\n",
      "KI [X] KI [Y] KI [Z]\n",
      "K8 [X] K8 [Y] K8 [Z]\n",
      "LA [X] LA [Y] LA [Z]\n",
      "KA [X] KA [Y] KA [Z]\n",
      "KB [X] KB [Y] KB [Z]\n",
      "LB [X] LB [Y] LB [Z]\n",
      "KC [X] KC [Y] KC [Z]\n",
      "LC [X] LC [Y] LC [Z]\n",
      "LG [X] LG [Y] LG [Z]\n",
      "LF [X] LF [Y] LF [Z]\n",
      "LE [X] LE [Y] LE [Z]\n",
      "LM [X] LM [Y] LM [Z]\n",
      "LN [X] LN [Y] LN [Z]\n",
      "HK [X] HK [Y] HK [Z]\n",
      "HH [X] HH [Y] HH [Z]\n",
      "MU [X] MU [Y] MU [Z]\n",
      "HG [X] HG [Y] HG [Z]\n",
      "FR [X] FR [Y] FR [Z]\n",
      "HP [X] HP [Y] HP [Z]\n",
      "HQ [X] HQ [Y] HQ [Z]\n",
      "KE [X] KE [Y] KE [Z]\n",
      "G0 [X] G0 [Y] G0 [Z]\n",
      "I0 [X] I0 [Y] I0 [Z]\n",
      "FX [X] FX [Y] FX [Z]\n",
      "FW [X] FW [Y] FW [Z]\n",
      "I2 [X] I2 [Y] I2 [Z]\n",
      "I4 [X] I4 [Y] I4 [Z]\n",
      "HE [X] HE [Y] HE [Z]\n",
      "I5 [X] I5 [Y] I5 [Z]\n",
      "I7 [X] I7 [Y] I7 [Z]\n",
      "HF [X] HF [Y] HF [Z]\n",
      "FY [X] FY [Y] FY [Z]\n",
      "HI [X] HI [Y] HI [Z]\n",
      "FT [X] FT [Y] FT [Z]\n",
      "FS [X] FS [Y] FS [Z]\n",
      "FV [X] FV [Y] FV [Z]\n",
      "FU [X] FU [Y] FU [Z]\n",
      "G2 [X] G2 [Y] G2 [Z]\n",
      "HN [X] HN [Y] HN [Z]\n",
      "HO [X] HO [Y] HO [Z]\n",
      "I1 [X] I1 [Y] I1 [Z]\n",
      "I6 [X] I6 [Y] I6 [Z]\n",
      "HJ [X] HJ [Y] HJ [Z]\n"
     ]
    }
   ],
   "source": [
    "for ind in opm_inds:\n",
    "    print(' '.join([raw.ch_names[i] for i in ind]))"
   ]
  }
 ],
 "metadata": {
  "kernelspec": {
   "display_name": "Python 3.8.5 64-bit ('main')",
   "language": "python",
   "name": "python3"
  },
  "language_info": {
   "codemirror_mode": {
    "name": "ipython",
    "version": 3
   },
   "file_extension": ".py",
   "mimetype": "text/x-python",
   "name": "python",
   "nbconvert_exporter": "python",
   "pygments_lexer": "ipython3",
   "version": "3.8.5"
  },
  "orig_nbformat": 4,
  "vscode": {
   "interpreter": {
    "hash": "84a3ebe666650a68380744730c1b34178a4e2d05dc952cdf65b44a0ef828689f"
   }
  }
 },
 "nbformat": 4,
 "nbformat_minor": 2
}
