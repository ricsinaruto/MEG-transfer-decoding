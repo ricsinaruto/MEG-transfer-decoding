{
 "cells": [
  {
   "cell_type": "code",
   "execution_count": null,
   "metadata": {},
   "outputs": [],
   "source": [
    "import numpy as np\n",
    "import os\n",
    "import mne\n",
    "import pickle\n",
    "import pandas as pd\n",
    "from mat73 import loadmat\n",
    "import matplotlib.pyplot as plt\n",
    "import osl\n",
    "import yaml"
   ]
  },
  {
   "cell_type": "code",
   "execution_count": null,
   "metadata": {},
   "outputs": [],
   "source": [
    "# Load raw data\n",
    "raw = loadmat('/well/woolrich/projects/disp_csaky/opm_lukas/data.mat')"
   ]
  },
  {
   "cell_type": "code",
   "execution_count": null,
   "metadata": {},
   "outputs": [],
   "source": [
    "raw = raw['data']"
   ]
  },
  {
   "cell_type": "code",
   "execution_count": null,
   "metadata": {},
   "outputs": [],
   "source": [
    "# Select bad channels\n",
    "#drop_inds = [78, 79, 80, 30, 31, 32, 48, 49, 50, 63, 64, 65, 12, 13, 14, 3, 4, 5, 0, 1, 2, 6, 7, 8, 105, 106, 107]\n",
    "#good_inds = [i for i in range(186) if i not in drop_inds]\n",
    "\n",
    "drop_inds = [12, 13, 14, 42, 43, 44, 57, 58, 59, 81, 82, 83, 111, 112, 113, 159, 160, 161, 165, 166, 167, 174, 175, 176]\n",
    "good_inds = [i for i in range(189) if i not in drop_inds]\n",
    "\n",
    "ch_names = [str(i) for i in good_inds]"
   ]
  },
  {
   "cell_type": "code",
   "execution_count": null,
   "metadata": {},
   "outputs": [],
   "source": [
    "# Drop bad channels\n",
    "raw = raw[good_inds, :]"
   ]
  },
  {
   "cell_type": "code",
   "execution_count": null,
   "metadata": {},
   "outputs": [],
   "source": [
    "data = raw"
   ]
  },
  {
   "cell_type": "code",
   "execution_count": null,
   "metadata": {},
   "outputs": [],
   "source": [
    "# Load channel locations\n",
    "channels = pd.read_csv('/well/woolrich/projects/disp_csaky/opm_lukas/20221019_085012_channels.tsv', sep='\\t')"
   ]
  },
  {
   "cell_type": "code",
   "execution_count": null,
   "metadata": {},
   "outputs": [],
   "source": [
    "# Set channel locations\n",
    "chn_dict = []\n",
    "for i in range(len(channels)):\n",
    "    if i in good_inds:\n",
    "        chn_positions = np.array([channels['Px'][i], channels['Py'][i], channels['Pz'][i], 0, 0, 0, 0, 0, 0, 0, 0, 0])\n",
    "\n",
    "        chd = {'loc': chn_positions, 'ch_name': channels['name'][i], 'kind': 'FIFFV_EEG_CH'}\n",
    "        chn_dict.append(chd)"
   ]
  },
  {
   "cell_type": "code",
   "execution_count": null,
   "metadata": {},
   "outputs": [],
   "source": [
    "# Create info structure\n",
    "ch_names = [d['ch_name'] for d in chn_dict]\n",
    "info = mne.create_info(ch_names=ch_names, sfreq=1200, ch_types='eeg')\n",
    "\n",
    "# set channel locations\n",
    "for i in range(len(chn_dict)):\n",
    "    info['chs'][i]['loc'] = chn_dict[i]['loc']"
   ]
  },
  {
   "cell_type": "code",
   "execution_count": null,
   "metadata": {},
   "outputs": [],
   "source": [
    "# create mne raw object\n",
    "raw = mne.io.RawArray(data, info)"
   ]
  },
  {
   "cell_type": "code",
   "execution_count": null,
   "metadata": {},
   "outputs": [],
   "source": [
    "%matplotlib widget\n",
    "raw.plot_psd(fmax=100, n_fft=10000)\n",
    "e=0"
   ]
  },
  {
   "cell_type": "code",
   "execution_count": null,
   "metadata": {},
   "outputs": [],
   "source": [
    "raw.plot_sensors(show_names=True)"
   ]
  },
  {
   "cell_type": "code",
   "execution_count": null,
   "metadata": {},
   "outputs": [],
   "source": [
    "# OSL preproc pipeline\n",
    "outdir = '/well/woolrich/projects/disp_csaky/opm_lukas/osl_mark/'\n",
    "\n",
    "config_text = \"\"\"\n",
    "meta:\n",
    "  event_codes:\n",
    "    words/hungry: 2\n",
    "    words/tired: 3\n",
    "    words/thirsty: 4\n",
    "    words/toilet: 5\n",
    "    words/pain: 6\n",
    "preproc:\n",
    "  - filter:         {l_freq: 1, h_freq: 40, method: 'iir', iir_params: {order: 5, ftype: butter}}\n",
    "  - bad_channels:   {picks: 'eeg', significance_level: 0.4}        \n",
    "  - bad_segments:   {segment_len: 200, picks: 'eeg', significance_level: 0.1}\n",
    "  - bad_segments:   {segment_len: 400, picks: 'eeg', significance_level: 0.1}\n",
    "  - bad_segments:   {segment_len: 600, picks: 'eeg', significance_level: 0.1}\n",
    "  - bad_segments:   {segment_len: 800, picks: 'eeg', significance_level: 0.1}\n",
    "  - ica_raw:        {picks: 'eeg', n_components: 50}\n",
    "\"\"\""
   ]
  },
  {
   "cell_type": "code",
   "execution_count": null,
   "metadata": {},
   "outputs": [],
   "source": [
    "# save raw data\n",
    "raw.save(outdir + 'raw.fif', overwrite=True)"
   ]
  },
  {
   "cell_type": "code",
   "execution_count": null,
   "metadata": {},
   "outputs": [],
   "source": [
    "# run OSL preprocessing\n",
    "config = yaml.load(config_text, Loader=yaml.FullLoader)\n",
    "dataset = osl.preprocessing.run_proc_chain(config,\n",
    "                                           outdir + 'raw.fif',\n",
    "                                           outdir=outdir,\n",
    "                                           overwrite=True,\n",
    "                                           gen_report=False)"
   ]
  },
  {
   "cell_type": "code",
   "execution_count": null,
   "metadata": {},
   "outputs": [],
   "source": [
    "# drop bad channels detected by OSL\n",
    "raw_proc = dataset['raw']\n",
    "raw_proc = raw_proc.drop_channels(raw_proc.info['bads'])"
   ]
  },
  {
   "cell_type": "code",
   "execution_count": null,
   "metadata": {},
   "outputs": [],
   "source": [
    "# select x, y, z channels\n",
    "x_inds = [i for i, c in enumerate(raw_proc.ch_names) if '[X]' in c]\n",
    "y_inds = [i for i, c in enumerate(raw_proc.ch_names) if '[Y]' in c]\n",
    "z_inds = [i for i, c in enumerate(raw_proc.ch_names) if '[Z]' in c]"
   ]
  },
  {
   "cell_type": "code",
   "execution_count": null,
   "metadata": {},
   "outputs": [],
   "source": [
    "ica = dataset['ica']"
   ]
  },
  {
   "cell_type": "code",
   "execution_count": null,
   "metadata": {},
   "outputs": [],
   "source": [
    "# Get components and sources\n",
    "comps = ica.get_components()\n",
    "ica_sources = ica.get_sources(raw_proc).get_data()"
   ]
  },
  {
   "cell_type": "code",
   "execution_count": null,
   "metadata": {},
   "outputs": [],
   "source": [
    "ch_names = [c for c in raw_proc.ch_names if '[Z]' in c]\n",
    "info_z = raw_proc.copy().pick_channels(ch_names).info"
   ]
  },
  {
   "cell_type": "code",
   "execution_count": null,
   "metadata": {},
   "outputs": [],
   "source": [
    "# plot component timeseries and topographies\n",
    "%matplotlib inline\n",
    "index = 26\n",
    "\n",
    "mne.viz.plot_topomap(comps[z_inds, index], info_z)\n",
    "\n",
    "%matplotlib widget\n",
    "plt.plot(ica_sources[index][40000:80000], linewidth=0.5)"
   ]
  },
  {
   "cell_type": "code",
   "execution_count": null,
   "metadata": {},
   "outputs": [],
   "source": [
    "# set components to exclude\n",
    "#ica.exclude = [6, 12, 15]\n",
    "#ica.exclude = [3, 4, 10]\n",
    "ica.exclude = [1, 2, 11]"
   ]
  },
  {
   "cell_type": "code",
   "execution_count": null,
   "metadata": {},
   "outputs": [],
   "source": [
    "# apply ica to the data\n",
    "raw_proc = ica.apply(raw_proc)"
   ]
  },
  {
   "cell_type": "code",
   "execution_count": null,
   "metadata": {},
   "outputs": [],
   "source": [
    "# save data\n",
    "raw_proc.save(outdir + 'raw_preproc.fif')"
   ]
  }
 ],
 "metadata": {
  "kernelspec": {
   "display_name": "Python 3.8.5 64-bit ('main')",
   "language": "python",
   "name": "python3"
  },
  "language_info": {
   "codemirror_mode": {
    "name": "ipython",
    "version": 3
   },
   "file_extension": ".py",
   "mimetype": "text/x-python",
   "name": "python",
   "nbconvert_exporter": "python",
   "pygments_lexer": "ipython3",
   "version": "3.8.5"
  },
  "orig_nbformat": 4,
  "vscode": {
   "interpreter": {
    "hash": "84a3ebe666650a68380744730c1b34178a4e2d05dc952cdf65b44a0ef828689f"
   }
  }
 },
 "nbformat": 4,
 "nbformat_minor": 2
}
