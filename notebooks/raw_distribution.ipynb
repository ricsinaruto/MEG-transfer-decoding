{
 "cells": [
  {
   "cell_type": "code",
   "execution_count": null,
   "id": "999b6d4d-f1c4-4264-9ffa-a5645615386c",
   "metadata": {},
   "outputs": [],
   "source": [
    "import os\n",
    "import numpy as np\n",
    "import mne\n",
    "import osl\n",
    "import scipy\n",
    "import yaml\n",
    "import pandas as pd\n",
    "from sklearn.preprocessing import MinMaxScaler, MaxAbsScaler, RobustScaler, StandardScaler\n",
    "from sklearn.decomposition import PCA\n",
    "from sklearn.cluster import MiniBatchKMeans\n",
    "import seaborn as sns\n",
    "import numpy as np\n",
    "import pickle\n",
    "import matplotlib.pyplot as plt"
   ]
  },
  {
   "cell_type": "code",
   "execution_count": null,
   "id": "3b1a62aa-31a3-4341-a75d-f2a97224187e",
   "metadata": {},
   "outputs": [],
   "source": [
    "clip_num = 50"
   ]
  },
  {
   "cell_type": "code",
   "execution_count": null,
   "id": "a7cbdb8f-408a-4f25-b951-ba4e0795443b",
   "metadata": {},
   "outputs": [],
   "source": [
    "def encode(x, pca, robust, maxabs, robust2, mu=255):\n",
    "    x = robust.fit_transform(x.T)\n",
    "    x = pca.fit_transform(x)\n",
    "    print(np.mean(x, axis=0))\n",
    "    print(np.std(x, axis=0))\n",
    "    \n",
    "    x = clip(x.T).T\n",
    "    x = robust2.fit_transform(x)\n",
    "    x = maxabs.fit_transform(x).T\n",
    "    print('-------------------')\n",
    "    print(np.mean(x, axis=1))\n",
    "    print(np.std(x, axis=1))\n",
    "    \n",
    "    \n",
    "    \n",
    "    x = x.reshape(-1)\n",
    "    x = np.sign(x)*np.log(1+mu*np.abs(x))/np.log(1+mu)\n",
    "    \n",
    "    bins = np.linspace(-1, 1, mu + 1)\n",
    "    x = np.digitize(x, bins) - 1\n",
    "\n",
    "    return x"
   ]
  },
  {
   "cell_type": "code",
   "execution_count": null,
   "id": "5a3a7c07-fe48-45cd-8a05-fee41a310680",
   "metadata": {},
   "outputs": [],
   "source": [
    "def decode(x, pca, robust, maxabs, robust2, mu=255, shape=(306, 2857000)):\n",
    "    x = x / (mu + 1) * 2 - 1\n",
    "    x = np.sign(x)*((mu+1)**np.abs(x)-1) / mu\n",
    "    \n",
    "    x = x.reshape(shape)\n",
    "    x = maxabs.inverse_transform(x.T)\n",
    "    x = robust2.inverse_transform(x)\n",
    "    x = pca.inverse_transform(x)\n",
    "    x = robust.inverse_transform(x)\n",
    "    \n",
    "    return x.T"
   ]
  },
  {
   "cell_type": "code",
   "execution_count": null,
   "id": "ce20cfb2-5754-47bf-9614-3c242f02c5b8",
   "metadata": {},
   "outputs": [],
   "source": [
    "def clip(x):\n",
    "    shape = x.shape\n",
    "    \n",
    "    sorted_ = np.sort(x)\n",
    "    clip_vals = sorted_[:, -clip_num]\n",
    "    \n",
    "    for i in range(shape[0]):\n",
    "        x[i, :] = np.clip(x[i, :], -clip_vals[i], clip_vals[i])\n",
    "\n",
    "    return x"
   ]
  },
  {
   "cell_type": "code",
   "execution_count": null,
   "id": "041cb062-07af-4572-87f6-8815ab8cf762",
   "metadata": {},
   "outputs": [],
   "source": [
    "outdir = os.path.join('rich_data', 'subj2', 'sess4', 'oslpy_deb')"
   ]
  },
  {
   "cell_type": "code",
   "execution_count": null,
   "id": "538086ab-71d1-4a7f-a17d-1fc1cc227978",
   "metadata": {},
   "outputs": [],
   "source": [
    "path = os.path.join(outdir, 'task_part1_4_tsss_preproc_raw.fif')\n",
    "raw = mne.io.read_raw_fif(path, preload=True)"
   ]
  },
  {
   "cell_type": "code",
   "execution_count": null,
   "id": "e754f142-b87a-41f1-8a31-545ada325d9f",
   "metadata": {},
   "outputs": [],
   "source": [
    "raw_data = raw.get_data(picks='meg')"
   ]
  },
  {
   "cell_type": "code",
   "execution_count": null,
   "id": "2382c683-a473-4ca0-afb5-433eb58a05d1",
   "metadata": {},
   "outputs": [],
   "source": [
    "data = clip(raw_data)"
   ]
  },
  {
   "cell_type": "code",
   "execution_count": null,
   "id": "ebba4dbf-02dc-427d-8484-741bba109b6d",
   "metadata": {},
   "outputs": [],
   "source": [
    "pca = PCA(306)\n",
    "robust_scaler = RobustScaler()\n",
    "robust_scaler2 = RobustScaler()\n",
    "maxabs = MaxAbsScaler()"
   ]
  },
  {
   "cell_type": "code",
   "execution_count": null,
   "id": "d7fa5282-a627-447b-b899-9205fc04bfeb",
   "metadata": {},
   "outputs": [],
   "source": [
    "%matplotlib widget\n",
    "plt.hist(pca_data.reshape(-1), bins=256)\n",
    "#plt.xlim(-1, 1)\n",
    "plt.show()"
   ]
  },
  {
   "cell_type": "code",
   "execution_count": null,
   "id": "373b1e4e-829a-4294-87c8-e25973f0142a",
   "metadata": {},
   "outputs": [],
   "source": [
    "plt.hist(raw_data[100], bins=256)\n",
    "#plt.xlim(-1, 1)\n",
    "plt.show()"
   ]
  },
  {
   "cell_type": "code",
   "execution_count": null,
   "id": "dbcc7d41-0653-4560-bdc2-d42e1326cdc2",
   "metadata": {},
   "outputs": [],
   "source": [
    "encoded = encode(raw_data, pca, robust_scaler, maxabs, robust_scaler2)"
   ]
  },
  {
   "cell_type": "code",
   "execution_count": null,
   "id": "63ffaf7d-b5ef-4428-b64b-795b4cb9fd2b",
   "metadata": {},
   "outputs": [],
   "source": [
    "%matplotlib widget\n",
    "plt.plot(encoded[50000:55000])"
   ]
  },
  {
   "cell_type": "code",
   "execution_count": null,
   "id": "2361d49a-98fa-4a2d-9a0f-2f56e854418e",
   "metadata": {},
   "outputs": [],
   "source": [
    "encoded = encoded.reshape((306, 2857000))"
   ]
  },
  {
   "cell_type": "code",
   "execution_count": null,
   "id": "bc77d14f-dfa1-47a9-9089-edb7624d46ba",
   "metadata": {},
   "outputs": [],
   "source": [
    "%matplotlib widget\n",
    "plt.hist(encoded[1], bins=256)\n",
    "plt.show()"
   ]
  },
  {
   "cell_type": "code",
   "execution_count": null,
   "id": "6a1419fe-e788-4521-9d72-fb010ae4ebc3",
   "metadata": {},
   "outputs": [],
   "source": [
    "%matplotlib widget\n",
    "plt.hist(encoded[-1], bins=256)\n",
    "plt.show()"
   ]
  },
  {
   "cell_type": "code",
   "execution_count": null,
   "id": "32cae01a-c9db-4c06-8322-65dfd68a7f85",
   "metadata": {},
   "outputs": [],
   "source": [
    "decoded = decode(encoded.reshape(-1), pca, robust_scaler, maxabs, robust_scaler2)"
   ]
  },
  {
   "cell_type": "code",
   "execution_count": null,
   "id": "5a7ef4fd-acd4-48a1-9652-34ede35f560e",
   "metadata": {},
   "outputs": [],
   "source": [
    "plt.hist(decoded, bins=256)\n",
    "plt.show()"
   ]
  },
  {
   "cell_type": "code",
   "execution_count": null,
   "id": "e77d86a6-40a7-479d-8d3e-2336bbef794d",
   "metadata": {},
   "outputs": [],
   "source": [
    "errors = []\n",
    "for i in range(306):\n",
    "    data_mean = np.mean(np.abs(raw_data[i]))\n",
    "    diff = np.mean(np.abs(raw_data[i] - decoded[i]))\n",
    "    \n",
    "    errors.append(diff/data_mean)"
   ]
  },
  {
   "cell_type": "code",
   "execution_count": null,
   "id": "7fe99740-14ef-439f-86cc-0d55185ded97",
   "metadata": {},
   "outputs": [],
   "source": [
    "%matplotlib widget\n",
    "plt.hist(errors, bins=306)\n",
    "plt.show()"
   ]
  },
  {
   "cell_type": "code",
   "execution_count": null,
   "id": "ac299177-09cb-4948-824d-5a90f738a0a2",
   "metadata": {},
   "outputs": [],
   "source": [
    "np.mean(np.abs(data - decoded))"
   ]
  },
  {
   "cell_type": "code",
   "execution_count": null,
   "id": "c1004403-6867-4dd0-a5b0-38842bfbf851",
   "metadata": {},
   "outputs": [],
   "source": [
    "np.mean(np.abs(data))"
   ]
  },
  {
   "cell_type": "code",
   "execution_count": null,
   "id": "937d8eb0-3de1-4d14-9133-658c0d99e10b",
   "metadata": {},
   "outputs": [],
   "source": [
    "diff = data - decoded"
   ]
  },
  {
   "cell_type": "code",
   "execution_count": null,
   "id": "e356b68f-3db8-4d5f-8f52-458e8165b1c2",
   "metadata": {},
   "outputs": [],
   "source": [
    "%matplotlib widget\n",
    "plt.plot(data[10, 50000:52000], 'r', decoded[10, 50000:52000], 'b', linewidth=0.2)"
   ]
  },
  {
   "cell_type": "code",
   "execution_count": null,
   "id": "67b3aaba-dfba-4c8e-9b8b-e4f07d2ba766",
   "metadata": {},
   "outputs": [],
   "source": [
    "%matplotlib widget\n",
    "plt.hist(diff.reshape(-1), bins=10000)\n",
    "plt.xlim((-2e-12, 2e-12))"
   ]
  },
  {
   "cell_type": "code",
   "execution_count": null,
   "id": "b7853251",
   "metadata": {},
   "outputs": [],
   "source": [
    "errors = np.arange(256) / 256"
   ]
  },
  {
   "cell_type": "code",
   "execution_count": null,
   "id": "696cb034",
   "metadata": {},
   "outputs": [],
   "source": [
    "np.mean(errors**2)"
   ]
  },
  {
   "cell_type": "code",
   "execution_count": null,
   "id": "8392d423",
   "metadata": {},
   "outputs": [],
   "source": [
    "path = os.path.join('..', 'results', 'cichy_epoched', 'subj1', 'cont_quantized', 'wavenetfulltest', 'preds.npy')\n",
    "preds = np.load(path)\n",
    "\n",
    "path = os.path.join('..', 'results', 'cichy_epoched', 'subj1', 'cont_quantized', 'wavenetfulltest', 'targets.npy')\n",
    "targets = np.load(path)"
   ]
  },
  {
   "cell_type": "code",
   "execution_count": null,
   "id": "284c011f",
   "metadata": {},
   "outputs": [],
   "source": [
    "preds.shape"
   ]
  },
  {
   "cell_type": "code",
   "execution_count": null,
   "id": "ad9482c1",
   "metadata": {},
   "outputs": [],
   "source": [
    "preds = preds.transpose(1, 0, 2).reshape(preds.shape[1], -1)\n",
    "targets = targets.transpose(1, 0, 2).reshape(targets.shape[1], -1)"
   ]
  },
  {
   "cell_type": "code",
   "execution_count": null,
   "id": "1e804b77",
   "metadata": {},
   "outputs": [],
   "source": [
    "np.mean((targets[:, :, 1:].reshape(-1) - targets[:, :, :-1].reshape(-1))**2)"
   ]
  },
  {
   "cell_type": "code",
   "execution_count": null,
   "id": "5c33bd41",
   "metadata": {},
   "outputs": [],
   "source": [
    "np.mean((preds[:, :, 1:].reshape(-1) - targets[:, :, :-1].reshape(-1))**2)"
   ]
  },
  {
   "cell_type": "code",
   "execution_count": null,
   "id": "539003bb",
   "metadata": {},
   "outputs": [],
   "source": [
    "mse"
   ]
  },
  {
   "cell_type": "code",
   "execution_count": null,
   "id": "a5355414",
   "metadata": {},
   "outputs": [],
   "source": [
    "%matplotlib widget\n",
    "plt.plot(preds[0, 0, 1:60], linewidth=0.5)\n",
    "plt.plot(targets[0, 0, :60], linewidth=0.5)"
   ]
  },
  {
   "cell_type": "code",
   "execution_count": 1,
   "id": "7b65b43d",
   "metadata": {},
   "outputs": [
    {
     "ename": "NameError",
     "evalue": "name 'np' is not defined",
     "output_type": "error",
     "traceback": [
      "\u001b[0;31m---------------------------------------------------------------------------\u001b[0m",
      "\u001b[0;31mNameError\u001b[0m                                 Traceback (most recent call last)",
      "\u001b[0;32m<ipython-input-1-7829c9a6b22d>\u001b[0m in \u001b[0;36m<module>\u001b[0;34m\u001b[0m\n\u001b[0;32m----> 1\u001b[0;31m \u001b[0mnp\u001b[0m\u001b[0;34m.\u001b[0m\u001b[0mmin\u001b[0m\u001b[0;34m(\u001b[0m\u001b[0mnp\u001b[0m\u001b[0;34m.\u001b[0m\u001b[0mabs\u001b[0m\u001b[0;34m(\u001b[0m\u001b[0mpreds\u001b[0m\u001b[0;34m.\u001b[0m\u001b[0mreshape\u001b[0m\u001b[0;34m(\u001b[0m\u001b[0;34m-\u001b[0m\u001b[0;36m1\u001b[0m\u001b[0;34m)\u001b[0m\u001b[0;34m)\u001b[0m\u001b[0;34m)\u001b[0m\u001b[0;34m\u001b[0m\u001b[0;34m\u001b[0m\u001b[0m\n\u001b[0m",
      "\u001b[0;31mNameError\u001b[0m: name 'np' is not defined"
     ]
    }
   ],
   "source": [
    "np.min(np.abs(preds.reshape(-1)))"
   ]
  },
  {
   "cell_type": "code",
   "execution_count": null,
   "id": "64f1eea5",
   "metadata": {},
   "outputs": [],
   "source": [
    "sum(np.abs(targets.reshape(-1))<0.075)/np.prod(targets.shape)"
   ]
  },
  {
   "cell_type": "code",
   "execution_count": null,
   "id": "e48ab8c6",
   "metadata": {},
   "outputs": [],
   "source": []
  },
  {
   "cell_type": "code",
   "execution_count": null,
   "id": "119f8ee8",
   "metadata": {},
   "outputs": [],
   "source": [
    "%matplotlib widget\n",
    "plt.scatter(np.arange(len(np.unique(preds))), np.unique(preds), s=1)\n",
    "#plt.plot(np.unique(targets))"
   ]
  },
  {
   "cell_type": "code",
   "execution_count": null,
   "id": "0189e9e6",
   "metadata": {},
   "outputs": [],
   "source": [
    "%matplotlib widget\n",
    "plt.hist(targets.reshape(-1), bins=1000)\n",
    "plt.show()"
   ]
  },
  {
   "cell_type": "code",
   "execution_count": null,
   "id": "57ca3f83",
   "metadata": {},
   "outputs": [],
   "source": [
    "path = os.path.join('..', 'results', 'cichy_epoched', 'subj1', 'cont_quantized', 'dumb_conv', 'inputs.npy')\n",
    "inputs = np.load(path)\n",
    "\n",
    "path = os.path.join('..', 'results', 'cichy_epoched', 'subj1', 'cont_quantized', 'dumb_conv', 'targets_full.npy')\n",
    "targets = np.load(path)"
   ]
  },
  {
   "cell_type": "code",
   "execution_count": null,
   "id": "8e833518",
   "metadata": {},
   "outputs": [],
   "source": [
    "inputs = inputs.transpose(1, 0, 2).reshape(inputs.shape[1], -1)\n",
    "targets = targets.transpose(1, 0, 2).reshape(targets.shape[1], -1)"
   ]
  },
  {
   "cell_type": "code",
   "execution_count": null,
   "id": "2f6ffd2a",
   "metadata": {},
   "outputs": [],
   "source": [
    "%matplotlib widget\n",
    "plt.plot(inputs[0, 1:10001], linewidth=0.5)\n",
    "plt.plot(targets[0, :10000], linewidth=0.5)"
   ]
  },
  {
   "cell_type": "code",
   "execution_count": null,
   "id": "6f31e25a",
   "metadata": {},
   "outputs": [],
   "source": [
    "%matplotlib widget\n",
    "plt.scatter(np.arange(len(np.unique(targets))), np.unique(targets), s=1)"
   ]
  },
  {
   "cell_type": "code",
   "execution_count": null,
   "id": "0dfb156a",
   "metadata": {},
   "outputs": [],
   "source": [
    "%matplotlib widget\n",
    "plt.hist(inputs.reshape(-1), bins=400)\n",
    "plt.show()"
   ]
  }
 ],
 "metadata": {
  "kernelspec": {
   "display_name": "Python 3.8.5 64-bit ('main')",
   "language": "python",
   "name": "python3"
  },
  "language_info": {
   "codemirror_mode": {
    "name": "ipython",
    "version": 3
   },
   "file_extension": ".py",
   "mimetype": "text/x-python",
   "name": "python",
   "nbconvert_exporter": "python",
   "pygments_lexer": "ipython3",
   "version": "3.8.5"
  },
  "vscode": {
   "interpreter": {
    "hash": "84a3ebe666650a68380744730c1b34178a4e2d05dc952cdf65b44a0ef828689f"
   }
  }
 },
 "nbformat": 4,
 "nbformat_minor": 5
}
