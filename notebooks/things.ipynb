{
 "cells": [
  {
   "cell_type": "code",
   "execution_count": 56,
   "id": "3c93ea05-d488-466c-b168-1f15231a5620",
   "metadata": {},
   "outputs": [],
   "source": [
    "import os\n",
    "import mne\n",
    "import pandas as pd\n",
    "import os.path as op\n",
    "import numpy as np\n",
    "import matplotlib.pyplot as plt\n",
    "from scipy.io import loadmat, savemat"
   ]
  },
  {
   "cell_type": "code",
   "execution_count": 57,
   "id": "5d5fb71a",
   "metadata": {},
   "outputs": [],
   "source": [
    "path = os.path.join('/', 'well', 'woolrich', 'projects', 'cichy118_cont',\n",
    "                    'preproc_data_onepass', 'lowpass25hz', 'subj0',\n",
    "                    'train_data_pca306', 'cch0.mat')\n",
    "trial = loadmat(path)"
   ]
  },
  {
   "cell_type": "code",
   "execution_count": 60,
   "id": "4260fc8a",
   "metadata": {},
   "outputs": [
    {
     "data": {
      "text/plain": [
       "(2478, 1, 101)"
      ]
     },
     "execution_count": 60,
     "metadata": {},
     "output_type": "execute_result"
    }
   ],
   "source": [
    "trial['x_train_t'].shape"
   ]
  },
  {
   "cell_type": "code",
   "execution_count": 4,
   "id": "8e848957-5ee6-41a8-9b3b-fd78464c3fa7",
   "metadata": {},
   "outputs": [
    {
     "data": {
      "text/plain": [
       "(1321, 300)"
      ]
     },
     "execution_count": 4,
     "metadata": {},
     "output_type": "execute_result"
    }
   ],
   "source": [
    "trial = np.load('things_data/trial0.npy')\n",
    "trial.shape"
   ]
  },
  {
   "cell_type": "code",
   "execution_count": 49,
   "id": "8753c7ef-93ee-4dbc-a2b7-78622b803468",
   "metadata": {},
   "outputs": [
    {
     "name": "stdout",
     "output_type": "stream",
     "text": [
      "ds directory : /well/woolrich/projects/THINGS-MEG/raw_data/sub-BIGMEG1/ses-01/meg/sub-BIGMEG1_ses-01_task-main_run-01_meg.ds\n",
      "    res4 data read.\n",
      "    hc data read.\n",
      "    Separate EEG position data file read.\n",
      "    Quaternion matching (desired vs. transformed):\n",
      "      -0.92   77.00    0.00 mm <->   -0.92   77.00   -0.00 mm (orig :  -40.06   68.57 -237.90 mm) diff =    0.000 mm\n",
      "       0.92  -77.00    0.00 mm <->    0.92  -77.00    0.00 mm (orig :   70.03  -39.14 -237.69 mm) diff =    0.000 mm\n",
      "      79.58    0.00    0.00 mm <->   79.58   -0.00    0.00 mm (orig :   71.23   70.87 -233.83 mm) diff =    0.000 mm\n",
      "    Coordinate transformations established.\n",
      "    Polhemus data for 3 HPI coils added\n",
      "    Device coordinate locations for 3 HPI coils added\n",
      "    Measurement info composed.\n",
      "Finding samples for /well/woolrich/projects/THINGS-MEG/raw_data/sub-BIGMEG1/ses-01/meg/sub-BIGMEG1_ses-01_task-main_run-01_meg.ds/sub-BIGMEG1_ses-01_task-main_run-01_meg.meg4: \n",
      "    System clock channel is available, checking which samples are valid.\n",
      "    1 x 417600 = 417600 samples from 310 chs\n",
      "Current compensation grade : 3\n",
      "Reading 0 ... 417599  =      0.000 ...   347.999 secs...\n"
     ]
    }
   ],
   "source": [
    "raw_dir = \"/well/woolrich/projects/THINGS-MEG/raw_data/sub-BIGMEG1\"\n",
    "path = op.join(raw_dir, 'ses-01', 'meg', 'sub-BIGMEG1_ses-01_task-main_run-01_meg.ds')\n",
    "raw = mne.io.read_raw_ctf(path, preload=True)"
   ]
  },
  {
   "cell_type": "code",
   "execution_count": 56,
   "id": "bf21fa70",
   "metadata": {},
   "outputs": [
    {
     "data": {
      "text/plain": [
       "348.0"
      ]
     },
     "execution_count": 56,
     "metadata": {},
     "output_type": "execute_result"
    }
   ],
   "source": [
    "len(raw)/1200"
   ]
  },
  {
   "cell_type": "code",
   "execution_count": 40,
   "id": "80beb698-ea49-48ca-b7a1-74fa12893157",
   "metadata": {},
   "outputs": [
    {
     "data": {
      "text/plain": [
       "['UADC016-2104']"
      ]
     },
     "execution_count": 40,
     "metadata": {},
     "output_type": "execute_result"
    }
   ],
   "source": [
    "raw.info\n",
    "raw.pick('misc').ch_names"
   ]
  },
  {
   "cell_type": "code",
   "execution_count": 4,
   "id": "08493ab1-fbfc-4d41-9d30-ee491329e251",
   "metadata": {},
   "outputs": [],
   "source": [
    "misc = raw.pick('misc').get_data()"
   ]
  },
  {
   "cell_type": "code",
   "execution_count": 45,
   "id": "94b29e44",
   "metadata": {},
   "outputs": [],
   "source": [
    "opt_channel = misc[8] > 0.1"
   ]
  },
  {
   "cell_type": "code",
   "execution_count": 46,
   "id": "e6ca343e",
   "metadata": {},
   "outputs": [
    {
     "data": {
      "text/plain": [
       "[<matplotlib.lines.Line2D at 0x7fe2fbcc73a0>]"
      ]
     },
     "execution_count": 46,
     "metadata": {},
     "output_type": "execute_result"
    },
    {
     "data": {
      "application/vnd.jupyter.widget-view+json": {
       "model_id": "fdc386b65d284c7f869304c26142f0df",
       "version_major": 2,
       "version_minor": 0
      },
      "image/png": "[encoded data removed]",
      "text/html": [
       "\n",
       "            <div style=\"display: inline-block;\">\n",
       "                <div class=\"jupyter-widgets widget-label\" style=\"text-align: center;\">\n",
       "                    Figure\n",
       "                </div>\n",
       "                <img src='data:image/png;base64,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' width=640.0/>\n",
       "            </div>\n",
       "        "
      ],
      "text/plain": [
       "Canvas(toolbar=Toolbar(toolitems=[('Home', 'Reset original view', 'home', 'home'), ('Back', 'Back to previous …"
      ]
     },
     "metadata": {},
     "output_type": "display_data"
    }
   ],
   "source": [
    "%matplotlib widget\n",
    "plt.plot(opt_channel[5400:15000])"
   ]
  },
  {
   "cell_type": "code",
   "execution_count": 15,
   "id": "857661d0",
   "metadata": {},
   "outputs": [
    {
     "name": "stdout",
     "output_type": "stream",
     "text": [
      "Trigger channel has a non-zero initial value of 128 (consider using initial_event=True to detect this event)\n",
      "Removing orphaned offset at the beginning of the file.\n",
      "227 events found\n",
      "Event IDs: [32 64]\n"
     ]
    }
   ],
   "source": [
    "trig_events = mne.find_events(raw, stim_channel= 'UPPT001' ,initial_event=False)"
   ]
  },
  {
   "cell_type": "code",
   "execution_count": 53,
   "id": "abee7beb",
   "metadata": {},
   "outputs": [
    {
     "data": {
      "text/plain": [
       "[array([5, 1]), array([5, 2]), array([5, 3])]"
      ]
     },
     "execution_count": 53,
     "metadata": {},
     "output_type": "execute_result"
    }
   ],
   "source": [
    "lis = [np.array([0, 1]), np.array([1, 2]), np.array([2, 3])]\n",
    "\n",
    "for a in lis:\n",
    "    a[0] = 5\n",
    "\n",
    "lis"
   ]
  },
  {
   "cell_type": "code",
   "execution_count": 50,
   "id": "b971d508",
   "metadata": {},
   "outputs": [
    {
     "data": {
      "text/html": [
       "<table class=\"table table-hover table-striped table-sm table-responsive small\">\n",
       "    <tr>\n",
       "        <th>Measurement date</th>\n",
       "        \n",
       "        <td>June 13, 2019  12:13:00 GMT</td>\n",
       "        \n",
       "    </tr>\n",
       "    <tr>\n",
       "        <th>Experimenter</th>\n",
       "        \n",
       "        <td>hebart</td>\n",
       "        \n",
       "    </tr>\n",
       "        <th>Participant</th>\n",
       "        \n",
       "            \n",
       "            <td></td>\n",
       "            \n",
       "        \n",
       "    </tr>\n",
       "    <tr>\n",
       "        <th>Digitized points</th>\n",
       "        \n",
       "        <td>3 points</td>\n",
       "        \n",
       "    </tr>\n",
       "    <tr>\n",
       "        <th>Good channels</th>\n",
       "        <td>10 misc, 28 Reference Magnetometers, 272 Magnetometers</td>\n",
       "    </tr>\n",
       "    <tr>\n",
       "        <th>Bad channels</th>\n",
       "        <td>None</td>\n",
       "    </tr>\n",
       "    <tr>\n",
       "        <th>EOG channels</th>\n",
       "        <td>Not available</td>\n",
       "    </tr>\n",
       "    <tr>\n",
       "        <th>ECG channels</th>\n",
       "        <td>Not available</td>\n",
       "    \n",
       "    <tr>\n",
       "        <th>Sampling frequency</th>\n",
       "        <td>1200.00 Hz</td>\n",
       "    </tr>\n",
       "    \n",
       "    \n",
       "    <tr>\n",
       "        <th>Highpass</th>\n",
       "        <td>0.00 Hz</td>\n",
       "    </tr>\n",
       "    \n",
       "    \n",
       "    <tr>\n",
       "        <th>Lowpass</th>\n",
       "        <td>600.00 Hz</td>\n",
       "    </tr>\n",
       "    \n",
       "    \n",
       "    \n",
       "    <tr>\n",
       "        <th>Filenames</th>\n",
       "        <td>sub-BIGMEG1_ses-01_task-main_run-01_meg.meg4</td>\n",
       "    </tr>\n",
       "    \n",
       "    <tr>\n",
       "        <th>Duration</th>\n",
       "        <td>00:05:47 (HH:MM:SS)</td>\n",
       "    </tr>\n",
       "</table>"
      ],
      "text/plain": [
       "<RawCTF | sub-BIGMEG1_ses-01_task-main_run-01_meg.meg4, 310 x 417600 (348.0 s), ~988.2 MB, data loaded>"
      ]
     },
     "execution_count": 50,
     "metadata": {},
     "output_type": "execute_result"
    }
   ],
   "source": [
    "# apply lambda x: x > 0.1 to 'UADC016-2104' channel with mne\n",
    "fun = lambda x: x > 1\n",
    "raw.apply_function(fun, verbose=True, picks=['UADC016-2104'])\n"
   ]
  },
  {
   "cell_type": "code",
   "execution_count": 51,
   "id": "70c448b0",
   "metadata": {},
   "outputs": [
    {
     "name": "stdout",
     "output_type": "stream",
     "text": [
      "227 events found\n",
      "Event IDs: [1]\n"
     ]
    }
   ],
   "source": [
    "opt_events = mne.find_events(raw, stim_channel= 'UADC016-2104' ,initial_event=False,\n",
    "                             min_duration=0.1)"
   ]
  },
  {
   "cell_type": "code",
   "execution_count": 52,
   "id": "29767e91",
   "metadata": {},
   "outputs": [
    {
     "data": {
      "text/plain": [
       "array([[  3424,      0,      1],\n",
       "       [  5405,      0,      1],\n",
       "       [  7266,      0,      1],\n",
       "       [  8886,      0,      1],\n",
       "       [ 10707,      0,      1],\n",
       "       [ 12488,      0,      1],\n",
       "       [ 14348,      0,      1],\n",
       "       [ 16209,      0,      1],\n",
       "       [ 17770,      0,      1],\n",
       "       [ 19571,      0,      1],\n",
       "       [ 21431,      0,      1],\n",
       "       [ 23172,      0,      1],\n",
       "       [ 24793,      0,      1],\n",
       "       [ 26633,      0,      1],\n",
       "       [ 28514,      0,      1],\n",
       "       [ 30135,      0,      1],\n",
       "       [ 31995,      0,      1],\n",
       "       [ 33676,      0,      1],\n",
       "       [ 35457,      0,      1],\n",
       "       [ 37338,      0,      1],\n",
       "       [ 39058,      0,      1],\n",
       "       [ 40939,      0,      1],\n",
       "       [ 42720,      0,      1],\n",
       "       [ 44600,      0,      1],\n",
       "       [ 46261,      0,      1],\n",
       "       [ 48142,      0,      1],\n",
       "       [ 49742,      0,      1],\n",
       "       [ 51483,      0,      1],\n",
       "       [ 53344,      0,      1],\n",
       "       [ 55205,      0,      1],\n",
       "       [ 56945,      0,      1],\n",
       "       [ 58746,      0,      1],\n",
       "       [ 60427,      0,      1],\n",
       "       [ 62047,      0,      1],\n",
       "       [ 63608,      0,      1],\n",
       "       [ 65409,      0,      1],\n",
       "       [ 67389,      0,      1],\n",
       "       [ 69250,      0,      1],\n",
       "       [ 71111,      0,      1],\n",
       "       [ 73032,      0,      1],\n",
       "       [ 74872,      0,      1],\n",
       "       [ 76613,      0,      1],\n",
       "       [ 78534,      0,      1],\n",
       "       [ 80575,      0,      1],\n",
       "       [ 82455,      0,      1],\n",
       "       [ 84196,      0,      1],\n",
       "       [ 86157,      0,      1],\n",
       "       [ 88017,      0,      1],\n",
       "       [ 89778,      0,      1],\n",
       "       [ 91339,      0,      1],\n",
       "       [ 93200,      0,      1],\n",
       "       [ 94860,      0,      1],\n",
       "       [ 96721,      0,      1],\n",
       "       [ 98342,      0,      1],\n",
       "       [ 99902,      0,      1],\n",
       "       [101723,      0,      1],\n",
       "       [103504,      0,      1],\n",
       "       [105424,      0,      1],\n",
       "       [107305,      0,      1],\n",
       "       [109206,      0,      1],\n",
       "       [111087,      0,      1],\n",
       "       [112627,      0,      1],\n",
       "       [114668,      0,      1],\n",
       "       [116589,      0,      1],\n",
       "       [118509,      0,      1],\n",
       "       [120430,      0,      1],\n",
       "       [122471,      0,      1],\n",
       "       [124392,      0,      1],\n",
       "       [126253,      0,      1],\n",
       "       [127933,      0,      1],\n",
       "       [129954,      0,      1],\n",
       "       [131935,      0,      1],\n",
       "       [133916,      0,      1],\n",
       "       [135796,      0,      1],\n",
       "       [137657,      0,      1],\n",
       "       [139458,      0,      1],\n",
       "       [141258,      0,      1],\n",
       "       [142939,      0,      1],\n",
       "       [144960,      0,      1],\n",
       "       [146841,      0,      1],\n",
       "       [148521,      0,      1],\n",
       "       [150242,      0,      1],\n",
       "       [152123,      0,      1],\n",
       "       [154083,      0,      1],\n",
       "       [155964,      0,      1],\n",
       "       [157525,      0,      1],\n",
       "       [159386,      0,      1],\n",
       "       [161126,      0,      1],\n",
       "       [162987,      0,      1],\n",
       "       [164668,      0,      1],\n",
       "       [166448,      0,      1],\n",
       "       [168329,      0,      1],\n",
       "       [169890,      0,      1],\n",
       "       [171430,      0,      1],\n",
       "       [173171,      0,      1],\n",
       "       [174732,      0,      1],\n",
       "       [176352,      0,      1],\n",
       "       [178093,      0,      1],\n",
       "       [180054,      0,      1],\n",
       "       [181934,      0,      1],\n",
       "       [183495,      0,      1],\n",
       "       [185296,      0,      1],\n",
       "       [186916,      0,      1],\n",
       "       [188877,      0,      1],\n",
       "       [190758,      0,      1],\n",
       "       [192499,      0,      1],\n",
       "       [194299,      0,      1],\n",
       "       [196080,      0,      1],\n",
       "       [197961,      0,      1],\n",
       "       [199821,      0,      1],\n",
       "       [201562,      0,      1],\n",
       "       [203303,      0,      1],\n",
       "       [205264,      0,      1],\n",
       "       [207144,      0,      1],\n",
       "       [208985,      0,      1],\n",
       "       [210726,      0,      1],\n",
       "       [212767,      0,      1],\n",
       "       [214647,      0,      1],\n",
       "       [216308,      0,      1],\n",
       "       [218189,      0,      1],\n",
       "       [219969,      0,      1],\n",
       "       [221850,      0,      1],\n",
       "       [223631,      0,      1],\n",
       "       [225452,      0,      1],\n",
       "       [227292,      0,      1],\n",
       "       [229213,      0,      1],\n",
       "       [231094,      0,      1],\n",
       "       [232894,      0,      1],\n",
       "       [234615,      0,      1],\n",
       "       [236476,      0,      1],\n",
       "       [238157,      0,      1],\n",
       "       [239977,      0,      1],\n",
       "       [241818,      0,      1],\n",
       "       [243699,      0,      1],\n",
       "       [245299,      0,      1],\n",
       "       [246960,      0,      1],\n",
       "       [248841,      0,      1],\n",
       "       [250401,      0,      1],\n",
       "       [252002,      0,      1],\n",
       "       [253883,      0,      1],\n",
       "       [255683,      0,      1],\n",
       "       [257544,      0,      1],\n",
       "       [259105,      0,      1],\n",
       "       [260825,      0,      1],\n",
       "       [262706,      0,      1],\n",
       "       [264507,      0,      1],\n",
       "       [266228,      0,      1],\n",
       "       [268108,      0,      1],\n",
       "       [269669,      0,      1],\n",
       "       [271390,      0,      1],\n",
       "       [273310,      0,      1],\n",
       "       [275191,      0,      1],\n",
       "       [276972,      0,      1],\n",
       "       [278853,      0,      1],\n",
       "       [280473,      0,      1],\n",
       "       [282214,      0,      1],\n",
       "       [283855,      0,      1],\n",
       "       [285755,      0,      1],\n",
       "       [287636,      0,      1],\n",
       "       [289677,      0,      1],\n",
       "       [291658,      0,      1],\n",
       "       [293538,      0,      1],\n",
       "       [295219,      0,      1],\n",
       "       [296840,      0,      1],\n",
       "       [298400,      0,      1],\n",
       "       [300201,      0,      1],\n",
       "       [302162,      0,      1],\n",
       "       [304042,      0,      1],\n",
       "       [305723,      0,      1],\n",
       "       [307344,      0,      1],\n",
       "       [309184,      0,      1],\n",
       "       [311065,      0,      1],\n",
       "       [312786,      0,      1],\n",
       "       [314767,      0,      1],\n",
       "       [316647,      0,      1],\n",
       "       [318248,      0,      1],\n",
       "       [320129,      0,      1],\n",
       "       [321969,      0,      1],\n",
       "       [323850,      0,      1],\n",
       "       [325751,      0,      1],\n",
       "       [327632,      0,      1],\n",
       "       [329292,      0,      1],\n",
       "       [331213,      0,      1],\n",
       "       [333094,      0,      1],\n",
       "       [334755,      0,      1],\n",
       "       [336455,      0,      1],\n",
       "       [338136,      0,      1],\n",
       "       [339817,      0,      1],\n",
       "       [341637,      0,      1],\n",
       "       [343538,      0,      1],\n",
       "       [345279,      0,      1],\n",
       "       [347099,      0,      1],\n",
       "       [349140,      0,      1],\n",
       "       [351041,      0,      1],\n",
       "       [352662,      0,      1],\n",
       "       [354542,      0,      1],\n",
       "       [356443,      0,      1],\n",
       "       [358144,      0,      1],\n",
       "       [360024,      0,      1],\n",
       "       [362045,      0,      1],\n",
       "       [364086,      0,      1],\n",
       "       [365967,      0,      1],\n",
       "       [367868,      0,      1],\n",
       "       [369748,      0,      1],\n",
       "       [371369,      0,      1],\n",
       "       [373110,      0,      1],\n",
       "       [374830,      0,      1],\n",
       "       [376711,      0,      1],\n",
       "       [378272,      0,      1],\n",
       "       [379892,      0,      1],\n",
       "       [381573,      0,      1],\n",
       "       [383254,      0,      1],\n",
       "       [385054,      0,      1],\n",
       "       [386815,      0,      1],\n",
       "       [388856,      0,      1],\n",
       "       [390757,      0,      1],\n",
       "       [392617,      0,      1],\n",
       "       [394358,      0,      1],\n",
       "       [395979,      0,      1],\n",
       "       [397719,      0,      1],\n",
       "       [399320,      0,      1],\n",
       "       [401121,      0,      1],\n",
       "       [402901,      0,      1],\n",
       "       [404782,      0,      1],\n",
       "       [406743,      0,      1],\n",
       "       [408724,      0,      1],\n",
       "       [414266,      0,      1]])"
      ]
     },
     "execution_count": 52,
     "metadata": {},
     "output_type": "execute_result"
    }
   ],
   "source": [
    "opt_events"
   ]
  },
  {
   "cell_type": "code",
   "execution_count": 18,
   "id": "bb36bced",
   "metadata": {},
   "outputs": [
    {
     "data": {
      "text/plain": [
       "array([[  3421,      0,     64],\n",
       "       [  5403,      0,     64],\n",
       "       [  7262,      0,     64],\n",
       "       [  8883,      0,     64],\n",
       "       [ 10704,      0,     64],\n",
       "       [ 12484,      0,     64],\n",
       "       [ 14345,      0,     64],\n",
       "       [ 16205,      0,     64],\n",
       "       [ 17766,      0,     64],\n",
       "       [ 19567,      0,     64],\n",
       "       [ 21428,      0,     64],\n",
       "       [ 23168,      0,     64],\n",
       "       [ 24789,      0,     64],\n",
       "       [ 26629,      0,     64],\n",
       "       [ 28510,      0,     64],\n",
       "       [ 30131,      0,     64],\n",
       "       [ 31992,      0,     64],\n",
       "       [ 33672,      0,     64],\n",
       "       [ 35453,      0,     64],\n",
       "       [ 37334,      0,     64],\n",
       "       [ 39054,      0,     64],\n",
       "       [ 40935,      0,     64],\n",
       "       [ 42716,      0,     64],\n",
       "       [ 44597,      0,     64],\n",
       "       [ 46257,      0,     64],\n",
       "       [ 48138,      0,     64],\n",
       "       [ 49738,      0,     64],\n",
       "       [ 51479,      0,     64],\n",
       "       [ 53340,      0,     64],\n",
       "       [ 55201,      0,     64],\n",
       "       [ 56941,      0,     64],\n",
       "       [ 58742,      0,     64],\n",
       "       [ 60423,      0,     64],\n",
       "       [ 62043,      0,     64],\n",
       "       [ 63604,      0,     64],\n",
       "       [ 65405,      0,     64],\n",
       "       [ 67386,      0,     64],\n",
       "       [ 69246,      0,     64],\n",
       "       [ 71107,      0,     64],\n",
       "       [ 73028,      0,     64],\n",
       "       [ 74869,      0,     64],\n",
       "       [ 76609,      0,     64],\n",
       "       [ 78530,      0,     64],\n",
       "       [ 80571,      0,     64],\n",
       "       [ 82452,      0,     64],\n",
       "       [ 84192,      0,     64],\n",
       "       [ 86153,      0,     64],\n",
       "       [ 88014,      0,     64],\n",
       "       [ 89774,      0,     64],\n",
       "       [ 91335,      0,     64],\n",
       "       [ 93196,      0,     64],\n",
       "       [ 94856,      0,     64],\n",
       "       [ 96717,      0,     64],\n",
       "       [ 98338,      0,     64],\n",
       "       [ 99898,      0,     64],\n",
       "       [101719,      0,     64],\n",
       "       [103500,      0,     64],\n",
       "       [105421,      0,     64],\n",
       "       [107301,      0,     64],\n",
       "       [109202,      0,     64],\n",
       "       [111083,      0,     64],\n",
       "       [112623,      0,     64],\n",
       "       [114664,      0,     64],\n",
       "       [116585,      0,     64],\n",
       "       [118506,      0,     64],\n",
       "       [120426,      0,     64],\n",
       "       [122467,      0,     64],\n",
       "       [124388,      0,     64],\n",
       "       [126249,      0,     64],\n",
       "       [127929,      0,     64],\n",
       "       [129950,      0,     64],\n",
       "       [131931,      0,     64],\n",
       "       [133912,      0,     64],\n",
       "       [135792,      0,     64],\n",
       "       [137653,      0,     64],\n",
       "       [139454,      0,     64],\n",
       "       [141255,      0,     64],\n",
       "       [142935,      0,     64],\n",
       "       [144956,      0,     64],\n",
       "       [146837,      0,     64],\n",
       "       [148517,      0,     64],\n",
       "       [150238,      0,     64],\n",
       "       [152119,      0,     64],\n",
       "       [154080,      0,     64],\n",
       "       [155960,      0,     64],\n",
       "       [157521,      0,     64],\n",
       "       [159382,      0,     64],\n",
       "       [161122,      0,     64],\n",
       "       [162983,      0,     64],\n",
       "       [164664,      0,     64],\n",
       "       [166445,      0,     64],\n",
       "       [168325,      0,     64],\n",
       "       [169886,      0,     64],\n",
       "       [171426,      0,     64],\n",
       "       [173167,      0,     64],\n",
       "       [174728,      0,     64],\n",
       "       [176348,      0,     64],\n",
       "       [178089,      0,     64],\n",
       "       [180050,      0,     64],\n",
       "       [181931,      0,     64],\n",
       "       [183491,      0,     64],\n",
       "       [185292,      0,     64],\n",
       "       [186912,      0,     64],\n",
       "       [188873,      0,     64],\n",
       "       [190754,      0,     64],\n",
       "       [192495,      0,     64],\n",
       "       [194296,      0,     64],\n",
       "       [196076,      0,     64],\n",
       "       [197957,      0,     64],\n",
       "       [199818,      0,     64],\n",
       "       [201558,      0,     64],\n",
       "       [203299,      0,     64],\n",
       "       [205260,      0,     64],\n",
       "       [207141,      0,     64],\n",
       "       [208981,      0,     64],\n",
       "       [210722,      0,     64],\n",
       "       [212763,      0,     64],\n",
       "       [214644,      0,     64],\n",
       "       [216304,      0,     64],\n",
       "       [218185,      0,     64],\n",
       "       [219966,      0,     64],\n",
       "       [221846,      0,     64],\n",
       "       [223627,      0,     64],\n",
       "       [225448,      0,     64],\n",
       "       [227288,      0,     64],\n",
       "       [229209,      0,     64],\n",
       "       [231090,      0,     64],\n",
       "       [232891,      0,     64],\n",
       "       [234611,      0,     64],\n",
       "       [236472,      0,     64],\n",
       "       [238153,      0,     64],\n",
       "       [239973,      0,     64],\n",
       "       [241814,      0,     64],\n",
       "       [243695,      0,     64],\n",
       "       [245295,      0,     64],\n",
       "       [246956,      0,     64],\n",
       "       [248837,      0,     64],\n",
       "       [250397,      0,     64],\n",
       "       [251998,      0,     64],\n",
       "       [253879,      0,     64],\n",
       "       [255680,      0,     64],\n",
       "       [257540,      0,     64],\n",
       "       [259101,      0,     64],\n",
       "       [260822,      0,     64],\n",
       "       [262702,      0,     64],\n",
       "       [264503,      0,     64],\n",
       "       [266224,      0,     64],\n",
       "       [268104,      0,     64],\n",
       "       [269665,      0,     64],\n",
       "       [271386,      0,     64],\n",
       "       [273307,      0,     64],\n",
       "       [275187,      0,     64],\n",
       "       [276968,      0,     64],\n",
       "       [278849,      0,     64],\n",
       "       [280469,      0,     64],\n",
       "       [282210,      0,     64],\n",
       "       [283851,      0,     64],\n",
       "       [285752,      0,     64],\n",
       "       [287632,      0,     64],\n",
       "       [289673,      0,     64],\n",
       "       [291654,      0,     64],\n",
       "       [293534,      0,     64],\n",
       "       [295215,      0,     64],\n",
       "       [296836,      0,     64],\n",
       "       [298396,      0,     64],\n",
       "       [300197,      0,     64],\n",
       "       [302158,      0,     64],\n",
       "       [304038,      0,     64],\n",
       "       [305719,      0,     64],\n",
       "       [307340,      0,     64],\n",
       "       [309181,      0,     64],\n",
       "       [311061,      0,     64],\n",
       "       [312782,      0,     64],\n",
       "       [314763,      0,     64],\n",
       "       [316644,      0,     64],\n",
       "       [318244,      0,     64],\n",
       "       [320125,      0,     64],\n",
       "       [321966,      0,     64],\n",
       "       [323846,      0,     64],\n",
       "       [325747,      0,     64],\n",
       "       [327628,      0,     64],\n",
       "       [329289,      0,     64],\n",
       "       [331209,      0,     64],\n",
       "       [333090,      0,     64],\n",
       "       [334751,      0,     64],\n",
       "       [336451,      0,     64],\n",
       "       [338132,      0,     64],\n",
       "       [339813,      0,     64],\n",
       "       [341633,      0,     64],\n",
       "       [343534,      0,     64],\n",
       "       [345275,      0,     64],\n",
       "       [347096,      0,     64],\n",
       "       [349136,      0,     64],\n",
       "       [351037,      0,     64],\n",
       "       [352658,      0,     64],\n",
       "       [354538,      0,     64],\n",
       "       [356439,      0,     64],\n",
       "       [358140,      0,     64],\n",
       "       [360021,      0,     64],\n",
       "       [362041,      0,     64],\n",
       "       [364082,      0,     64],\n",
       "       [365963,      0,     64],\n",
       "       [367864,      0,     64],\n",
       "       [369744,      0,     64],\n",
       "       [371365,      0,     64],\n",
       "       [373106,      0,     64],\n",
       "       [374826,      0,     64],\n",
       "       [376707,      0,     64],\n",
       "       [378268,      0,     64],\n",
       "       [379888,      0,     64],\n",
       "       [381569,      0,     64],\n",
       "       [383250,      0,     64],\n",
       "       [385050,      0,     64],\n",
       "       [386811,      0,     64],\n",
       "       [388852,      0,     64],\n",
       "       [390753,      0,     64],\n",
       "       [392613,      0,     64],\n",
       "       [394354,      0,     64],\n",
       "       [395975,      0,     64],\n",
       "       [397715,      0,     64],\n",
       "       [399316,      0,     64],\n",
       "       [401117,      0,     64],\n",
       "       [402898,      0,     64],\n",
       "       [404778,      0,     64],\n",
       "       [406739,      0,     64],\n",
       "       [408720,      0,     64],\n",
       "       [413012,      0,     32]])"
      ]
     },
     "execution_count": 18,
     "metadata": {},
     "output_type": "execute_result"
    }
   ],
   "source": [
    "trig_events"
   ]
  },
  {
   "cell_type": "code",
   "execution_count": 44,
   "id": "d0b3e491",
   "metadata": {},
   "outputs": [],
   "source": [
    "misc = misc[:, ::6]"
   ]
  },
  {
   "cell_type": "code",
   "execution_count": 91,
   "id": "ec3bf7e3",
   "metadata": {},
   "outputs": [
    {
     "data": {
      "application/vnd.jupyter.widget-view+json": {
       "model_id": "49d9e16e07604abda3e7aa18f36de8d4",
       "version_major": 2,
       "version_minor": 0
      },
      "image/png": "[encoded data removed]",
      "text/html": [
       "\n",
       "            <div style=\"display: inline-block;\">\n",
       "                <div class=\"jupyter-widgets widget-label\" style=\"text-align: center;\">\n",
       "                    Figure\n",
       "                </div>\n",
       "                <img src='data:image/png;base64,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' width=640.0/>\n",
       "            </div>\n",
       "        "
      ],
      "text/plain": [
       "Canvas(toolbar=Toolbar(toolitems=[('Home', 'Reset original view', 'home', 'home'), ('Back', 'Back to previous …"
      ]
     },
     "metadata": {},
     "output_type": "display_data"
    }
   ],
   "source": [
    "%matplotlib widget\n",
    "plt.plot(misc[8][:10000])\n",
    "plt.xticks(np.arange(0, 10000, 500))\n",
    "x = 0\n",
    "#plt.plot(misc[8][3590:4500])"
   ]
  },
  {
   "cell_type": "code",
   "execution_count": 57,
   "id": "25949bc4-5188-4ed4-81dc-eb7305a27d14",
   "metadata": {},
   "outputs": [],
   "source": [
    "path = op.join(raw_dir, 'ses-01', 'meg', 'sub-BIGMEG1_ses-01_task-main_run-01_events.tsv')\n",
    "events = pd.read_csv(path, sep='\\t')"
   ]
  },
  {
   "cell_type": "code",
   "execution_count": 71,
   "id": "1ab3b6fe-8768-4d27-a769-f3ad2dd5a9a3",
   "metadata": {},
   "outputs": [],
   "source": [
    "events_mne = []\n",
    "for i in range(len(events)):\n",
    "    if events['trial_type'][i] == 'exp':\n",
    "        onset = int(events['onset'][i] * 1200)\n",
    "        idd = events['category_nr'][i]\n",
    "        events_mne.append(np.array([onset, 0, idd]))\n",
    "                          \n",
    "events_mne = np.array(events_mne)"
   ]
  },
  {
   "cell_type": "code",
   "execution_count": 82,
   "id": "d2825f72-a7b6-4d46-8b6c-279961efb177",
   "metadata": {},
   "outputs": [
    {
     "data": {
      "text/plain": [
       "0        3600.0\n",
       "1        5580.0\n",
       "2        7200.0\n",
       "3        9000.0\n",
       "4       10800.0\n",
       "         ...   \n",
       "221    401100.0\n",
       "222    403080.0\n",
       "223    404940.0\n",
       "224    406920.0\n",
       "225    408900.0\n",
       "Name: onset, Length: 226, dtype: float64"
      ]
     },
     "execution_count": 82,
     "metadata": {},
     "output_type": "execute_result"
    }
   ],
   "source": [
    "events['onset'] * 1200"
   ]
  },
  {
   "cell_type": "code",
   "execution_count": 70,
   "id": "5ac8ba51-db04-4e9b-a30d-fe4ee5c62108",
   "metadata": {},
   "outputs": [
    {
     "data": {
      "text/plain": [
       "(185, 3)"
      ]
     },
     "execution_count": 70,
     "metadata": {},
     "output_type": "execute_result"
    }
   ],
   "source": [
    "events_mne.shape"
   ]
  },
  {
   "cell_type": "code",
   "execution_count": 72,
   "id": "4e2c8f4b-a699-4b11-98cf-53aff6ea2b59",
   "metadata": {},
   "outputs": [
    {
     "name": "stdout",
     "output_type": "stream",
     "text": [
      "Not setting metadata\n",
      "185 matching events found\n",
      "Setting baseline interval to [-0.2, 0.0] sec\n",
      "Applying baseline correction (mode: mean)\n",
      "0 projection items activated\n"
     ]
    }
   ],
   "source": [
    "epochs = mne.Epochs(raw, events_mne)"
   ]
  },
  {
   "cell_type": "code",
   "execution_count": 73,
   "id": "a1fd421b-6c87-48ee-a3ed-3fec6cba8547",
   "metadata": {},
   "outputs": [
    {
     "data": {
      "text/html": [
       "<table class=\"table table-hover table-striped table-sm table-responsive small\">\n",
       "    <tr>\n",
       "        <th>Number of events</th>\n",
       "        <td>185</td>\n",
       "    </tr>\n",
       "    <tr>\n",
       "        <th>Events</th>\n",
       "        \n",
       "        <td>1005: 1<br/>1011: 1<br/>1025: 1<br/>1036: 1<br/>1046: 1<br/>1060: 1<br/>1098: 1<br/>1101: 1<br/>1105: 1<br/>1114: 1<br/>1117: 1<br/>1120: 1<br/>1136: 1<br/>1140: 1<br/>1158: 1<br/>116: 1<br/>1170: 1<br/>1177: 1<br/>1195: 1<br/>1197: 1<br/>1210: 1<br/>1221: 1<br/>1226: 1<br/>1251: 1<br/>1281: 1<br/>1290: 1<br/>1291: 1<br/>1297: 1<br/>1300: 1<br/>1328: 1<br/>134: 1<br/>1345: 1<br/>1351: 1<br/>1352: 1<br/>1360: 1<br/>137: 1<br/>1370: 1<br/>1378: 1<br/>1404: 1<br/>1405: 1<br/>1406: 1<br/>1417: 1<br/>1430: 1<br/>1436: 1<br/>1439: 1<br/>1454: 1<br/>1459: 1<br/>146: 1<br/>1468: 1<br/>148: 1<br/>1483: 1<br/>1485: 1<br/>1493: 1<br/>150: 1<br/>1543: 1<br/>1561: 1<br/>1562: 1<br/>1566: 1<br/>1570: 1<br/>1591: 1<br/>1601: 1<br/>1611: 1<br/>1613: 1<br/>1624: 1<br/>1636: 1<br/>1647: 1<br/>1660: 1<br/>1662: 1<br/>1665: 1<br/>1666: 1<br/>1694: 1<br/>1696: 1<br/>1715: 1<br/>1723: 1<br/>1734: 1<br/>1736: 1<br/>1745: 1<br/>1748: 1<br/>1762: 1<br/>1777: 1<br/>1780: 1<br/>1787: 1<br/>1789: 1<br/>1802: 1<br/>1821: 1<br/>1835: 1<br/>1840: 1<br/>1853: 1<br/>216: 1<br/>217: 1<br/>22: 1<br/>220: 1<br/>225: 1<br/>269: 1<br/>274: 1<br/>277: 1<br/>307: 1<br/>325: 1<br/>356: 1<br/>358: 1<br/>362: 1<br/>365: 1<br/>368: 1<br/>373: 1<br/>379: 1<br/>38: 1<br/>386: 1<br/>387: 1<br/>391: 1<br/>393: 1<br/>406: 1<br/>412: 1<br/>415: 1<br/>416: 1<br/>424: 1<br/>429: 1<br/>43: 1<br/>431: 1<br/>433: 1<br/>440: 1<br/>443: 1<br/>446: 1<br/>453: 1<br/>456: 1<br/>460: 1<br/>465: 1<br/>473: 1<br/>480: 1<br/>484: 1<br/>487: 1<br/>497: 1<br/>501: 1<br/>515: 1<br/>540: 1<br/>566: 1<br/>576: 1<br/>58: 1<br/>593: 1<br/>600: 1<br/>606: 1<br/>608: 1<br/>621: 1<br/>631: 1<br/>648: 1<br/>663: 1<br/>67: 1<br/>679: 1<br/>689: 1<br/>692: 1<br/>693: 1<br/>698: 1<br/>726: 1<br/>732: 1<br/>736: 1<br/>737: 1<br/>74: 1<br/>744: 1<br/>75: 1<br/>755: 1<br/>756: 1<br/>757: 1<br/>779: 1<br/>786: 1<br/>828: 1<br/>830: 1<br/>836: 1<br/>846: 1<br/>849: 1<br/>850: 1<br/>855: 1<br/>875: 1<br/>877: 1<br/>892: 1<br/>894: 1<br/>895: 1<br/>896: 1<br/>902: 1<br/>907: 1<br/>909: 1<br/>911: 1<br/>934: 1<br/>956: 1<br/>960: 1<br/>966: 1<br/>994: 1</td>\n",
       "        \n",
       "    </tr>\n",
       "    <tr>\n",
       "        <th>Time range</th>\n",
       "        <td>-0.200 – 0.500 sec</td>\n",
       "    </tr>\n",
       "    <tr>\n",
       "        <th>Baseline</th>\n",
       "        <td>-0.200 – 0.000 sec</td>\n",
       "    </tr>\n",
       "</table>"
      ],
      "text/plain": [
       "<Epochs |  185 events (good & bad), -0.2 - 0.5 sec, baseline -0.2 – 0 sec, ~534 kB, data not loaded,\n",
       " '22': 1\n",
       " '38': 1\n",
       " '43': 1\n",
       " '58': 1\n",
       " '67': 1\n",
       " '74': 1\n",
       " '75': 1\n",
       " '116': 1\n",
       " '134': 1\n",
       " '137': 1\n",
       " and 175 more events ...>"
      ]
     },
     "execution_count": 73,
     "metadata": {},
     "output_type": "execute_result"
    }
   ],
   "source": [
    "epochs"
   ]
  }
 ],
 "metadata": {
  "kernelspec": {
   "display_name": "Python 3.8.5 64-bit ('main')",
   "language": "python",
   "name": "python3"
  },
  "language_info": {
   "codemirror_mode": {
    "name": "ipython",
    "version": 3
   },
   "file_extension": ".py",
   "mimetype": "text/x-python",
   "name": "python",
   "nbconvert_exporter": "python",
   "pygments_lexer": "ipython3",
   "version": "3.8.5"
  },
  "vscode": {
   "interpreter": {
    "hash": "84a3ebe666650a68380744730c1b34178a4e2d05dc952cdf65b44a0ef828689f"
   }
  }
 },
 "nbformat": 4,
 "nbformat_minor": 5
}
