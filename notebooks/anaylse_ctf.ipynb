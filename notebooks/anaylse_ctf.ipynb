{
 "cells": [
  {
   "cell_type": "code",
   "execution_count": null,
   "metadata": {},
   "outputs": [],
   "source": [
    "import os\n",
    "import numpy as np\n",
    "import mne\n",
    "import osl\n",
    "import yaml\n",
    "from scipy.io import savemat\n",
    "import matplotlib.pyplot as plt"
   ]
  },
  {
   "cell_type": "code",
   "execution_count": null,
   "metadata": {},
   "outputs": [],
   "source": [
    "dataset_path = \"/gpfs2/well/woolrich/projects/disp_csaky/CTF/rich/16253003_reading_single_trial.ds\"\n",
    "raw = mne.io.read_raw_ctf(dataset_path, preload=True)"
   ]
  },
  {
   "cell_type": "code",
   "execution_count": null,
   "metadata": {},
   "outputs": [],
   "source": [
    "ev = mne.events_from_annotations(raw)"
   ]
  },
  {
   "cell_type": "code",
   "execution_count": null,
   "metadata": {},
   "outputs": [],
   "source": [
    "ev[0][:100]"
   ]
  },
  {
   "cell_type": "code",
   "execution_count": null,
   "metadata": {},
   "outputs": [],
   "source": [
    "raw = raw.crop(tmin=100, tmax=120)"
   ]
  },
  {
   "cell_type": "code",
   "execution_count": null,
   "metadata": {},
   "outputs": [],
   "source": [
    "%matplotlib widget\n",
    "raw.plot(duration=20, n_channels=50)\n",
    "e=0"
   ]
  },
  {
   "cell_type": "code",
   "execution_count": null,
   "metadata": {},
   "outputs": [],
   "source": [
    "# print channel types\n",
    "print(raw.get_channel_types())"
   ]
  },
  {
   "cell_type": "code",
   "execution_count": null,
   "metadata": {},
   "outputs": [],
   "source": [
    "raw.ch_names"
   ]
  },
  {
   "cell_type": "code",
   "execution_count": null,
   "metadata": {},
   "outputs": [],
   "source": [
    "config_text = \"\"\"\n",
    "meta:\n",
    "    event_codes:\n",
    "        words/hungry: 2\n",
    "        words/tired: 3\n",
    "        words/thirsty: 4\n",
    "        words/toilet: 5\n",
    "        words/pain: 6\n",
    "preproc:\n",
    "  - filter:         {l_freq: 1, h_freq: 25, method: 'iir', iir_params: {order: 5, ftype: butter}}\n",
    "  - bad_channels:   {picks: 'grad'}\n",
    "  - bad_segments:   {segment_len: 800, picks: 'grad'}\n",
    "  - ica_raw:        {picks: 'meg', n_components: 64}\n",
    "  - ica_autoreject: {picks: 'meg', ecgmethod: 'correlation', measure: 'correlation', threshold: 0.5}\n",
    "  - find_events:    {min_duration: 0.002}\n",
    "\"\"\""
   ]
  },
  {
   "cell_type": "code",
   "execution_count": null,
   "metadata": {},
   "outputs": [],
   "source": [
    "raw.ch_names"
   ]
  },
  {
   "cell_type": "code",
   "execution_count": null,
   "metadata": {},
   "outputs": [],
   "source": [
    "raw.set_channel_types({'UADC007-4123': 'eog',\n",
    "                       'UADC008-4123': 'eog',\n",
    "                       'UADC009-4123': 'ecg',})"
   ]
  },
  {
   "cell_type": "code",
   "execution_count": null,
   "metadata": {},
   "outputs": [],
   "source": [
    "osl_outdir = \"/gpfs2/well/woolrich/projects/disp_csaky/CTF/rich/preproc25hz/oslpy\"\n",
    "config = yaml.load(config_text, Loader=yaml.FullLoader)\n",
    "dataset = osl.preprocessing.run_proc_chain(config, raw, outdir=osl_outdir, overwrite=True, gen_report=True)"
   ]
  },
  {
   "cell_type": "code",
   "execution_count": null,
   "metadata": {},
   "outputs": [],
   "source": [
    "raw = raw.pick(['mag'])"
   ]
  },
  {
   "cell_type": "code",
   "execution_count": null,
   "metadata": {},
   "outputs": [],
   "source": [
    "raw._raw_times"
   ]
  },
  {
   "cell_type": "code",
   "execution_count": null,
   "metadata": {},
   "outputs": [],
   "source": [
    "raw.info['time']"
   ]
  },
  {
   "cell_type": "code",
   "execution_count": 16,
   "metadata": {},
   "outputs": [],
   "source": [
    "raw = raw.resample(100)"
   ]
  },
  {
   "cell_type": "code",
   "execution_count": 17,
   "metadata": {},
   "outputs": [
    {
     "name": "stdout",
     "output_type": "stream",
     "text": [
      "Used Annotations descriptions: ['0', '1', '2', '3', '4', '5', '6', 'Btn1', 'Btn2', 'Btn3', 'Btn4', 'Tr0_1', 'Tr0_2', 'Tr0_3', 'Tr0_4', 'Tr0_5', 'Tr0_6', 'Tr0_7', 'Tr1_1', 'Tr1_2', 'Tr1_3', 'Tr1_4']\n",
      "[[ 3609     0     5]\n",
      " [ 3703     0     1]\n",
      " [ 3806     0     3]\n",
      " [ 3893     0     1]\n",
      " [ 3983     0     6]\n",
      " [ 4065     0     1]\n",
      " [ 4163     0     2]\n",
      " [ 4261     0     1]\n",
      " [ 4356     0     4]\n",
      " [ 4446     0     1]\n",
      " [ 4551     0     2]\n",
      " [ 4635     0     1]\n",
      " [ 4724     0     5]\n",
      " [ 4816     0     1]\n",
      " [ 4913     0     4]\n",
      " [ 5006     0     1]\n",
      " [ 5113     0     6]\n",
      " [ 5193     0     1]\n",
      " [ 5285     0     3]\n",
      " [ 5372     0     1]\n",
      " [ 5815     0     4]\n",
      " [ 5895     0     1]\n",
      " [ 5993     0     3]\n",
      " [ 6075     0     1]\n",
      " [ 6180     0     2]\n",
      " [ 6278     0     1]\n",
      " [ 6368     0     5]\n",
      " [ 6453     0     1]\n",
      " [ 6550     0     6]\n",
      " [ 6648     0     1]\n",
      " [ 6746     0     2]\n",
      " [ 6845     0     1]\n",
      " [ 6948     0     3]\n",
      " [ 7028     0     1]\n",
      " [ 7133     0     4]\n",
      " [ 7217     0     1]\n",
      " [ 7310     0     6]\n",
      " [ 7390     0     1]\n",
      " [ 7483     0     5]\n",
      " [ 7582     0     1]\n",
      " [ 7987     0     3]\n",
      " [ 8084     0     1]\n",
      " [ 8178     0     5]\n",
      " [ 8259     0     1]\n",
      " [ 8360     0     4]\n",
      " [ 8444     0     1]\n",
      " [ 8533     0     2]\n",
      " [ 8630     0     1]\n",
      " [ 8724     0     6]\n",
      " [ 8824     0     1]\n",
      " [ 8922     0     5]\n",
      " [ 9017     0     1]\n",
      " [ 9105     0     3]\n",
      " [ 9197     0     1]\n",
      " [ 9304     0     2]\n",
      " [ 9394     0     1]\n",
      " [ 9499     0     6]\n",
      " [ 9589     0     1]\n",
      " [ 9694     0     4]\n",
      " [ 9777     0     1]\n",
      " [10125     0     4]\n",
      " [10207     0     1]\n",
      " [10300     0     6]\n",
      " [10397     0     1]\n",
      " [10489     0     5]\n",
      " [10581     0     1]\n",
      " [10670     0     2]\n",
      " [10759     0     1]\n",
      " [10852     0     3]\n",
      " [10944     0     1]\n",
      " [11040     0     4]\n",
      " [11124     0     1]\n",
      " [11224     0     3]\n",
      " [11314     0     1]\n",
      " [11407     0     2]\n",
      " [11491     0     1]\n",
      " [11597     0     6]\n",
      " [11684     0     1]\n",
      " [11784     0     5]\n",
      " [11874     0     1]\n",
      " [12266     0     5]\n",
      " [12366     0     1]\n",
      " [12466     0     4]\n",
      " [12546     0     1]\n",
      " [12639     0     6]\n",
      " [12723     0     1]\n",
      " [12818     0     3]\n",
      " [12909     0     1]\n",
      " [13014     0     2]\n",
      " [13101     0     1]\n",
      " [13206     0     6]\n",
      " [13296     0     1]\n",
      " [13391     0     3]\n",
      " [13476     0     1]\n",
      " [13571     0     2]\n",
      " [13664     0     1]\n",
      " [13769     0     4]\n",
      " [13856     0     1]\n",
      " [13952     0     5]\n",
      " [14048     0     1]]\n"
     ]
    }
   ],
   "source": [
    "events = mne.events_from_annotations(raw)[0]\n",
    "\n",
    "# only keep events with id below 7\n",
    "events = events[events[:, -1] < 7]\n",
    "print(events[:100])"
   ]
  },
  {
   "cell_type": "code",
   "execution_count": 24,
   "metadata": {},
   "outputs": [
    {
     "data": {
      "text/plain": [
       "array([[76898,     0,     1],\n",
       "       [77000,     0,     6],\n",
       "       [77000,     0,     6],\n",
       "       [77085,     0,     1],\n",
       "       [77176,     0,     4],\n",
       "       [77275,     0,     1],\n",
       "       [77378,     0,     3],\n",
       "       [77478,     0,     1],\n",
       "       [77568,     0,     4],\n",
       "       [77660,     0,     1]])"
      ]
     },
     "execution_count": 24,
     "metadata": {},
     "output_type": "execute_result"
    }
   ],
   "source": [
    "events[623:633]"
   ]
  },
  {
   "cell_type": "code",
   "execution_count": 18,
   "metadata": {},
   "outputs": [],
   "source": [
    "times = [e[0] for e in events]"
   ]
  },
  {
   "cell_type": "code",
   "execution_count": 21,
   "metadata": {},
   "outputs": [],
   "source": [
    "shifted = np.array(times[:-1]) - np.array(times[1:])"
   ]
  },
  {
   "cell_type": "code",
   "execution_count": 23,
   "metadata": {},
   "outputs": [
    {
     "data": {
      "text/plain": [
       "(array([624, 853]),)"
      ]
     },
     "execution_count": 23,
     "metadata": {},
     "output_type": "execute_result"
    }
   ],
   "source": [
    "np.where(shifted == 0)"
   ]
  }
 ],
 "metadata": {
  "kernelspec": {
   "display_name": "Python 3.8.5 64-bit ('main')",
   "language": "python",
   "name": "python3"
  },
  "language_info": {
   "codemirror_mode": {
    "name": "ipython",
    "version": 3
   },
   "file_extension": ".py",
   "mimetype": "text/x-python",
   "name": "python",
   "nbconvert_exporter": "python",
   "pygments_lexer": "ipython3",
   "version": "3.8.5"
  },
  "orig_nbformat": 4,
  "vscode": {
   "interpreter": {
    "hash": "84a3ebe666650a68380744730c1b34178a4e2d05dc952cdf65b44a0ef828689f"
   }
  }
 },
 "nbformat": 4,
 "nbformat_minor": 2
}
