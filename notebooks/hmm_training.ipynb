{
 "cells": [
  {
   "cell_type": "code",
   "execution_count": 28,
   "metadata": {},
   "outputs": [
    {
     "name": "stdout",
     "output_type": "stream",
     "text": [
      "\n",
      "\n",
      "\n"
     ]
    }
   ],
   "source": [
    "import os\n",
    "import torch\n",
    "import torchvision\n",
    "import numpy as np\n",
    "import pickle\n",
    "import mne\n",
    "import scipy\n",
    "from scipy.signal import welch\n",
    "import matplotlib.pyplot as plt\n",
    "from scipy.io import loadmat\n",
    "from sklearn.decomposition import PCA\n",
    "\n",
    "from osl_dynamics.data import Data\n",
    "from osl_dynamics.inference import tf_ops\n",
    "from osl_dynamics.models.hmm import Config, Model"
   ]
  },
  {
   "cell_type": "code",
   "execution_count": 26,
   "metadata": {},
   "outputs": [
    {
     "data": {
      "application/vnd.jupyter.widget-view+json": {
       "model_id": "b596ed31cbac4c9f95e569c21c771549",
       "version_major": 2,
       "version_minor": 0
      },
      "text/plain": [
       "HBox(children=(HTML(value='Loading files'), FloatProgress(value=0.0, max=1.0), HTML(value='')))"
      ]
     },
     "metadata": {},
     "output_type": "display_data"
    },
    {
     "name": "stderr",
     "output_type": "stream",
     "text": [
      "Calculating PCA components:   0%|          | 0/1 [00:00<?, ?it/s]"
     ]
    },
    {
     "name": "stdout",
     "output_type": "stream",
     "text": [
      "\n"
     ]
    },
    {
     "name": "stderr",
     "output_type": "stream",
     "text": [
      "Calculating PCA components: 100%|██████████| 1/1 [00:07<00:00,  7.20s/it]\n",
      "2023-02-28 15:07:06 INFO osl-dynamics: Explained variance: 66.3%\n"
     ]
    },
    {
     "data": {
      "application/vnd.jupyter.widget-view+json": {
       "model_id": "f9adaa2931cb431f9fd81bfcb617fb07",
       "version_major": 2,
       "version_minor": 0
      },
      "text/plain": [
       "HBox(children=(HTML(value='Preparing data'), FloatProgress(value=0.0, max=1.0), HTML(value='')))"
      ]
     },
     "metadata": {},
     "output_type": "display_data"
    },
    {
     "name": "stderr",
     "output_type": "stream",
     "text": [
      "Saving data: 100%|██████████| 1/1 [00:00<00:00,  5.12it/s]"
     ]
    },
    {
     "name": "stdout",
     "output_type": "stream",
     "text": [
      "\n"
     ]
    },
    {
     "name": "stderr",
     "output_type": "stream",
     "text": [
      "\n"
     ]
    }
   ],
   "source": [
    "# load data\n",
    "data_dir = os.path.join('/', 'well', 'woolrich', 'projects', 'cichy118_cont', 'preproc_data_osl', 'subj1', 'hmm', '100hz')\n",
    "paths = [os.path.join('/', 'well', 'woolrich', 'projects', 'cichy118_cont', 'preproc_data_osl', 'subj1', 'osl_dynamics100hz.npy')]\n",
    "\n",
    "data = Data(paths, time_axis_first=False)\n",
    "data.prepare(n_embeddings=15, n_pca_components=80)\n",
    "data.save(data_dir)"
   ]
  },
  {
   "cell_type": "code",
   "execution_count": 36,
   "metadata": {},
   "outputs": [
    {
     "data": {
      "application/vnd.jupyter.widget-view+json": {
       "model_id": "8939f7d2f1fb42a4a28a7192702f4cdc",
       "version_major": 2,
       "version_minor": 0
      },
      "text/plain": [
       "HBox(children=(HTML(value='Loading files'), FloatProgress(value=0.0, max=1.0), HTML(value='')))"
      ]
     },
     "metadata": {},
     "output_type": "display_data"
    },
    {
     "name": "stdout",
     "output_type": "stream",
     "text": [
      "\n",
      "Model: \"HMM-Obs\"\n",
      "__________________________________________________________________________________________________\n",
      "Layer (type)                    Output Shape         Param #     Connected to                     \n",
      "==================================================================================================\n",
      "inputs (InputLayer)             [(None, 2000, 92)]   0                                            \n",
      "__________________________________________________________________________________________________\n",
      "tf_op_layer_split_1 (TensorFlow [(None, 2000, 80), ( 0           inputs[0][0]                     \n",
      "__________________________________________________________________________________________________\n",
      "means (VectorsLayer)            (12, 80)             960         tf_op_layer_split_1[0][0]        \n",
      "__________________________________________________________________________________________________\n",
      "covs (CovarianceMatricesLayer)  (12, 80, 80)         38880       tf_op_layer_split_1[0][0]        \n",
      "__________________________________________________________________________________________________\n",
      "ll_loss (CategoricalLogLikeliho (1,)                 0           tf_op_layer_split_1[0][0]        \n",
      "                                                                 means[0][0]                      \n",
      "                                                                 covs[0][0]                       \n",
      "                                                                 tf_op_layer_split_1[0][1]        \n",
      "==================================================================================================\n",
      "Total params: 39,840\n",
      "Trainable params: 38,880\n",
      "Non-trainable params: 960\n",
      "__________________________________________________________________________________________________\n",
      "Training model\n",
      "Epoch 1/20\n",
      "6/6 [==============================] - 19s 3s/step - rho: 0.2853 - lr: 0.0100 - loss: 224188.8646\n",
      "Epoch 2/20\n",
      "6/6 [==============================] - 13s 2s/step - rho: 0.1866 - lr: 0.0090 - loss: 221365.8333\n",
      "Epoch 3/20\n",
      "6/6 [==============================] - 13s 2s/step - rho: 0.1436 - lr: 0.0082 - loss: 220372.4323\n",
      "Epoch 4/20\n",
      "6/6 [==============================] - 13s 2s/step - rho: 0.1187 - lr: 0.0074 - loss: 219552.7604\n",
      "Epoch 5/20\n",
      "6/6 [==============================] - 13s 2s/step - rho: 0.1022 - lr: 0.0067 - loss: 219104.0286\n",
      "Epoch 6/20\n",
      "6/6 [==============================] - 13s 2s/step - rho: 0.0904 - lr: 0.0061 - loss: 218952.7292\n",
      "Epoch 7/20\n",
      "6/6 [==============================] - 13s 2s/step - rho: 0.0814 - lr: 0.0055 - loss: 218616.1536\n",
      "Epoch 8/20\n",
      "6/6 [==============================] - 13s 2s/step - rho: 0.0743 - lr: 0.0050 - loss: 218594.9297\n",
      "Epoch 9/20\n",
      "6/6 [==============================] - 13s 2s/step - rho: 0.0686 - lr: 0.0045 - loss: 218371.0703\n",
      "Epoch 10/20\n",
      "6/6 [==============================] - 13s 2s/step - rho: 0.0638 - lr: 0.0041 - loss: 218258.6042\n",
      "Epoch 11/20\n",
      "6/6 [==============================] - 13s 2s/step - rho: 0.0597 - lr: 0.0037 - loss: 218158.1302\n",
      "Epoch 12/20\n",
      "6/6 [==============================] - 13s 2s/step - rho: 0.0563 - lr: 0.0033 - loss: 218094.2396\n",
      "Epoch 13/20\n",
      "6/6 [==============================] - 13s 2s/step - rho: 0.0532 - lr: 0.0030 - loss: 218199.2370\n",
      "Epoch 14/20\n",
      "6/6 [==============================] - 13s 2s/step - rho: 0.0506 - lr: 0.0027 - loss: 218001.1276\n",
      "Epoch 15/20\n",
      "6/6 [==============================] - 13s 2s/step - rho: 0.0482 - lr: 0.0025 - loss: 217978.4167\n",
      "Epoch 16/20\n",
      "6/6 [==============================] - 13s 2s/step - rho: 0.0461 - lr: 0.0022 - loss: 217876.2214\n",
      "Epoch 17/20\n",
      "6/6 [==============================] - 13s 2s/step - rho: 0.0442 - lr: 0.0020 - loss: 217925.0859\n",
      "Epoch 18/20\n",
      "6/6 [==============================] - 13s 2s/step - rho: 0.0425 - lr: 0.0018 - loss: 217876.3307\n",
      "Epoch 19/20\n",
      "6/6 [==============================] - 13s 2s/step - rho: 0.0410 - lr: 0.0017 - loss: 217861.9974\n",
      "Epoch 20/20\n",
      "6/6 [==============================] - 14s 2s/step - rho: 0.0395 - lr: 0.0015 - loss: 217866.0573\n"
     ]
    }
   ],
   "source": [
    "# train HMM\n",
    "# Directory to save the model to\n",
    "model_dir = os.path.join('..', 'results', 'cichy_epoched', 'subj1', 'data', '100hz')\n",
    "\n",
    "# GPU settings\n",
    "tf_ops.gpu_growth()\n",
    "\n",
    "# Settings\n",
    "# - If you run out of memory you can reduce the sequence_length\n",
    "#   and/or batch_size.\n",
    "# - You might want to play around with the learning rate.\n",
    "# - Pick the parameters what give you the best final training loss.\n",
    "# - You also want to show your results are robust to the choice\n",
    "#   for n_states.\n",
    "config = Config(\n",
    "    n_states=12,\n",
    "    n_channels=80,\n",
    "    sequence_length=2000,\n",
    "    learn_means=False,\n",
    "    learn_covariances=True,\n",
    "    learn_trans_prob=True,\n",
    "    batch_size=32,\n",
    "    learning_rate=1e-2,\n",
    "    n_epochs=20,\n",
    ")\n",
    "\n",
    "# Load the prepared data\n",
    "# - pass the path to the directory created by Data.save() in prepare_data.py\n",
    "training_data = Data(data_dir)\n",
    "\n",
    "# Build the model\n",
    "model = Model(config)\n",
    "model.summary()\n",
    "\n",
    "# Train the model\n",
    "print(\"Training model\")\n",
    "history = model.fit(training_data)\n",
    "\n",
    "# Save the trained model\n",
    "model.save(model_dir)\n",
    "\n",
    "# Save the training history (contains the loss as a function of epochs)\n",
    "pickle.dump(history, open(model_dir + \"/history.pkl\", \"wb\"))"
   ]
  },
  {
   "cell_type": "code",
   "execution_count": null,
   "metadata": {},
   "outputs": [],
   "source": [
    "# compute stats"
   ]
  }
 ],
 "metadata": {
  "kernelspec": {
   "display_name": "Python 3.8.5 64-bit ('main')",
   "language": "python",
   "name": "python3"
  },
  "language_info": {
   "codemirror_mode": {
    "name": "ipython",
    "version": 3
   },
   "file_extension": ".py",
   "mimetype": "text/x-python",
   "name": "python",
   "nbconvert_exporter": "python",
   "pygments_lexer": "ipython3",
   "version": "3.8.5"
  },
  "orig_nbformat": 4,
  "vscode": {
   "interpreter": {
    "hash": "84a3ebe666650a68380744730c1b34178a4e2d05dc952cdf65b44a0ef828689f"
   }
  }
 },
 "nbformat": 4,
 "nbformat_minor": 2
}
